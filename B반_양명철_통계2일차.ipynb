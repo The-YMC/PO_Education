{
 "cells": [
  {
   "cell_type": "raw",
   "metadata": {},
   "source": [
    "2020년 1월 22일 (수)  이름: (    양 명 철     )    이메일: (   jk00085@naver.com      )"
   ]
  },
  {
   "cell_type": "code",
   "execution_count": 80,
   "metadata": {},
   "outputs": [],
   "source": [
    "import numpy as np\n",
    "from scipy import stats\n",
    "import scipy.stats\n",
    "import pandas as pd\n",
    "import statsmodels.api as sm\n",
    "import matplotlib.pyplot as plt\n",
    "import seaborn as sns\n",
    "from statsmodels.stats.proportion import proportions_ztest"
   ]
  },
  {
   "cell_type": "markdown",
   "metadata": {},
   "source": [
    "# 과제 1"
   ]
  },
  {
   "cell_type": "code",
   "execution_count": 4,
   "metadata": {},
   "outputs": [
    {
     "name": "stdout",
     "output_type": "stream",
     "text": [
      "신뢰구간: [17.83],[21.17]\n"
     ]
    }
   ],
   "source": [
    "# 숙제 / 코딩 + 숙제\n",
    "# 실습 모평균 구간 추정\n",
    "\n",
    "df_prac = pd.DataFrame({\"sample_prac\": [18, 18, 20, 21, 20, 23, 19, 18, 17, 21,\n",
    "                                        22, 20, 20, 21, 20, 19, 19, 18, 17, 19]})\n",
    "\n",
    "lower_prac, upper_prac = stats.norm.interval(0.95, loc = np.mean(df_prac), scale = 3.8/np.sqrt(20))\n",
    "print(\"신뢰구간: {0},{1}\".format(lower_prac.round(2), upper_prac.round(2)))"
   ]
  },
  {
   "cell_type": "markdown",
   "metadata": {},
   "source": [
    "### 손으로 계산해보기"
   ]
  },
  {
   "cell_type": "markdown",
   "metadata": {},
   "source": [
    "$ \\bar{X} \\pm $  $ \\sigma\\over\\sqrt{n} $"
   ]
  },
  {
   "cell_type": "code",
   "execution_count": 12,
   "metadata": {},
   "outputs": [
    {
     "data": {
      "text/plain": [
       "20"
      ]
     },
     "execution_count": 12,
     "metadata": {},
     "output_type": "execute_result"
    }
   ],
   "source": [
    "len(df_prac)"
   ]
  },
  {
   "cell_type": "code",
   "execution_count": 66,
   "metadata": {},
   "outputs": [
    {
     "data": {
      "text/plain": [
       "19.5"
      ]
     },
     "execution_count": 66,
     "metadata": {},
     "output_type": "execute_result"
    }
   ],
   "source": [
    "xbar =np.mean(df_prac[\"sample_prac\"])\n",
    "xbar"
   ]
  },
  {
   "cell_type": "code",
   "execution_count": 64,
   "metadata": {},
   "outputs": [
    {
     "data": {
      "text/plain": [
       "1.6059101370939324"
      ]
     },
     "execution_count": 64,
     "metadata": {},
     "output_type": "execute_result"
    }
   ],
   "source": [
    "std = np.std(df_prac[\"sample_prac\"], ddof =1)\n",
    "std"
   ]
  },
  {
   "cell_type": "code",
   "execution_count": 65,
   "metadata": {},
   "outputs": [
    {
     "data": {
      "text/plain": [
       "1.959963984540054"
      ]
     },
     "execution_count": 65,
     "metadata": {},
     "output_type": "execute_result"
    }
   ],
   "source": [
    "z = stats.norm.ppf(0.975)\n",
    "z"
   ]
  },
  {
   "cell_type": "markdown",
   "metadata": {},
   "source": [
    "$ 19.5 \\pm $  $ 1.96 *$ $ 3.8\\over\\sqrt{20} $"
   ]
  },
  {
   "cell_type": "code",
   "execution_count": 48,
   "metadata": {},
   "outputs": [
    {
     "name": "stdout",
     "output_type": "stream",
     "text": [
      "신뢰구간: 17.83,21.17\n"
     ]
    }
   ],
   "source": [
    "lower = xbar - z * 3.8 /np.sqrt(20)\n",
    "upper = xbar + z * 3.8 /np.sqrt(20)\n",
    "print(\"신뢰구간: {0},{1}\".format(lower.round(2), upper.round(2)))"
   ]
  },
  {
   "cell_type": "code",
   "execution_count": 57,
   "metadata": {},
   "outputs": [
    {
     "data": {
      "text/plain": [
       "17.834576570358156"
      ]
     },
     "execution_count": 57,
     "metadata": {},
     "output_type": "execute_result"
    }
   ],
   "source": [
    "# 하한값\n",
    "19.5 - 1.96 *3.8/np.sqrt(20)"
   ]
  },
  {
   "cell_type": "code",
   "execution_count": 58,
   "metadata": {},
   "outputs": [
    {
     "data": {
      "text/plain": [
       "21.165423429641844"
      ]
     },
     "execution_count": 58,
     "metadata": {},
     "output_type": "execute_result"
    }
   ],
   "source": [
    "# 상한값\n",
    "19.5 + 1.96 *3.8/np.sqrt(20)"
   ]
  },
  {
   "cell_type": "markdown",
   "metadata": {},
   "source": [
    "# 과제 2"
   ]
  },
  {
   "cell_type": "code",
   "execution_count": 54,
   "metadata": {},
   "outputs": [
    {
     "name": "stdout",
     "output_type": "stream",
     "text": [
      "신뢰구간: [70.6],[72.4]\n"
     ]
    }
   ],
   "source": [
    "# 연습 모평균 추정 (모표준편차 모르는 경우)\n",
    "# df 를 직접 입력\n",
    "df_pr = pd.DataFrame({\"sample_pr\": [73, 71, 74, 69, 70, 73, 70, 68, 75, 72, \n",
    "                                 70, 72, 73, 70, 70, 72, 71, 70, 75, 72]})\n",
    "\n",
    "# 정규분포 구간 추정 함수 실행\n",
    "lower_pr, upper_pr = stats.t.interval(0.95, len(df_pr)-1, loc = np.mean(df_pr), scale = scipy.stats.sem(df_pr, ddof =1))\n",
    "print(\"신뢰구간: {0},{1}\".format(lower_pr.round(2), upper_pr.round(2)))"
   ]
  },
  {
   "cell_type": "markdown",
   "metadata": {},
   "source": [
    "### 손으로 계산해보기"
   ]
  },
  {
   "cell_type": "code",
   "execution_count": 61,
   "metadata": {},
   "outputs": [
    {
     "name": "stdout",
     "output_type": "stream",
     "text": [
      "71.5 1.9330913339165219 1.959963984540054\n"
     ]
    }
   ],
   "source": [
    "xbar_pr =np.mean(df_pr[\"sample_pr\"])\n",
    "std_pr = np.std(df_pr[\"sample_pr\"], ddof =1)\n",
    "z_pr = stats.norm.ppf(0.975)\n",
    "print(xbar_pr, std_pr, z_pr)"
   ]
  },
  {
   "cell_type": "code",
   "execution_count": 73,
   "metadata": {},
   "outputs": [
    {
     "name": "stdout",
     "output_type": "stream",
     "text": [
      "신뢰구간: 70.65,72.35\n"
     ]
    }
   ],
   "source": [
    "lower = xbar_pr - z_pr * 1.933 /np.sqrt(20)\n",
    "upper = xbar_pr + z_pr * 1.933 /np.sqrt(20)\n",
    "print(\"신뢰구간: {0},{1}\".format(lower.round(2), upper.round(2)))"
   ]
  },
  {
   "cell_type": "code",
   "execution_count": 74,
   "metadata": {},
   "outputs": [
    {
     "data": {
      "text/plain": [
       "70.6528253975006"
      ]
     },
     "execution_count": 74,
     "metadata": {},
     "output_type": "execute_result"
    }
   ],
   "source": [
    "# 하한값\n",
    "71.5 - 1.96 *1.933/np.sqrt(20)"
   ]
  },
  {
   "cell_type": "code",
   "execution_count": 75,
   "metadata": {},
   "outputs": [
    {
     "data": {
      "text/plain": [
       "72.3471746024994"
      ]
     },
     "execution_count": 75,
     "metadata": {},
     "output_type": "execute_result"
    }
   ],
   "source": [
    "# 상한값\n",
    "71.5 + 1.96 *1.933/np.sqrt(20)"
   ]
  },
  {
   "cell_type": "markdown",
   "metadata": {},
   "source": [
    "# 문제 3"
   ]
  },
  {
   "cell_type": "code",
   "execution_count": 83,
   "metadata": {},
   "outputs": [],
   "source": [
    "from scipy.stats import shapiro"
   ]
  },
  {
   "cell_type": "code",
   "execution_count": 97,
   "metadata": {},
   "outputs": [
    {
     "name": "stdout",
     "output_type": "stream",
     "text": [
      "(0.8473219275474548, 0.053975414484739304)\n"
     ]
    }
   ],
   "source": [
    "# 평균 검정(모집단 표준편차를 모르는 경우)\n",
    "\n",
    "# df를 직접 입력\n",
    "df_call = pd.DataFrame({'call': [85.0, 79.0, 79.1, 79.9, 81.6, 78.6, 85.4, 83.4, 78.1, 79.2]})\n",
    "\n",
    "# 정규성 검정\n",
    "shapiro(df_call)\n",
    "print(shapiro(df_call))"
   ]
  },
  {
   "cell_type": "raw",
   "metadata": {},
   "source": [
    "# 정규성 검정\n",
    "[shapiro 검정 결과]\n",
    "1. 가설 수립\n",
    "귀무가설: 정규성이 있다.\n",
    "대립가설: 정규성이 없다.\n",
    "\n",
    "2. 유의수준: 알파 = 0.05\n",
    "3. 검정통계량은 0.85\n",
    "\n",
    "4. p-value가 0.054이므로, 유의 수준 0.05보다 크다.\n",
    "유의수준 5%에서 귀무가설 기각을 할 수 없다.\n",
    "즉, 정규성이 없다고 할 수 없다. (정규성이 있다.)"
   ]
  },
  {
   "cell_type": "code",
   "execution_count": 94,
   "metadata": {},
   "outputs": [
    {
     "name": "stdout",
     "output_type": "stream",
     "text": [
      "Ttest_1sampResult(statistic=array([3.37924492]), pvalue=array([0.00813672]))\n"
     ]
    }
   ],
   "source": [
    "# 1-Sample t-test\n",
    "t_result = stats.ttest_1samp(df_call, 78.0)\n",
    "print(t_result)"
   ]
  },
  {
   "cell_type": "code",
   "execution_count": 95,
   "metadata": {},
   "outputs": [
    {
     "name": "stdout",
     "output_type": "stream",
     "text": [
      "[3.379] [0.008]\n"
     ]
    }
   ],
   "source": [
    "# 1-Sample t-test의 t값 p값 저장\n",
    "t, p = t_result.statistic.round(3), t_result.pvalue.round(3)\n",
    "print(t, p)"
   ]
  },
  {
   "cell_type": "code",
   "execution_count": 96,
   "metadata": {},
   "outputs": [
    {
     "name": "stdout",
     "output_type": "stream",
     "text": [
      "1-Sample t-test\n",
      "t 통계량 : [3.379]\n",
      "p-value : [0.008]\n"
     ]
    }
   ],
   "source": [
    "# 1-Sample t-test의 t값 p값 출력\n",
    "print(\"1-Sample t-test\")\n",
    "print(\"t 통계량 : {}\".format(t))\n",
    "print(\"p-value : {}\".format(p))"
   ]
  },
  {
   "cell_type": "raw",
   "metadata": {},
   "source": [
    "# 1-Sample t-test 검정\n",
    "[1-Sample t-test 검정 결과]\n",
    "1. 가설 수립\n",
    "귀무가설: 고객만족도 평균이 78이다. (고객 만족도의 변화가 없다.)\n",
    "대립가설: 고객만족도 평균은 78이 아니다. (고객 만족도의 변화가 있다.)\n",
    "\n",
    "2. 유의수준: 알파 = 0.05\n",
    "3. t 검정통계량 = 3.379\n",
    "\n",
    "4. p-value가 0.008이므로, 유의 수준 0.05보다 적다.\n",
    "유의수준 5%에서 귀무가설 기각을 할 수 있다.\n",
    "즉, 고객만족도 평균은 78이 아니다. (고객 만족도의 변화가 있다.)"
   ]
  }
 ],
 "metadata": {
  "kernelspec": {
   "display_name": "Python 3",
   "language": "python",
   "name": "python3"
  },
  "language_info": {
   "codemirror_mode": {
    "name": "ipython",
    "version": 3
   },
   "file_extension": ".py",
   "mimetype": "text/x-python",
   "name": "python",
   "nbconvert_exporter": "python",
   "pygments_lexer": "ipython3",
   "version": "3.7.4"
  }
 },
 "nbformat": 4,
 "nbformat_minor": 2
}
