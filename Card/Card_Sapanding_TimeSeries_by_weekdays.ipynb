{
 "cells": [
  {
   "cell_type": "code",
   "execution_count": 2,
   "metadata": {},
   "outputs": [],
   "source": [
    "import pandas as pd\n",
    "import numpy as np\n",
    "import matplotlib\n",
    "import matplotlib.pyplot as plt\n",
    "import seaborn as sns\n",
    "from pandas import DataFrame"
   ]
  },
  {
   "cell_type": "code",
   "execution_count": 3,
   "metadata": {},
   "outputs": [],
   "source": [
    "matplotlib.rc(\"font\", family = \"Malgun Gothic\")"
   ]
  },
  {
   "cell_type": "code",
   "execution_count": 4,
   "metadata": {},
   "outputs": [
    {
     "data": {
      "text/html": [
       "<div>\n",
       "<style scoped>\n",
       "    .dataframe tbody tr th:only-of-type {\n",
       "        vertical-align: middle;\n",
       "    }\n",
       "\n",
       "    .dataframe tbody tr th {\n",
       "        vertical-align: top;\n",
       "    }\n",
       "\n",
       "    .dataframe thead th {\n",
       "        text-align: right;\n",
       "    }\n",
       "</style>\n",
       "<table border=\"1\" class=\"dataframe\">\n",
       "  <thead>\n",
       "    <tr style=\"text-align: right;\">\n",
       "      <th></th>\n",
       "      <th>사용일자</th>\n",
       "      <th>year</th>\n",
       "      <th>month</th>\n",
       "      <th>day</th>\n",
       "      <th>date</th>\n",
       "      <th>weekdays_num</th>\n",
       "      <th>weekdays</th>\n",
       "      <th>구</th>\n",
       "      <th>소비처</th>\n",
       "      <th>주소</th>\n",
       "      <th>소비처업종</th>\n",
       "      <th>성별</th>\n",
       "      <th>연령</th>\n",
       "      <th>age_group</th>\n",
       "      <th>사용횟수</th>\n",
       "      <th>사용금액</th>\n",
       "      <th>1회평균사용금액</th>\n",
       "      <th>사용카드</th>\n",
       "      <th>card_category</th>\n",
       "      <th>신용카드</th>\n",
       "    </tr>\n",
       "  </thead>\n",
       "  <tbody>\n",
       "    <tr>\n",
       "      <th>0</th>\n",
       "      <td>20180409</td>\n",
       "      <td>2018</td>\n",
       "      <td>4</td>\n",
       "      <td>9</td>\n",
       "      <td>2018-04-09</td>\n",
       "      <td>2</td>\n",
       "      <td>Mon</td>\n",
       "      <td>종로구</td>\n",
       "      <td>종로1,2,3,4가동</td>\n",
       "      <td>종로구 종로1,2,3,4가동</td>\n",
       "      <td>의료기관</td>\n",
       "      <td>남성</td>\n",
       "      <td>50</td>\n",
       "      <td>5</td>\n",
       "      <td>512</td>\n",
       "      <td>2210348</td>\n",
       "      <td>4317.085938</td>\n",
       "      <td>96</td>\n",
       "      <td>life</td>\n",
       "      <td>1</td>\n",
       "    </tr>\n",
       "    <tr>\n",
       "      <th>1</th>\n",
       "      <td>20190131</td>\n",
       "      <td>2019</td>\n",
       "      <td>1</td>\n",
       "      <td>31</td>\n",
       "      <td>2019-01-31</td>\n",
       "      <td>5</td>\n",
       "      <td>Thu</td>\n",
       "      <td>노원구</td>\n",
       "      <td>상계6,7동</td>\n",
       "      <td>노원구 상계6,7동</td>\n",
       "      <td>연료판매</td>\n",
       "      <td>여성</td>\n",
       "      <td>45</td>\n",
       "      <td>4</td>\n",
       "      <td>19828</td>\n",
       "      <td>1603806</td>\n",
       "      <td>80.8859189</td>\n",
       "      <td>171</td>\n",
       "      <td>oil</td>\n",
       "      <td>1</td>\n",
       "    </tr>\n",
       "    <tr>\n",
       "      <th>2</th>\n",
       "      <td>20190228</td>\n",
       "      <td>2019</td>\n",
       "      <td>2</td>\n",
       "      <td>28</td>\n",
       "      <td>2019-02-28</td>\n",
       "      <td>5</td>\n",
       "      <td>Thu</td>\n",
       "      <td>노원구</td>\n",
       "      <td>상계6,7동</td>\n",
       "      <td>노원구 상계6,7동</td>\n",
       "      <td>연료판매</td>\n",
       "      <td>여성</td>\n",
       "      <td>45</td>\n",
       "      <td>4</td>\n",
       "      <td>20082</td>\n",
       "      <td>1586069</td>\n",
       "      <td>78.9796335</td>\n",
       "      <td>173</td>\n",
       "      <td>oil</td>\n",
       "      <td>1</td>\n",
       "    </tr>\n",
       "    <tr>\n",
       "      <th>3</th>\n",
       "      <td>20190131</td>\n",
       "      <td>2019</td>\n",
       "      <td>1</td>\n",
       "      <td>31</td>\n",
       "      <td>2019-01-31</td>\n",
       "      <td>5</td>\n",
       "      <td>Thu</td>\n",
       "      <td>노원구</td>\n",
       "      <td>상계6,7동</td>\n",
       "      <td>노원구 상계6,7동</td>\n",
       "      <td>연료판매</td>\n",
       "      <td>여성</td>\n",
       "      <td>40</td>\n",
       "      <td>4</td>\n",
       "      <td>14130</td>\n",
       "      <td>1132057</td>\n",
       "      <td>80.11726822</td>\n",
       "      <td>170</td>\n",
       "      <td>oil</td>\n",
       "      <td>1</td>\n",
       "    </tr>\n",
       "    <tr>\n",
       "      <th>4</th>\n",
       "      <td>20190228</td>\n",
       "      <td>2019</td>\n",
       "      <td>2</td>\n",
       "      <td>28</td>\n",
       "      <td>2019-02-28</td>\n",
       "      <td>5</td>\n",
       "      <td>Thu</td>\n",
       "      <td>노원구</td>\n",
       "      <td>상계6,7동</td>\n",
       "      <td>노원구 상계6,7동</td>\n",
       "      <td>연료판매</td>\n",
       "      <td>남성</td>\n",
       "      <td>50</td>\n",
       "      <td>5</td>\n",
       "      <td>9732</td>\n",
       "      <td>886578</td>\n",
       "      <td>91.09926017</td>\n",
       "      <td>174</td>\n",
       "      <td>oil</td>\n",
       "      <td>1</td>\n",
       "    </tr>\n",
       "  </tbody>\n",
       "</table>\n",
       "</div>"
      ],
      "text/plain": [
       "       사용일자  year  month  day        date  weekdays_num weekdays    구  \\\n",
       "0  20180409  2018      4    9  2018-04-09             2      Mon  종로구   \n",
       "1  20190131  2019      1   31  2019-01-31             5      Thu  노원구   \n",
       "2  20190228  2019      2   28  2019-02-28             5      Thu  노원구   \n",
       "3  20190131  2019      1   31  2019-01-31             5      Thu  노원구   \n",
       "4  20190228  2019      2   28  2019-02-28             5      Thu  노원구   \n",
       "\n",
       "           소비처               주소 소비처업종  성별  연령  age_group   사용횟수     사용금액  \\\n",
       "0  종로1,2,3,4가동  종로구 종로1,2,3,4가동  의료기관  남성  50          5    512  2210348   \n",
       "1       상계6,7동       노원구 상계6,7동  연료판매  여성  45          4  19828  1603806   \n",
       "2       상계6,7동       노원구 상계6,7동  연료판매  여성  45          4  20082  1586069   \n",
       "3       상계6,7동       노원구 상계6,7동  연료판매  여성  40          4  14130  1132057   \n",
       "4       상계6,7동       노원구 상계6,7동  연료판매  남성  50          5   9732   886578   \n",
       "\n",
       "      1회평균사용금액  사용카드 card_category  신용카드  \n",
       "0  4317.085938    96          life     1  \n",
       "1   80.8859189   171           oil     1  \n",
       "2   78.9796335   173           oil     1  \n",
       "3  80.11726822   170           oil     1  \n",
       "4  91.09926017   174           oil     1  "
      ]
     },
     "execution_count": 4,
     "metadata": {},
     "output_type": "execute_result"
    }
   ],
   "source": [
    "df_raw = pd.read_csv(r\"Card_Spanding_cl5.csv\", engine=\"python\", encoding='utf-8-sig')\n",
    "df_raw.head()"
   ]
  },
  {
   "cell_type": "code",
   "execution_count": 5,
   "metadata": {},
   "outputs": [
    {
     "data": {
      "text/html": [
       "<div>\n",
       "<style scoped>\n",
       "    .dataframe tbody tr th:only-of-type {\n",
       "        vertical-align: middle;\n",
       "    }\n",
       "\n",
       "    .dataframe tbody tr th {\n",
       "        vertical-align: top;\n",
       "    }\n",
       "\n",
       "    .dataframe thead th {\n",
       "        text-align: right;\n",
       "    }\n",
       "</style>\n",
       "<table border=\"1\" class=\"dataframe\">\n",
       "  <thead>\n",
       "    <tr style=\"text-align: right;\">\n",
       "      <th></th>\n",
       "      <th>사용일자</th>\n",
       "      <th>year</th>\n",
       "      <th>month</th>\n",
       "      <th>day</th>\n",
       "      <th>date</th>\n",
       "      <th>weekdays_num</th>\n",
       "      <th>weekdays</th>\n",
       "      <th>구</th>\n",
       "      <th>소비처</th>\n",
       "      <th>주소</th>\n",
       "      <th>소비처업종</th>\n",
       "      <th>성별</th>\n",
       "      <th>연령</th>\n",
       "      <th>age_group</th>\n",
       "      <th>사용횟수</th>\n",
       "      <th>사용금액</th>\n",
       "      <th>1회평균사용금액</th>\n",
       "      <th>사용카드</th>\n",
       "      <th>card_category</th>\n",
       "      <th>신용카드</th>\n",
       "    </tr>\n",
       "  </thead>\n",
       "  <tbody>\n",
       "    <tr>\n",
       "      <th>0</th>\n",
       "      <td>20180409</td>\n",
       "      <td>2018</td>\n",
       "      <td>4</td>\n",
       "      <td>9</td>\n",
       "      <td>2018-04-09</td>\n",
       "      <td>2</td>\n",
       "      <td>Mon</td>\n",
       "      <td>종로구</td>\n",
       "      <td>종로1,2,3,4가동</td>\n",
       "      <td>종로구 종로1,2,3,4가동</td>\n",
       "      <td>의료기관</td>\n",
       "      <td>남성</td>\n",
       "      <td>50</td>\n",
       "      <td>5</td>\n",
       "      <td>512</td>\n",
       "      <td>2210348</td>\n",
       "      <td>4317.085938</td>\n",
       "      <td>96</td>\n",
       "      <td>life</td>\n",
       "      <td>1</td>\n",
       "    </tr>\n",
       "    <tr>\n",
       "      <th>1</th>\n",
       "      <td>20190131</td>\n",
       "      <td>2019</td>\n",
       "      <td>1</td>\n",
       "      <td>31</td>\n",
       "      <td>2019-01-31</td>\n",
       "      <td>5</td>\n",
       "      <td>Thu</td>\n",
       "      <td>노원구</td>\n",
       "      <td>상계6,7동</td>\n",
       "      <td>노원구 상계6,7동</td>\n",
       "      <td>연료판매</td>\n",
       "      <td>여성</td>\n",
       "      <td>45</td>\n",
       "      <td>4</td>\n",
       "      <td>19828</td>\n",
       "      <td>1603806</td>\n",
       "      <td>80.8859189</td>\n",
       "      <td>171</td>\n",
       "      <td>oil</td>\n",
       "      <td>1</td>\n",
       "    </tr>\n",
       "    <tr>\n",
       "      <th>2</th>\n",
       "      <td>20190228</td>\n",
       "      <td>2019</td>\n",
       "      <td>2</td>\n",
       "      <td>28</td>\n",
       "      <td>2019-02-28</td>\n",
       "      <td>5</td>\n",
       "      <td>Thu</td>\n",
       "      <td>노원구</td>\n",
       "      <td>상계6,7동</td>\n",
       "      <td>노원구 상계6,7동</td>\n",
       "      <td>연료판매</td>\n",
       "      <td>여성</td>\n",
       "      <td>45</td>\n",
       "      <td>4</td>\n",
       "      <td>20082</td>\n",
       "      <td>1586069</td>\n",
       "      <td>78.9796335</td>\n",
       "      <td>173</td>\n",
       "      <td>oil</td>\n",
       "      <td>1</td>\n",
       "    </tr>\n",
       "    <tr>\n",
       "      <th>3</th>\n",
       "      <td>20190131</td>\n",
       "      <td>2019</td>\n",
       "      <td>1</td>\n",
       "      <td>31</td>\n",
       "      <td>2019-01-31</td>\n",
       "      <td>5</td>\n",
       "      <td>Thu</td>\n",
       "      <td>노원구</td>\n",
       "      <td>상계6,7동</td>\n",
       "      <td>노원구 상계6,7동</td>\n",
       "      <td>연료판매</td>\n",
       "      <td>여성</td>\n",
       "      <td>40</td>\n",
       "      <td>4</td>\n",
       "      <td>14130</td>\n",
       "      <td>1132057</td>\n",
       "      <td>80.11726822</td>\n",
       "      <td>170</td>\n",
       "      <td>oil</td>\n",
       "      <td>1</td>\n",
       "    </tr>\n",
       "    <tr>\n",
       "      <th>4</th>\n",
       "      <td>20190228</td>\n",
       "      <td>2019</td>\n",
       "      <td>2</td>\n",
       "      <td>28</td>\n",
       "      <td>2019-02-28</td>\n",
       "      <td>5</td>\n",
       "      <td>Thu</td>\n",
       "      <td>노원구</td>\n",
       "      <td>상계6,7동</td>\n",
       "      <td>노원구 상계6,7동</td>\n",
       "      <td>연료판매</td>\n",
       "      <td>남성</td>\n",
       "      <td>50</td>\n",
       "      <td>5</td>\n",
       "      <td>9732</td>\n",
       "      <td>886578</td>\n",
       "      <td>91.09926017</td>\n",
       "      <td>174</td>\n",
       "      <td>oil</td>\n",
       "      <td>1</td>\n",
       "    </tr>\n",
       "  </tbody>\n",
       "</table>\n",
       "</div>"
      ],
      "text/plain": [
       "       사용일자  year  month  day        date  weekdays_num weekdays    구  \\\n",
       "0  20180409  2018      4    9  2018-04-09             2      Mon  종로구   \n",
       "1  20190131  2019      1   31  2019-01-31             5      Thu  노원구   \n",
       "2  20190228  2019      2   28  2019-02-28             5      Thu  노원구   \n",
       "3  20190131  2019      1   31  2019-01-31             5      Thu  노원구   \n",
       "4  20190228  2019      2   28  2019-02-28             5      Thu  노원구   \n",
       "\n",
       "           소비처               주소 소비처업종  성별  연령  age_group   사용횟수     사용금액  \\\n",
       "0  종로1,2,3,4가동  종로구 종로1,2,3,4가동  의료기관  남성  50          5    512  2210348   \n",
       "1       상계6,7동       노원구 상계6,7동  연료판매  여성  45          4  19828  1603806   \n",
       "2       상계6,7동       노원구 상계6,7동  연료판매  여성  45          4  20082  1586069   \n",
       "3       상계6,7동       노원구 상계6,7동  연료판매  여성  40          4  14130  1132057   \n",
       "4       상계6,7동       노원구 상계6,7동  연료판매  남성  50          5   9732   886578   \n",
       "\n",
       "      1회평균사용금액  사용카드 card_category  신용카드  \n",
       "0  4317.085938    96          life     1  \n",
       "1   80.8859189   171           oil     1  \n",
       "2   78.9796335   173           oil     1  \n",
       "3  80.11726822   170           oil     1  \n",
       "4  91.09926017   174           oil     1  "
      ]
     },
     "execution_count": 5,
     "metadata": {},
     "output_type": "execute_result"
    }
   ],
   "source": [
    "df_raw1 = df_raw[df_raw[\"신용카드\"] ==1]\n",
    "df_raw1.head()"
   ]
  },
  {
   "cell_type": "code",
   "execution_count": 6,
   "metadata": {},
   "outputs": [],
   "source": [
    "weekdays_spending = df_raw1.groupby([\"weekdays\"])[\"사용금액\"].sum()\n",
    "weekdays_spending_df = pd.DataFrame(weekdays_spending).reset_index()"
   ]
  },
  {
   "cell_type": "code",
   "execution_count": 7,
   "metadata": {},
   "outputs": [
    {
     "data": {
      "text/html": [
       "<div>\n",
       "<style scoped>\n",
       "    .dataframe tbody tr th:only-of-type {\n",
       "        vertical-align: middle;\n",
       "    }\n",
       "\n",
       "    .dataframe tbody tr th {\n",
       "        vertical-align: top;\n",
       "    }\n",
       "\n",
       "    .dataframe thead th {\n",
       "        text-align: right;\n",
       "    }\n",
       "</style>\n",
       "<table border=\"1\" class=\"dataframe\">\n",
       "  <thead>\n",
       "    <tr style=\"text-align: right;\">\n",
       "      <th></th>\n",
       "      <th>weekdays</th>\n",
       "      <th>사용금액</th>\n",
       "    </tr>\n",
       "  </thead>\n",
       "  <tbody>\n",
       "    <tr>\n",
       "      <th>0</th>\n",
       "      <td>Fri</td>\n",
       "      <td>37989413</td>\n",
       "    </tr>\n",
       "    <tr>\n",
       "      <th>1</th>\n",
       "      <td>Mon</td>\n",
       "      <td>36957148</td>\n",
       "    </tr>\n",
       "    <tr>\n",
       "      <th>2</th>\n",
       "      <td>Sat</td>\n",
       "      <td>38030814</td>\n",
       "    </tr>\n",
       "    <tr>\n",
       "      <th>3</th>\n",
       "      <td>Sun</td>\n",
       "      <td>28983393</td>\n",
       "    </tr>\n",
       "    <tr>\n",
       "      <th>4</th>\n",
       "      <td>Thu</td>\n",
       "      <td>42456882</td>\n",
       "    </tr>\n",
       "    <tr>\n",
       "      <th>5</th>\n",
       "      <td>Tue</td>\n",
       "      <td>35409616</td>\n",
       "    </tr>\n",
       "    <tr>\n",
       "      <th>6</th>\n",
       "      <td>Wed</td>\n",
       "      <td>33395758</td>\n",
       "    </tr>\n",
       "  </tbody>\n",
       "</table>\n",
       "</div>"
      ],
      "text/plain": [
       "  weekdays      사용금액\n",
       "0      Fri  37989413\n",
       "1      Mon  36957148\n",
       "2      Sat  38030814\n",
       "3      Sun  28983393\n",
       "4      Thu  42456882\n",
       "5      Tue  35409616\n",
       "6      Wed  33395758"
      ]
     },
     "execution_count": 7,
     "metadata": {},
     "output_type": "execute_result"
    }
   ],
   "source": [
    "weekdays_spending_df"
   ]
  },
  {
   "cell_type": "code",
   "execution_count": 8,
   "metadata": {},
   "outputs": [
    {
     "data": {
      "text/plain": [
       "<BarContainer object of 7 artists>"
      ]
     },
     "execution_count": 8,
     "metadata": {},
     "output_type": "execute_result"
    },
    {
     "data": {
      "image/png": "[encoded data removed]",
      "text/plain": [
       "<Figure size 432x288 with 1 Axes>"
      ]
     },
     "metadata": {
      "needs_background": "light"
     },
     "output_type": "display_data"
    }
   ],
   "source": [
    "# 전체 신용카드 요일별 사용 금액\n",
    "plt.bar(weekdays_spending_df.weekdays, weekdays_spending_df.사용금액)\n"
   ]
  },
  {
   "cell_type": "code",
   "execution_count": 9,
   "metadata": {},
   "outputs": [
    {
     "data": {
      "text/plain": [
       "<BarContainer object of 7 artists>"
      ]
     },
     "execution_count": 9,
     "metadata": {},
     "output_type": "execute_result"
    },
    {
     "data": {
      "image/png": "[encoded data removed]",
      "text/plain": [
       "<Figure size 432x288 with 1 Axes>"
      ]
     },
     "metadata": {
      "needs_background": "light"
     },
     "output_type": "display_data"
    }
   ],
   "source": [
    "weekdays_spending = df_raw1.groupby([\"weekdays\"])[\"사용횟수\"].sum()\n",
    "weekdays_spending_df = pd.DataFrame(weekdays_spending).reset_index()\n",
    "\n",
    "# 전체 신용카드 요일별 사용 횟수\n",
    "plt.bar(weekdays_spending_df.weekdays, weekdays_spending_df.사용횟수)"
   ]
  },
  {
   "cell_type": "markdown",
   "metadata": {},
   "source": [
    "# 20대 특성"
   ]
  },
  {
   "cell_type": "code",
   "execution_count": 10,
   "metadata": {},
   "outputs": [
    {
     "data": {
      "text/plain": [
       "<BarContainer object of 7 artists>"
      ]
     },
     "execution_count": 10,
     "metadata": {},
     "output_type": "execute_result"
    },
    {
     "data": {
      "image/png": "[encoded data removed]",
      "text/plain": [
       "<Figure size 432x288 with 1 Axes>"
      ]
     },
     "metadata": {
      "needs_background": "light"
     },
     "output_type": "display_data"
    }
   ],
   "source": [
    "# 20대들의 요일별 사용 금액\n",
    "twenty = df_raw1[df_raw1[\"age_group\"]==2]\n",
    "df_date_twenty = twenty.groupby([\"weekdays\"])['사용금액'].sum()\n",
    "df_date_twenty_weekdays = pd.DataFrame(df_date_twenty).reset_index()\n",
    "plt.bar(df_date_twenty_weekdays.weekdays, df_date_twenty_weekdays.사용금액)\n"
   ]
  },
  {
   "cell_type": "code",
   "execution_count": 11,
   "metadata": {},
   "outputs": [
    {
     "data": {
      "text/plain": [
       "<BarContainer object of 7 artists>"
      ]
     },
     "execution_count": 11,
     "metadata": {},
     "output_type": "execute_result"
    },
    {
     "data": {
      "image/png": "[encoded data removed]",
      "text/plain": [
       "<Figure size 432x288 with 1 Axes>"
      ]
     },
     "metadata": {
      "needs_background": "light"
     },
     "output_type": "display_data"
    }
   ],
   "source": [
    "# 20대들의 요일별 사용 횟수`\n",
    "twenty = df_raw1[df_raw1[\"age_group\"]==2]\n",
    "df_date_twenty = twenty.groupby([\"weekdays\"])['사용횟수'].sum()\n",
    "df_date_twenty_weekdays = pd.DataFrame(df_date_twenty).reset_index()\n",
    "plt.bar(df_date_twenty_weekdays.weekdays, df_date_twenty_weekdays.사용횟수)\n"
   ]
  },
  {
   "cell_type": "code",
   "execution_count": 18,
   "metadata": {},
   "outputs": [
    {
     "data": {
      "text/plain": [
       "array(['유통업', '서적문구', '신변잡화', '의료기관', '가전', '의복', '보건위생', '자동차판매', '주방용품',\n",
       "       '광학제품', '직물', '사무통신', '레저업소', '수리서비스', '가구', '자동차정비', '전기', '요식업소',\n",
       "       '연료판매', '문화취미', '음료식품'], dtype=object)"
      ]
     },
     "execution_count": 18,
     "metadata": {},
     "output_type": "execute_result"
    }
   ],
   "source": [
    "twenty[\"소비처업종\"].unique()"
   ]
  },
  {
   "cell_type": "code",
   "execution_count": 25,
   "metadata": {},
   "outputs": [
    {
     "data": {
      "text/plain": [
       "<BarContainer object of 7 artists>"
      ]
     },
     "execution_count": 25,
     "metadata": {},
     "output_type": "execute_result"
    },
    {
     "data": {
      "image/png": "[encoded data removed]",
      "text/plain": [
       "<Figure size 432x288 with 1 Axes>"
      ]
     },
     "metadata": {
      "needs_background": "light"
     },
     "output_type": "display_data"
    }
   ],
   "source": [
    "twenty\n",
    "df_date_twenty_up = twenty[twenty[\"소비처업종\"] ==\"유통업\"].groupby([\"weekdays\",\"소비처업종\"])['사용횟수'].sum()\n",
    "df_date_twenty_weekdays_up = pd.DataFrame(df_date_twenty_up).reset_index()\n",
    "plt.bar(df_date_twenty_weekdays_up.weekdays, df_date_twenty_weekdays_up.사용횟수)\n"
   ]
  },
  {
   "cell_type": "code",
   "execution_count": 27,
   "metadata": {},
   "outputs": [
    {
     "data": {
      "text/plain": [
       "<BarContainer object of 7 artists>"
      ]
     },
     "execution_count": 27,
     "metadata": {},
     "output_type": "execute_result"
    },
    {
     "data": {
      "image/png": "[encoded data removed]",
      "text/plain": [
       "<Figure size 432x288 with 1 Axes>"
      ]
     },
     "metadata": {
      "needs_background": "light"
     },
     "output_type": "display_data"
    }
   ],
   "source": [
    "twenty\n",
    "df_date_twenty_up = twenty[twenty[\"소비처업종\"] ==\"요식업소\"].groupby([\"weekdays\",\"소비처업종\"])['사용횟수'].sum()\n",
    "df_date_twenty_weekdays_up = pd.DataFrame(df_date_twenty_up).reset_index()\n",
    "plt.bar(df_date_twenty_weekdays_up.weekdays, df_date_twenty_weekdays_up.사용횟수)\n"
   ]
  },
  {
   "cell_type": "code",
   "execution_count": 28,
   "metadata": {},
   "outputs": [
    {
     "data": {
      "text/plain": [
       "<BarContainer object of 7 artists>"
      ]
     },
     "execution_count": 28,
     "metadata": {},
     "output_type": "execute_result"
    },
    {
     "data": {
      "image/png": "[encoded data removed]",
      "text/plain": [
       "<Figure size 432x288 with 1 Axes>"
      ]
     },
     "metadata": {
      "needs_background": "light"
     },
     "output_type": "display_data"
    }
   ],
   "source": [
    "twenty\n",
    "df_date_twenty_up = twenty[twenty[\"소비처업종\"] ==\"의복\"].groupby([\"weekdays\",\"소비처업종\"])['사용횟수'].sum()\n",
    "df_date_twenty_weekdays_up = pd.DataFrame(df_date_twenty_up).reset_index()\n",
    "plt.bar(df_date_twenty_weekdays_up.weekdays, df_date_twenty_weekdays_up.사용횟수)\n"
   ]
  },
  {
   "cell_type": "code",
   "execution_count": 31,
   "metadata": {},
   "outputs": [
    {
     "data": {
      "text/plain": [
       "<BarContainer object of 7 artists>"
      ]
     },
     "execution_count": 31,
     "metadata": {},
     "output_type": "execute_result"
    },
    {
     "data": {
      "image/png": "[encoded data removed]",
      "text/plain": [
       "<Figure size 432x288 with 1 Axes>"
      ]
     },
     "metadata": {
      "needs_background": "light"
     },
     "output_type": "display_data"
    }
   ],
   "source": [
    "twenty\n",
    "df_date_twenty_up = twenty[twenty[\"소비처업종\"] ==\"서적문구\"].groupby([\"weekdays\",\"소비처업종\"])['사용횟수'].sum()\n",
    "df_date_twenty_weekdays_up = pd.DataFrame(df_date_twenty_up).reset_index()\n",
    "plt.bar(df_date_twenty_weekdays_up.weekdays, df_date_twenty_weekdays_up.사용횟수)\n"
   ]
  },
  {
   "cell_type": "code",
   "execution_count": 32,
   "metadata": {},
   "outputs": [
    {
     "data": {
      "text/plain": [
       "<BarContainer object of 7 artists>"
      ]
     },
     "execution_count": 32,
     "metadata": {},
     "output_type": "execute_result"
    },
    {
     "data": {
      "image/png": "[encoded data removed]",
      "text/plain": [
       "<Figure size 432x288 with 1 Axes>"
      ]
     },
     "metadata": {
      "needs_background": "light"
     },
     "output_type": "display_data"
    }
   ],
   "source": [
    "twenty\n",
    "df_date_twenty_up = twenty[twenty[\"소비처업종\"] ==\"신변잡화\"].groupby([\"weekdays\",\"소비처업종\"])['사용횟수'].sum()\n",
    "df_date_twenty_weekdays_up = pd.DataFrame(df_date_twenty_up).reset_index()\n",
    "plt.bar(df_date_twenty_weekdays_up.weekdays, df_date_twenty_weekdays_up.사용횟수)\n"
   ]
  },
  {
   "cell_type": "code",
   "execution_count": 33,
   "metadata": {},
   "outputs": [
    {
     "data": {
      "text/plain": [
       "<BarContainer object of 7 artists>"
      ]
     },
     "execution_count": 33,
     "metadata": {},
     "output_type": "execute_result"
    },
    {
     "data": {
      "image/png": "[encoded data removed]",
      "text/plain": [
       "<Figure size 432x288 with 1 Axes>"
      ]
     },
     "metadata": {
      "needs_background": "light"
     },
     "output_type": "display_data"
    }
   ],
   "source": [
    "twenty\n",
    "df_date_twenty_up = twenty[twenty[\"소비처업종\"] ==\"레저업소\"].groupby([\"weekdays\",\"소비처업종\"])['사용횟수'].sum()\n",
    "df_date_twenty_weekdays_up = pd.DataFrame(df_date_twenty_up).reset_index()\n",
    "plt.bar(df_date_twenty_weekdays_up.weekdays, df_date_twenty_weekdays_up.사용횟수)\n"
   ]
  },
  {
   "cell_type": "code",
   "execution_count": 29,
   "metadata": {},
   "outputs": [
    {
     "data": {
      "text/plain": [
       "array(['유통업', '서적문구', '신변잡화', '의료기관', '가전', '의복', '보건위생', '자동차판매', '주방용품',\n",
       "       '광학제품', '직물', '사무통신', '레저업소', '수리서비스', '가구', '자동차정비', '전기', '요식업소',\n",
       "       '연료판매', '문화취미', '음료식품'], dtype=object)"
      ]
     },
     "execution_count": 29,
     "metadata": {},
     "output_type": "execute_result"
    }
   ],
   "source": [
    "twenty[\"소비처업종\"].unique()"
   ]
  },
  {
   "cell_type": "code",
   "execution_count": null,
   "metadata": {},
   "outputs": [],
   "source": []
  },
  {
   "cell_type": "code",
   "execution_count": null,
   "metadata": {},
   "outputs": [],
   "source": []
  },
  {
   "cell_type": "code",
   "execution_count": null,
   "metadata": {},
   "outputs": [],
   "source": []
  },
  {
   "cell_type": "code",
   "execution_count": 12,
   "metadata": {},
   "outputs": [
    {
     "data": {
      "text/plain": [
       "<BarContainer object of 7 artists>"
      ]
     },
     "execution_count": 12,
     "metadata": {},
     "output_type": "execute_result"
    },
    {
     "data": {
      "image/png": "[encoded data removed]",
      "text/plain": [
       "<Figure size 432x288 with 1 Axes>"
      ]
     },
     "metadata": {
      "needs_background": "light"
     },
     "output_type": "display_data"
    }
   ],
   "source": [
    "thirty = df_raw1[df_raw1[\"age_group\"]==3]\n",
    "df_date_thirty  = twenty.groupby([\"weekdays\"])['사용금액'].sum()\n",
    "df_date_thirty_weekdays = pd.DataFrame(df_date_thirty).reset_index()\n",
    "plt.bar(df_date_thirty_weekdays.weekdays, df_date_thirty_weekdays.사용금액)\n"
   ]
  },
  {
   "cell_type": "code",
   "execution_count": null,
   "metadata": {},
   "outputs": [],
   "source": []
  }
 ],
 "metadata": {
  "kernelspec": {
   "display_name": "Python 3",
   "language": "python",
   "name": "python3"
  },
  "language_info": {
   "codemirror_mode": {
    "name": "ipython",
    "version": 3
   },
   "file_extension": ".py",
   "mimetype": "text/x-python",
   "name": "python",
   "nbconvert_exporter": "python",
   "pygments_lexer": "ipython3",
   "version": "3.7.3"
  }
 },
 "nbformat": 4,
 "nbformat_minor": 2
}
