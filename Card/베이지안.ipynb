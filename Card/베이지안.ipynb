{
 "cells": [
  {
   "cell_type": "code",
   "execution_count": 1,
   "metadata": {},
   "outputs": [],
   "source": [
    "import pandas as pd\n",
    "import numpy as np\n",
    "\n",
    "import matplotlib.pyplot as plt\n",
    "import matplotlib\n"
   ]
  },
  {
   "cell_type": "code",
   "execution_count": 2,
   "metadata": {
    "scrolled": true
   },
   "outputs": [
    {
     "data": {
      "text/html": [
       "<div>\n",
       "<style scoped>\n",
       "    .dataframe tbody tr th:only-of-type {\n",
       "        vertical-align: middle;\n",
       "    }\n",
       "\n",
       "    .dataframe tbody tr th {\n",
       "        vertical-align: top;\n",
       "    }\n",
       "\n",
       "    .dataframe thead th {\n",
       "        text-align: right;\n",
       "    }\n",
       "</style>\n",
       "<table border=\"1\" class=\"dataframe\">\n",
       "  <thead>\n",
       "    <tr style=\"text-align: right;\">\n",
       "      <th></th>\n",
       "      <th>연령</th>\n",
       "      <th>age_group</th>\n",
       "      <th>new_age_group</th>\n",
       "      <th>직업군</th>\n",
       "      <th>economic_group</th>\n",
       "      <th>economic_group_dummy</th>\n",
       "      <th>결혼여부</th>\n",
       "      <th>학력</th>\n",
       "      <th>신용카드소지여부</th>\n",
       "      <th>주택대출여부</th>\n",
       "      <th>...</th>\n",
       "      <th>통화시간</th>\n",
       "      <th>연락시도횟수</th>\n",
       "      <th>p_days</th>\n",
       "      <th>과거통화횟수</th>\n",
       "      <th>계약여부</th>\n",
       "      <th>success</th>\n",
       "      <th>success.1</th>\n",
       "      <th>연락일자</th>\n",
       "      <th>카드종류</th>\n",
       "      <th>card_category</th>\n",
       "    </tr>\n",
       "  </thead>\n",
       "  <tbody>\n",
       "    <tr>\n",
       "      <th>0</th>\n",
       "      <td>56</td>\n",
       "      <td>5</td>\n",
       "      <td>50_group</td>\n",
       "      <td>주부</td>\n",
       "      <td>0</td>\n",
       "      <td>no</td>\n",
       "      <td>결혼</td>\n",
       "      <td>중졸</td>\n",
       "      <td>없음</td>\n",
       "      <td>없음</td>\n",
       "      <td>...</td>\n",
       "      <td>261</td>\n",
       "      <td>1</td>\n",
       "      <td>NaN</td>\n",
       "      <td>0</td>\n",
       "      <td>no</td>\n",
       "      <td>0</td>\n",
       "      <td>0</td>\n",
       "      <td>2018-01-03</td>\n",
       "      <td>87</td>\n",
       "      <td>life</td>\n",
       "    </tr>\n",
       "    <tr>\n",
       "      <th>1</th>\n",
       "      <td>57</td>\n",
       "      <td>5</td>\n",
       "      <td>50_group</td>\n",
       "      <td>서비스종사자</td>\n",
       "      <td>1</td>\n",
       "      <td>yes</td>\n",
       "      <td>결혼</td>\n",
       "      <td>전문학교</td>\n",
       "      <td>미확인</td>\n",
       "      <td>없음</td>\n",
       "      <td>...</td>\n",
       "      <td>149</td>\n",
       "      <td>1</td>\n",
       "      <td>NaN</td>\n",
       "      <td>0</td>\n",
       "      <td>no</td>\n",
       "      <td>0</td>\n",
       "      <td>0</td>\n",
       "      <td>2018-01-03</td>\n",
       "      <td>88</td>\n",
       "      <td>life</td>\n",
       "    </tr>\n",
       "    <tr>\n",
       "      <th>2</th>\n",
       "      <td>37</td>\n",
       "      <td>3</td>\n",
       "      <td>30_group</td>\n",
       "      <td>서비스종사자</td>\n",
       "      <td>1</td>\n",
       "      <td>yes</td>\n",
       "      <td>결혼</td>\n",
       "      <td>전문학교</td>\n",
       "      <td>없음</td>\n",
       "      <td>대출있음</td>\n",
       "      <td>...</td>\n",
       "      <td>226</td>\n",
       "      <td>1</td>\n",
       "      <td>NaN</td>\n",
       "      <td>0</td>\n",
       "      <td>no</td>\n",
       "      <td>0</td>\n",
       "      <td>0</td>\n",
       "      <td>2018-01-03</td>\n",
       "      <td>89</td>\n",
       "      <td>life</td>\n",
       "    </tr>\n",
       "    <tr>\n",
       "      <th>3</th>\n",
       "      <td>40</td>\n",
       "      <td>4</td>\n",
       "      <td>40_group</td>\n",
       "      <td>회사원</td>\n",
       "      <td>1</td>\n",
       "      <td>yes</td>\n",
       "      <td>결혼</td>\n",
       "      <td>검정고시</td>\n",
       "      <td>없음</td>\n",
       "      <td>없음</td>\n",
       "      <td>...</td>\n",
       "      <td>151</td>\n",
       "      <td>1</td>\n",
       "      <td>NaN</td>\n",
       "      <td>0</td>\n",
       "      <td>no</td>\n",
       "      <td>0</td>\n",
       "      <td>0</td>\n",
       "      <td>2018-01-03</td>\n",
       "      <td>90</td>\n",
       "      <td>life</td>\n",
       "    </tr>\n",
       "    <tr>\n",
       "      <th>4</th>\n",
       "      <td>56</td>\n",
       "      <td>5</td>\n",
       "      <td>50_group</td>\n",
       "      <td>서비스종사자</td>\n",
       "      <td>1</td>\n",
       "      <td>yes</td>\n",
       "      <td>결혼</td>\n",
       "      <td>전문학교</td>\n",
       "      <td>없음</td>\n",
       "      <td>없음</td>\n",
       "      <td>...</td>\n",
       "      <td>307</td>\n",
       "      <td>1</td>\n",
       "      <td>NaN</td>\n",
       "      <td>0</td>\n",
       "      <td>no</td>\n",
       "      <td>0</td>\n",
       "      <td>0</td>\n",
       "      <td>2018-01-03</td>\n",
       "      <td>91</td>\n",
       "      <td>life</td>\n",
       "    </tr>\n",
       "  </tbody>\n",
       "</table>\n",
       "<p>5 rows × 22 columns</p>\n",
       "</div>"
      ],
      "text/plain": [
       "   연령  age_group new_age_group     직업군  economic_group economic_group_dummy  \\\n",
       "0  56          5      50_group      주부               0                   no   \n",
       "1  57          5      50_group  서비스종사자               1                  yes   \n",
       "2  37          3      30_group  서비스종사자               1                  yes   \n",
       "3  40          4      40_group     회사원               1                  yes   \n",
       "4  56          5      50_group  서비스종사자               1                  yes   \n",
       "\n",
       "  결혼여부    학력 신용카드소지여부 주택대출여부  ... 통화시간 연락시도횟수  p_days  과거통화횟수  계약여부  success  \\\n",
       "0   결혼    중졸       없음     없음  ...  261      1     NaN       0    no        0   \n",
       "1   결혼  전문학교      미확인     없음  ...  149      1     NaN       0    no        0   \n",
       "2   결혼  전문학교       없음   대출있음  ...  226      1     NaN       0    no        0   \n",
       "3   결혼  검정고시       없음     없음  ...  151      1     NaN       0    no        0   \n",
       "4   결혼  전문학교       없음     없음  ...  307      1     NaN       0    no        0   \n",
       "\n",
       "  success.1        연락일자  카드종류 card_category  \n",
       "0         0  2018-01-03    87          life  \n",
       "1         0  2018-01-03    88          life  \n",
       "2         0  2018-01-03    89          life  \n",
       "3         0  2018-01-03    90          life  \n",
       "4         0  2018-01-03    91          life  \n",
       "\n",
       "[5 rows x 22 columns]"
      ]
     },
     "execution_count": 2,
     "metadata": {},
     "output_type": "execute_result"
    }
   ],
   "source": [
    "df_raw = pd.read_csv(\"Telemarketing_Data_cl4.csv\", encoding='utf-8-sig' )\n",
    "df_raw.head()"
   ]
  },
  {
   "cell_type": "code",
   "execution_count": 3,
   "metadata": {},
   "outputs": [
    {
     "name": "stdout",
     "output_type": "stream",
     "text": [
      "count    41188.000000\n",
      "mean       258.285010\n",
      "std        259.279249\n",
      "min          0.000000\n",
      "25%        102.000000\n",
      "50%        180.000000\n",
      "75%        319.000000\n",
      "max       4918.000000\n",
      "Name: 통화시간, dtype: float64\n"
     ]
    },
    {
     "data": {
      "text/plain": [
       "<matplotlib.axes._subplots.AxesSubplot at 0x29f38db81d0>"
      ]
     },
     "execution_count": 3,
     "metadata": {},
     "output_type": "execute_result"
    },
    {
     "data": {
      "image/png": "[encoded data removed]",
      "text/plain": [
       "<Figure size 432x288 with 1 Axes>"
      ]
     },
     "metadata": {
      "needs_background": "light"
     },
     "output_type": "display_data"
    }
   ],
   "source": [
    "a = df_raw[\"통화시간\"]\n",
    "print(a.describe())\n",
    "a = pd.DataFrame(a)\n",
    "a.boxplot()"
   ]
  },
  {
   "cell_type": "code",
   "execution_count": 4,
   "metadata": {},
   "outputs": [
    {
     "data": {
      "text/plain": [
       "count    41188.000000\n",
       "mean         0.172963\n",
       "std          0.494901\n",
       "min          0.000000\n",
       "25%          0.000000\n",
       "50%          0.000000\n",
       "75%          0.000000\n",
       "max          7.000000\n",
       "Name: 과거통화횟수, dtype: float64"
      ]
     },
     "execution_count": 4,
     "metadata": {},
     "output_type": "execute_result"
    }
   ],
   "source": [
    "b = df_raw[\"과거통화횟수\"]\n",
    "b.describe()"
   ]
  },
  {
   "cell_type": "code",
   "execution_count": 5,
   "metadata": {},
   "outputs": [
    {
     "data": {
      "text/plain": [
       "array(['주부', '서비스종사자', '회사원', '산업노동자', '기술자', '은퇴', '공무원', '미취업자', '자영업자',\n",
       "       '미확인', '기업가', '학생'], dtype=object)"
      ]
     },
     "execution_count": 5,
     "metadata": {},
     "output_type": "execute_result"
    }
   ],
   "source": [
    "df_raw[\"직업군\"].unique()"
   ]
  },
  {
   "cell_type": "code",
   "execution_count": 6,
   "metadata": {},
   "outputs": [
    {
     "data": {
      "text/plain": [
       "12"
      ]
     },
     "execution_count": 6,
     "metadata": {},
     "output_type": "execute_result"
    }
   ],
   "source": [
    "len(df_raw[\"직업군\"].unique())"
   ]
  },
  {
   "cell_type": "code",
   "execution_count": 7,
   "metadata": {},
   "outputs": [
    {
     "data": {
      "text/plain": [
       "array(['유선전화', '휴대폰'], dtype=object)"
      ]
     },
     "execution_count": 7,
     "metadata": {},
     "output_type": "execute_result"
    }
   ],
   "source": [
    "df_raw[\"contact\"].unique()"
   ]
  },
  {
   "cell_type": "code",
   "execution_count": 8,
   "metadata": {},
   "outputs": [
    {
     "data": {
      "text/plain": [
       "array([5, 3, 4, 2, 6, 1, 7, 8, 9], dtype=int64)"
      ]
     },
     "execution_count": 8,
     "metadata": {},
     "output_type": "execute_result"
    }
   ],
   "source": [
    "df_raw[\"age_group\"].unique()"
   ]
  },
  {
   "cell_type": "code",
   "execution_count": 9,
   "metadata": {},
   "outputs": [
    {
     "data": {
      "text/plain": [
       "array(['중졸', '전문학교', '검정고시', '고졸', '석박사', '미확인', '대졸학사', '문맹'],\n",
       "      dtype=object)"
      ]
     },
     "execution_count": 9,
     "metadata": {},
     "output_type": "execute_result"
    }
   ],
   "source": [
    "df_raw[\"학력\"].unique()"
   ]
  },
  {
   "cell_type": "code",
   "execution_count": null,
   "metadata": {},
   "outputs": [],
   "source": [
    "# 선택\n",
    "과거통화횟수 # 1 ~ 7\n",
    "직업군 # 1 2개\n",
    "contact # 2개\n",
    "age_group # 1020, 30, 40, 50, 60, 70, 80, 90\n",
    "학력 ## 8개"
   ]
  },
  {
   "cell_type": "code",
   "execution_count": 11,
   "metadata": {},
   "outputs": [
    {
     "data": {
      "text/plain": [
       "array([0, 1, 2, 3, 4, 5, 6, 7], dtype=int64)"
      ]
     },
     "execution_count": 11,
     "metadata": {},
     "output_type": "execute_result"
    }
   ],
   "source": [
    "df_raw[\"과거통화횟수\"].unique()"
   ]
  },
  {
   "cell_type": "code",
   "execution_count": 12,
   "metadata": {},
   "outputs": [
    {
     "data": {
      "text/plain": [
       "array(['no', 'yes'], dtype=object)"
      ]
     },
     "execution_count": 12,
     "metadata": {},
     "output_type": "execute_result"
    }
   ],
   "source": [
    "df_raw[\"계약여부\"].unique()"
   ]
  },
  {
   "cell_type": "code",
   "execution_count": 5,
   "metadata": {},
   "outputs": [
    {
     "data": {
      "text/plain": [
       "과거통화횟수\n",
       "0    3141\n",
       "1     967\n",
       "2     350\n",
       "3     128\n",
       "4      38\n",
       "5      13\n",
       "6       3\n",
       "7       0\n",
       "Name: success, dtype: int64"
      ]
     },
     "execution_count": 5,
     "metadata": {},
     "output_type": "execute_result"
    }
   ],
   "source": [
    "df_tabe_phone = df_raw.groupby([\"과거통화횟수\"]) [\"success\"].sum()\n",
    "df_tabe_phone"
   ]
  },
  {
   "cell_type": "code",
   "execution_count": 18,
   "metadata": {},
   "outputs": [
    {
     "data": {
      "text/plain": [
       "<pandas.core.groupby.generic.SeriesGroupBy object at 0x0000018C37188630>"
      ]
     },
     "execution_count": 18,
     "metadata": {},
     "output_type": "execute_result"
    }
   ],
   "source": [
    "grouped = df_raw['success'].groupby(df_raw['과거통화횟수'])"
   ]
  },
  {
   "cell_type": "code",
   "execution_count": 24,
   "metadata": {},
   "outputs": [],
   "source": [
    "df_tabe_phone = df_raw.groupby([\"과거통화횟수\"]) [\"success\"].sum()\n",
    "grouped = df_raw['success'].groupby(df_raw['과거통화횟수'])\n",
    "df_tabe_phone[\"succes\"] = grouped.sum() / grouped.size()\n",
    "df_tabe_phone[\"failure\"] = 1 - grouped.sum() / grouped.size()"
   ]
  },
  {
   "cell_type": "code",
   "execution_count": 45,
   "metadata": {},
   "outputs": [],
   "source": [
    "df_tabe_job = df_raw.groupby([\"직업군\"]) [\"success\"].sum()\n",
    "grouped_job = df_raw['success'].groupby(df_raw['직업군'])\n",
    "df_tabe_job[\"succes\"] = grouped_job.sum() / grouped_job.size()\n",
    "df_tabe_job[\"failure\"] = 1 - grouped_job.sum() / grouped_job.size()"
   ]
  },
  {
   "cell_type": "code",
   "execution_count": 49,
   "metadata": {},
   "outputs": [],
   "source": [
    "df_tabe_contact = df_raw.groupby([\"contact\"]) [\"success\"].sum()\n",
    "grouped_contact = df_raw['success'].groupby(df_raw['contact'])\n",
    "df_tabe_contact[\"succes\"] = grouped_contact.sum() / grouped_contact.size()\n",
    "df_tabe_contact[\"failure\"] = 1 - grouped_contact.sum() / grouped_contact.size()"
   ]
  },
  {
   "cell_type": "code",
   "execution_count": 50,
   "metadata": {},
   "outputs": [],
   "source": [
    "df_tabe_age_group = df_raw.groupby([\"new_age_group\"]) [\"success\"].sum()\n",
    "grouped_age_group = df_raw['success'].groupby(df_raw['new_age_group'])\n",
    "df_tabe_age_group[\"succes\"] = grouped_age_group.sum() / grouped_age_group.size()\n",
    "df_tabe_age_group[\"failure\"] = 1 - grouped_age_group.sum() / grouped_age_group.size()"
   ]
  },
  {
   "cell_type": "code",
   "execution_count": 54,
   "metadata": {},
   "outputs": [],
   "source": [
    "df_tabe_age_edu = df_raw.groupby([\"학력\"]) [\"success\"].sum()\n",
    "grouped_age_edu = df_raw['success'].groupby(df_raw['학력'])\n",
    "df_tabe_age_edu[\"succes\"] = grouped_age_edu.sum() / grouped_age_edu.size()\n",
    "df_tabe_age_edu[\"failure\"] = 1 - grouped_age_edu.sum() / grouped_age_edu.size()"
   ]
  },
  {
   "cell_type": "code",
   "execution_count": null,
   "metadata": {},
   "outputs": [],
   "source": [
    "grouped_success"
   ]
  },
  {
   "cell_type": "raw",
   "metadata": {},
   "source": [
    "df_raw.groupby([\"과거통화횟수\", \"직업군\", \"contact\", \"new_age_group\", \"학력\"])[\"success\"].sum()"
   ]
  },
  {
   "cell_type": "code",
   "execution_count": 112,
   "metadata": {},
   "outputs": [],
   "source": [
    "succes_rate = len(df_raw[df_raw['success']==1]) / len(df_raw)\n",
    "fail_rate = 1 - len(df_raw[df_raw['success']==1]) / len(df_raw)"
   ]
  },
  {
   "cell_type": "raw",
   "metadata": {},
   "source": [
    "# 선택\n",
    "과거통화횟수 # 1 ~ 7\n",
    "직업군 # 1 2개\n",
    "contact # 2개\n",
    "age_group # 1020, 30, 40, 50, 60, 70, 80, 90\n",
    "학력 ## 8개"
   ]
  },
  {
   "cell_type": "code",
   "execution_count": 113,
   "metadata": {},
   "outputs": [
    {
     "name": "stdout",
     "output_type": "stream",
     "text": [
      "과거통화횟수를 입력하시오: 1\n",
      "직업군을 입력하시오: ex) 주부, 서비스종사자, 회사원, 산업노동자, 기술자, 은퇴, 공무원, 미취업자, 자영업자, 미확인, 기업가, 학생회사원\n",
      "유선 여부를 입력하시오: ex(유선전화,휴대폰) 휴대폰\n",
      "연령대를 입력하시오: ex(1020_group, 30_group, 40_group, 50_group, 60_group, 70_group, 80_group, 90_group) 1020_group\n",
      "학력을 입력하시오 ex) 중졸, 전문학교, 검정고시, 고졸, 석박사, 미확인, 대졸학사, 문맹대졸학사\n"
     ]
    }
   ],
   "source": [
    "a = int(input(\"과거통화횟수를 입력하시오: \"))\n",
    "b = input(\"직업군을 입력하시오: ex) 주부, 서비스종사자, 회사원, 산업노동자, 기술자, 은퇴, 공무원, 미취업자, 자영업자, 미확인, 기업가, 학생\")\n",
    "c = input(\"유선 여부를 입력하시오: ex(유선전화,휴대폰) \")\n",
    "d = input(\"연령대를 입력하시오: ex(1020_group, 30_group, 40_group, 50_group, 60_group, 70_group, 80_group, 90_group) \")\n",
    "e = input(\"학력을 입력하시오 ex) 중졸, 전문학교, 검정고시, 고졸, 석박사, 미확인, 대졸학사, 문맹\")"
   ]
  },
  {
   "cell_type": "code",
   "execution_count": 115,
   "metadata": {},
   "outputs": [
    {
     "data": {
      "text/plain": [
       "1.0192671074826296e-05"
      ]
     },
     "execution_count": 115,
     "metadata": {},
     "output_type": "execute_result"
    }
   ],
   "source": [
    "pro = df_tabe_phone[\"succes\"][a] * df_tabe_job[\"succes\"][b] *df_tabe_contact[\"succes\"][c] * df_tabe_age_group[\"succes\"][d] * df_tabe_age_edu[\"succes\"][e] * succes_rate\n",
    "pro"
   ]
  },
  {
   "cell_type": "code",
   "execution_count": null,
   "metadata": {},
   "outputs": [],
   "source": []
  }
 ],
 "metadata": {
  "kernelspec": {
   "display_name": "Python 3",
   "language": "python",
   "name": "python3"
  },
  "language_info": {
   "codemirror_mode": {
    "name": "ipython",
    "version": 3
   },
   "file_extension": ".py",
   "mimetype": "text/x-python",
   "name": "python",
   "nbconvert_exporter": "python",
   "pygments_lexer": "ipython3",
   "version": "3.7.3"
  }
 },
 "nbformat": 4,
 "nbformat_minor": 2
}
