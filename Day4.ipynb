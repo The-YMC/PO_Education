{
 "cells": [
  {
   "cell_type": "markdown",
   "metadata": {},
   "source": [
    "# 함수"
   ]
  },
  {
   "cell_type": "raw",
   "metadata": {},
   "source": [
    "Day 4\n",
    "200116(목)"
   ]
  },
  {
   "cell_type": "markdown",
   "metadata": {},
   "source": [
    "# 디폴트 매개변수\n",
    "매개변수의 기본값을 지정해줄 수 있다.\n",
    "###### 호출 시, 해당 매개변수를 주지 않는다면, 정의할 때 지정한 기본값을 가짐"
   ]
  },
  {
   "cell_type": "code",
   "execution_count": 1,
   "metadata": {},
   "outputs": [],
   "source": [
    "def printName(first, second = 'Lee'):\n",
    "    print('My name is', first, second + '.')"
   ]
  },
  {
   "cell_type": "code",
   "execution_count": 2,
   "metadata": {},
   "outputs": [
    {
     "name": "stdout",
     "output_type": "stream",
     "text": [
      "My name is Chulsoo Kim.\n",
      "My name is Chulsoo Lee.\n"
     ]
    }
   ],
   "source": [
    "# 함수 호출\n",
    "printName('Chulsoo', 'Kim')\n",
    "printName('Chulsoo')\n",
    "\n",
    "# second에 대응되는 값을 주지 않았으므로,\n",
    "# 정의할 때 지정해줬던 ‘Lee’를 가짐"
   ]
  },
  {
   "cell_type": "markdown",
   "metadata": {},
   "source": [
    "###### 앞 매개변수가 디폴트 값을 가질 때, 뒤에 나타나는 매개변수는 반드시 디폴트 값을 가져야함"
   ]
  },
  {
   "cell_type": "raw",
   "metadata": {},
   "source": [
    "def printName(first, second=‘Kim’): # 정상\n",
    "def printName(first=‘Kim’, second): # 에러 발생\n",
    "def printName(first, second, third=‘Kim’): # 정상\n",
    "def printName(first, second=‘Kim’, third=‘M’): # 정상"
   ]
  },
  {
   "cell_type": "markdown",
   "metadata": {},
   "source": [
    "# 키워드 매개변수\n",
    "호출할 때, 해당 매개변수가 무엇인지 명시적으로\n",
    "알려줌"
   ]
  },
  {
   "cell_type": "code",
   "execution_count": 4,
   "metadata": {},
   "outputs": [
    {
     "name": "stdout",
     "output_type": "stream",
     "text": [
      "60\n"
     ]
    }
   ],
   "source": [
    "def cal(x, y, z):\n",
    "    return x + y + z\n",
    "\n",
    "result = cal(y = 20,x = 10, z = 30) # 매개변수 순서 상관 無\n",
    "print(result)"
   ]
  },
  {
   "cell_type": "code",
   "execution_count": 5,
   "metadata": {},
   "outputs": [],
   "source": [
    "def cal(x, y = 0, z = 0):\n",
    "    return x + y + z"
   ]
  },
  {
   "cell_type": "code",
   "execution_count": 6,
   "metadata": {},
   "outputs": [
    {
     "data": {
      "text/plain": [
       "30"
      ]
     },
     "execution_count": 6,
     "metadata": {},
     "output_type": "execute_result"
    }
   ],
   "source": [
    "cal(y = 20, x= 10) # 정상"
   ]
  },
  {
   "cell_type": "code",
   "execution_count": 7,
   "metadata": {},
   "outputs": [
    {
     "data": {
      "text/plain": [
       "60"
      ]
     },
     "execution_count": 7,
     "metadata": {},
     "output_type": "execute_result"
    }
   ],
   "source": [
    "cal (10, y = 30, z = 20) # 정상"
   ]
  },
  {
   "cell_type": "code",
   "execution_count": 8,
   "metadata": {},
   "outputs": [
    {
     "ename": "TypeError",
     "evalue": "cal() got multiple values for argument 'y'",
     "output_type": "error",
     "traceback": [
      "\u001b[0;31m---------------------------------------------------------------------------\u001b[0m",
      "\u001b[0;31mTypeError\u001b[0m                                 Traceback (most recent call last)",
      "\u001b[0;32m<ipython-input-8-261b93b441fe>\u001b[0m in \u001b[0;36m<module>\u001b[0;34m\u001b[0m\n\u001b[0;32m----> 1\u001b[0;31m \u001b[0mcal\u001b[0m\u001b[0;34m(\u001b[0m\u001b[0;36m10\u001b[0m\u001b[0;34m,\u001b[0m \u001b[0;36m30\u001b[0m\u001b[0;34m,\u001b[0m \u001b[0my\u001b[0m \u001b[0;34m=\u001b[0m \u001b[0;36m20\u001b[0m\u001b[0;34m)\u001b[0m \u001b[0;31m# 에러 발생\u001b[0m\u001b[0;34m\u001b[0m\u001b[0;34m\u001b[0m\u001b[0m\n\u001b[0m",
      "\u001b[0;31mTypeError\u001b[0m: cal() got multiple values for argument 'y'"
     ]
    }
   ],
   "source": [
    "cal(10, 30, y = 20) # 에러 발생"
   ]
  },
  {
   "cell_type": "markdown",
   "metadata": {},
   "source": [
    "# 반환 값이 여러 개인 함수\n",
    "튜플이나 리스트를 이용해 여러 개의 값을 리턴할\n",
    "수 있음"
   ]
  },
  {
   "cell_type": "code",
   "execution_count": 13,
   "metadata": {},
   "outputs": [
    {
     "name": "stdout",
     "output_type": "stream",
     "text": [
      "7\n",
      "12\n"
     ]
    }
   ],
   "source": [
    "a = 3\n",
    "b = 4\n",
    "\n",
    "# 함수 정의\n",
    "def add_and_mul(a, b):\n",
    "    return (a + b, a * b)\n",
    "\n",
    "# 함수 호출\n",
    "add_res, mul_res = add_and_mul(a, b)\n",
    "print(add_res)\n",
    "print(mul_res)"
   ]
  },
  {
   "cell_type": "markdown",
   "metadata": {},
   "source": [
    "# 연습문제 4\n",
    "초를 넘겨주면 시간, 분, 초를 리턴해주는 함수를\n",
    "작성하시오."
   ]
  },
  {
   "cell_type": "markdown",
   "metadata": {},
   "source": [
    " 예) 57894초를 주면, 16시간 4분 54초를 리턴"
   ]
  },
  {
   "cell_type": "code",
   "execution_count": 33,
   "metadata": {},
   "outputs": [],
   "source": [
    "def hour_min_sec(second):\n",
    "    minute = second // 60\n",
    "    second = second - minute * 60\n",
    "    \n",
    "    hour = minute // 60 \n",
    "    minute = minute - hour * 60\n",
    "    \n",
    "    return hour, minute, second"
   ]
  },
  {
   "cell_type": "code",
   "execution_count": 42,
   "metadata": {},
   "outputs": [
    {
     "name": "stdout",
     "output_type": "stream",
     "text": [
      "16시간 4분 54초\n"
     ]
    }
   ],
   "source": [
    "hour, minute, sec = hour_min_sec(57894)\n",
    "print(\"%d시간 %d분 %d초\" % (hour, minute, sec))"
   ]
  },
  {
   "cell_type": "markdown",
   "metadata": {},
   "source": [
    "# 매개변수 종류\n",
    "- Mutable 타입의 매개 변수:\n",
    "- Mutable\n",
    "- - 리스트 딕셔너리 등"
   ]
  },
  {
   "cell_type": "code",
   "execution_count": 44,
   "metadata": {},
   "outputs": [
    {
     "name": "stdout",
     "output_type": "stream",
     "text": [
      "[1, 2, 3, 4, 5, 6]\n"
     ]
    }
   ],
   "source": [
    "# call by reference 방식과 동일\n",
    "t = [1,2,3]\n",
    "\n",
    "def test(a):\n",
    "    a += [4,5,6]\n",
    "    \n",
    "test(t)\n",
    "print(t)"
   ]
  },
  {
   "cell_type": "code",
   "execution_count": 46,
   "metadata": {},
   "outputs": [
    {
     "name": "stdout",
     "output_type": "stream",
     "text": [
      "{1: 'a', 2: 'b'}\n"
     ]
    }
   ],
   "source": [
    "t = {1: 'a'}\n",
    "\n",
    "def test(a):\n",
    "    a[2] = 'b'\n",
    "    \n",
    "test(t)\n",
    "print(t)"
   ]
  },
  {
   "cell_type": "raw",
   "metadata": {},
   "source": [
    "# Mutable\n",
    "# - 리스트 딕셔너리 등"
   ]
  },
  {
   "cell_type": "markdown",
   "metadata": {},
   "source": [
    "- Immutable 타입의 매개변수:\n",
    "- -숫자, 문자열, 튜플 등"
   ]
  },
  {
   "cell_type": "code",
   "execution_count": null,
   "metadata": {},
   "outputs": [],
   "source": [
    "# Call by value 방식과 동일"
   ]
  },
  {
   "cell_type": "code",
   "execution_count": 47,
   "metadata": {},
   "outputs": [
    {
     "name": "stdout",
     "output_type": "stream",
     "text": [
      "(1, 2, 3)\n"
     ]
    }
   ],
   "source": [
    "t = (1, 2, 3) \n",
    "def test(a):\n",
    "    a += (4, 5, 6) \n",
    "\n",
    "test(t)\n",
    "print(t)"
   ]
  },
  {
   "cell_type": "code",
   "execution_count": 49,
   "metadata": {},
   "outputs": [
    {
     "name": "stdout",
     "output_type": "stream",
     "text": [
      "1\n"
     ]
    }
   ],
   "source": [
    "t = 1\n",
    "def test(a):\n",
    "    a += 1\n",
    "\n",
    "test(t)\n",
    "print(t)"
   ]
  },
  {
   "cell_type": "markdown",
   "metadata": {},
   "source": [
    "# 연습문제 5\n",
    "숫자로 구성된 리스트를 입력받아 최대값, 최소값\n",
    "을 리턴하고, 두 수를 리스트에서 제거하는 함수를\n",
    "작성하시오."
   ]
  },
  {
   "cell_type": "code",
   "execution_count": 72,
   "metadata": {},
   "outputs": [],
   "source": [
    "def get_min_max(l):\n",
    "    maximum = max(l)\n",
    "    minimum = min(l)\n",
    "\n",
    "    l.remove(max(l))\n",
    "    l.remove(min(l))\n",
    "    \n",
    "    return minimum, maximum"
   ]
  },
  {
   "cell_type": "code",
   "execution_count": 73,
   "metadata": {},
   "outputs": [],
   "source": [
    "a = [3, 5, 9, 1, 2]"
   ]
  },
  {
   "cell_type": "code",
   "execution_count": 74,
   "metadata": {},
   "outputs": [],
   "source": [
    "(min_val, max_val) = get_min_max(a)"
   ]
  },
  {
   "cell_type": "code",
   "execution_count": 75,
   "metadata": {},
   "outputs": [
    {
     "name": "stdout",
     "output_type": "stream",
     "text": [
      "1\n",
      "9\n",
      "[3, 5, 2]\n"
     ]
    }
   ],
   "source": [
    "print(min_val)\n",
    "print(max_val)\n",
    "print(a)"
   ]
  },
  {
   "cell_type": "markdown",
   "metadata": {},
   "source": [
    "# 연습문제 6\n",
    "Dot product (스칼라곱, 내적)을 계산하는\n",
    "sparseVectorDotProduct(v1, v2) 함수 작성"
   ]
  },
  {
   "cell_type": "raw",
   "metadata": {},
   "source": [
    "테스트 케이스\n",
    " v1={‘a’:5}, v2={‘a’:3, ‘b’:2}\n",
    " 15\n",
    " v1={‘c’:5}, v2={‘a’:2, ‘b’:1}\n",
    " 0\n",
    " v1={‘a’:5, ‘b’:4}, v2={‘a’:-1, ‘b’:2}\n",
    " 3"
   ]
  },
  {
   "cell_type": "code",
   "execution_count": 195,
   "metadata": {},
   "outputs": [],
   "source": [
    "def sparseVectorDotProduct(v1,v2):\n",
    "    #v1 = sorted(v1.items())\n",
    "    #v2 = sorted(v2.items())\n",
    "    \n",
    "    result = 0\n",
    "    for i in v1.keys():\n",
    "        for j in v2.keys():\n",
    "            if i == j:\n",
    "                result += (v1[i] * v2[i])\n",
    "    return result"
   ]
  },
  {
   "cell_type": "code",
   "execution_count": 196,
   "metadata": {},
   "outputs": [],
   "source": [
    "v1={'a':5}; v2={'a':3, 'b':2}\n",
    "v3={'c':5}; v4={'a':2, 'b':1}\n",
    "v5={'a':5, 'b':4}; v6={'a':-1, 'b':2}"
   ]
  },
  {
   "cell_type": "code",
   "execution_count": 197,
   "metadata": {},
   "outputs": [
    {
     "name": "stdout",
     "output_type": "stream",
     "text": [
      "15\n",
      "0\n",
      "3\n"
     ]
    }
   ],
   "source": [
    "print(sparseVectorDotProduct(v1,v2))\n",
    "print(sparseVectorDotProduct(v3,v4))\n",
    "print(sparseVectorDotProduct(v5,v6))"
   ]
  },
  {
   "cell_type": "code",
   "execution_count": 206,
   "metadata": {},
   "outputs": [],
   "source": [
    "def sparseVectorDotProduct2(v1,v2):\n",
    "    res = 0\n",
    "    \n",
    "    for ch in v1: # for ch in v1.keys():\n",
    "        if ch in v2: # if k in v2.keys(0:)\n",
    "            res += v1[ch] * v2[ch]\n",
    "    return res"
   ]
  },
  {
   "cell_type": "code",
   "execution_count": 209,
   "metadata": {},
   "outputs": [
    {
     "name": "stdout",
     "output_type": "stream",
     "text": [
      "15\n",
      "0\n",
      "3\n"
     ]
    }
   ],
   "source": [
    "print(sparseVectorDotProduct2(v1,v2))\n",
    "print(sparseVectorDotProduct2(v3,v4))\n",
    "print(sparseVectorDotProduct2(v5,v6))"
   ]
  },
  {
   "cell_type": "code",
   "execution_count": 215,
   "metadata": {},
   "outputs": [],
   "source": [
    "def dot_product2(v1, v2):\n",
    "    res = 0\n",
    "    for k in set(v1) & set(v2):\n",
    "        res += v1[k] *v2[k]\n",
    "    return res"
   ]
  },
  {
   "cell_type": "code",
   "execution_count": 216,
   "metadata": {},
   "outputs": [
    {
     "name": "stdout",
     "output_type": "stream",
     "text": [
      "15\n",
      "0\n",
      "3\n"
     ]
    }
   ],
   "source": [
    "print(dot_product2(v1,v2))\n",
    "print(dot_product2(v3,v4))\n",
    "print(dot_product2(v5,v6))"
   ]
  },
  {
   "cell_type": "code",
   "execution_count": 217,
   "metadata": {},
   "outputs": [],
   "source": [
    "def dot_product3(v1, v2):\n",
    "    res = 0\n",
    "    for k in v1:\n",
    "        try:\n",
    "            res += v1[k] * v2[k]\n",
    "        except KeyError:\n",
    "            pass # continue가 들어가도 됨\n",
    "    return res"
   ]
  },
  {
   "cell_type": "code",
   "execution_count": 218,
   "metadata": {},
   "outputs": [],
   "source": [
    "v1={'a':5}; v2={'a':3, 'b':2}\n",
    "v3={'c':5}; v4={'a':2, 'b':1}\n",
    "v5={'a':5, 'b':4}; v6={'a':-1, 'b':2}"
   ]
  },
  {
   "cell_type": "code",
   "execution_count": 219,
   "metadata": {},
   "outputs": [
    {
     "name": "stdout",
     "output_type": "stream",
     "text": [
      "15\n",
      "0\n",
      "3\n"
     ]
    }
   ],
   "source": [
    "print(dot_product3(v1,v2))\n",
    "print(dot_product3(v3,v4))\n",
    "print(dot_product3(v5,v6))"
   ]
  },
  {
   "cell_type": "code",
   "execution_count": 220,
   "metadata": {},
   "outputs": [],
   "source": [
    "def dot_product4(v1,v2):\n",
    "    return sum([v1[k] * v2[k] for k in v1 if k in v2])"
   ]
  },
  {
   "cell_type": "code",
   "execution_count": 221,
   "metadata": {},
   "outputs": [
    {
     "name": "stdout",
     "output_type": "stream",
     "text": [
      "15\n",
      "0\n",
      "3\n"
     ]
    }
   ],
   "source": [
    "print(dot_product4(v1,v2))\n",
    "print(dot_product4(v3,v4))\n",
    "print(dot_product4(v5,v6))"
   ]
  },
  {
   "cell_type": "markdown",
   "metadata": {},
   "source": [
    "# 난수(Random Number) 생성"
   ]
  },
  {
   "cell_type": "code",
   "execution_count": 222,
   "metadata": {},
   "outputs": [],
   "source": [
    "import random"
   ]
  },
  {
   "cell_type": "code",
   "execution_count": 223,
   "metadata": {},
   "outputs": [
    {
     "data": {
      "text/plain": [
       "'f'"
      ]
     },
     "execution_count": 223,
     "metadata": {},
     "output_type": "execute_result"
    }
   ],
   "source": [
    "# 리스트에서 무작위로 선택\n",
    "random.choice('abcdefg')"
   ]
  },
  {
   "cell_type": "code",
   "execution_count": 224,
   "metadata": {},
   "outputs": [
    {
     "data": {
      "text/plain": [
       "35"
      ]
     },
     "execution_count": 224,
     "metadata": {},
     "output_type": "execute_result"
    }
   ],
   "source": [
    "# a 이상 b 이하의 임의의 정수 뽑기 (a, b: int 타입)\n",
    "a = 30; b=40\n",
    "random.randint(a, b) # a ~ b 정수 값 중 하나;"
   ]
  },
  {
   "cell_type": "code",
   "execution_count": 225,
   "metadata": {},
   "outputs": [
    {
     "data": {
      "text/plain": [
       "35"
      ]
     },
     "execution_count": 225,
     "metadata": {},
     "output_type": "execute_result"
    }
   ],
   "source": [
    "random.randrange(a, b+1) #randint(a, b)와 완전 동일한 기능"
   ]
  },
  {
   "cell_type": "code",
   "execution_count": 233,
   "metadata": {},
   "outputs": [
    {
     "name": "stdout",
     "output_type": "stream",
     "text": [
      "[4, 3, 2, 5, 1]\n"
     ]
    }
   ],
   "source": [
    "# 리스트 내용 무작위 섞기\n",
    "a = [1, 2, 3, 4, 5]\n",
    "random.shuffle(a)\n",
    "print(a)"
   ]
  },
  {
   "cell_type": "code",
   "execution_count": 234,
   "metadata": {},
   "outputs": [
    {
     "data": {
      "text/plain": [
       "[2, 3, 5]"
      ]
     },
     "execution_count": 234,
     "metadata": {},
     "output_type": "execute_result"
    }
   ],
   "source": [
    "#리스트에서 정해진 개수만큼 무작위 뽑기\n",
    "random.sample([1, 2, 3, 4, 5, 6], 3) # 3개 샘플링"
   ]
  },
  {
   "cell_type": "markdown",
   "metadata": {},
   "source": [
    "# 연습문제 7\n",
    "로또 추첨 프로그램:  1~45 번호 중 6개 임의 선택 후 출력"
   ]
  },
  {
   "cell_type": "code",
   "execution_count": 319,
   "metadata": {},
   "outputs": [],
   "source": [
    "lst = []\n",
    "i = 0\n",
    "while i < 6:\n",
    "    num = random.randrange(1, 46)\n",
    "    if num not in lst:\n",
    "        lst.append(num)\n",
    "        i += 1\n",
    "    else:\n",
    "        num = random.randrange(1, 46)\n",
    "    "
   ]
  },
  {
   "cell_type": "code",
   "execution_count": 320,
   "metadata": {},
   "outputs": [
    {
     "name": "stdout",
     "output_type": "stream",
     "text": [
      "[29, 3, 43, 5, 24, 14]\n"
     ]
    }
   ],
   "source": [
    "print(lst)"
   ]
  },
  {
   "cell_type": "code",
   "execution_count": 336,
   "metadata": {},
   "outputs": [],
   "source": [
    "def lot():\n",
    "    lst = []\n",
    "    i = 0\n",
    "    while i < 6:\n",
    "        num = random.randrange(1, 46)\n",
    "        if num not in lst:\n",
    "            lst.append(num)\n",
    "            i += 1\n",
    "        else:\n",
    "            num = random.randrange(1, 46)\n",
    "    return lst"
   ]
  },
  {
   "cell_type": "code",
   "execution_count": 337,
   "metadata": {},
   "outputs": [
    {
     "data": {
      "text/plain": [
       "[1, 28, 18, 42, 3, 44]"
      ]
     },
     "execution_count": 337,
     "metadata": {},
     "output_type": "execute_result"
    }
   ],
   "source": [
    "lot()"
   ]
  },
  {
   "cell_type": "code",
   "execution_count": 356,
   "metadata": {},
   "outputs": [],
   "source": [
    "def lot2():\n",
    "    num2 = random.sample(list(range(1,46)),6)\n",
    "    return num2"
   ]
  },
  {
   "cell_type": "code",
   "execution_count": 357,
   "metadata": {},
   "outputs": [
    {
     "data": {
      "text/plain": [
       "[30, 2, 44, 26, 20, 40]"
      ]
     },
     "execution_count": 357,
     "metadata": {},
     "output_type": "execute_result"
    }
   ],
   "source": [
    "lot2()"
   ]
  },
  {
   "cell_type": "markdown",
   "metadata": {},
   "source": [
    "# Time 모듈"
   ]
  },
  {
   "cell_type": "code",
   "execution_count": 358,
   "metadata": {},
   "outputs": [],
   "source": [
    "import time"
   ]
  },
  {
   "cell_type": "code",
   "execution_count": 361,
   "metadata": {},
   "outputs": [
    {
     "data": {
      "text/plain": [
       "1579139124.5684824"
      ]
     },
     "execution_count": 361,
     "metadata": {},
     "output_type": "execute_result"
    }
   ],
   "source": [
    "# 1970년 1월 1일 0시 이후 누적된 초를 리턴\n",
    "time.time()"
   ]
  },
  {
   "cell_type": "code",
   "execution_count": 362,
   "metadata": {},
   "outputs": [
    {
     "data": {
      "text/plain": [
       "time.struct_time(tm_year=2020, tm_mon=1, tm_mday=16, tm_hour=10, tm_min=45, tm_sec=35, tm_wday=3, tm_yday=16, tm_isdst=0)"
      ]
     },
     "execution_count": 362,
     "metadata": {},
     "output_type": "execute_result"
    }
   ],
   "source": [
    "# 현재 한국 시각 리턴\n",
    "time.localtime()"
   ]
  },
  {
   "cell_type": "code",
   "execution_count": 369,
   "metadata": {},
   "outputs": [
    {
     "data": {
      "text/plain": [
       "'2020-01-16'"
      ]
     },
     "execution_count": 369,
     "metadata": {},
     "output_type": "execute_result"
    }
   ],
   "source": [
    "time.strftime('%Y-%m-%d', time.localtime(time.time()))"
   ]
  },
  {
   "cell_type": "code",
   "execution_count": 370,
   "metadata": {},
   "outputs": [
    {
     "data": {
      "text/plain": [
       "'Thu Jan 16 10:51:13 2020'"
      ]
     },
     "execution_count": 370,
     "metadata": {},
     "output_type": "execute_result"
    }
   ],
   "source": [
    "time.strftime('%c', time.localtime(time.time()))"
   ]
  },
  {
   "cell_type": "markdown",
   "metadata": {},
   "source": [
    "# 연습문제 8\n",
    "## 1. 문장을 입력받으면 해당 문장에서 각 알파벳이 몇 개씩 나오는지 저장하는 딕셔너리를 반환하는 함수를 작성하시오\n",
    "\n",
    "\n",
    "## 2. 1. 의 함수를 통해 생성된 딕셔너리를 입력받으면, 가장 많이 등장한\n",
    "알파벳을 리턴하는 함수를 작성하시오. (여러 개일 경우 하나만 리턴\n",
    "해도 무관)"
   ]
  },
  {
   "cell_type": "markdown",
   "metadata": {},
   "source": []
  },
  {
   "cell_type": "markdown",
   "metadata": {},
   "source": [
    "# OOP & Numpy"
   ]
  },
  {
   "cell_type": "markdown",
   "metadata": {},
   "source": [
    "객체 지향 프로그래밍 (Object-Oriented Programming; OOP) 이란?\n",
    "- 객체를 중심으로 프로그래밍 하는 기법\n",
    " - 객체와 그 객체들간의 상호작용 관점\n",
    "- 장점\n",
    " - 어떤 하나의 ‘객체’에 ‘객체’가 필요로 하는 데이터와 기능들을 모\n",
    "두 넣어 코드의 재사용성, 확장성, 가독성 개선"
   ]
  },
  {
   "cell_type": "markdown",
   "metadata": {},
   "source": [
    "# 클래스 (Class)"
   ]
  },
  {
   "cell_type": "markdown",
   "metadata": {},
   "source": [
    "- 객체 정의 -> 클래스 설계\n",
    " - 클래스: ‘틀’\n",
    "- 클래스가 가져야 할 속성과 기능을 정의하여야 함"
   ]
  },
  {
   "cell_type": "code",
   "execution_count": 382,
   "metadata": {},
   "outputs": [],
   "source": [
    "class Account:\n",
    "    # 계좌의 속성(Attribute)\n",
    "    number = 'OOOO-OOO-OOOOOO'\n",
    "    balance = 0\n",
    "    rate = 1.0\n",
    "    \n",
    "    # 계좌의 기능(Method)\n",
    "    def deposit(self, money): #입금\n",
    "        self.balance += money\n",
    "    def withdraw(self, money): #인출\n",
    "        self.balance -= money\n",
    "    def obtain_interest(self): #이자 획득\n",
    "        self.balance += self.balance * (self.rate / 100)"
   ]
  },
  {
   "cell_type": "markdown",
   "metadata": {},
   "source": [
    "# 인스턴스 (Instance)"
   ]
  },
  {
   "cell_type": "markdown",
   "metadata": {},
   "source": [
    "- 클래스로부터 여러 개의 객체 생성 가능\n",
    " - 생성된 객체: 인스턴스\n",
    " - 각 인스턴스는 서로 다른 속성을 가질 수 있음\n",
    "   - 서로 “다른” 객체이므로"
   ]
  },
  {
   "cell_type": "code",
   "execution_count": 388,
   "metadata": {},
   "outputs": [
    {
     "name": "stdout",
     "output_type": "stream",
     "text": [
      "500\n",
      "1000\n",
      "0\n"
     ]
    }
   ],
   "source": [
    "acc1 = Account()\n",
    "acc2 = Account()\n",
    "acc3 = Account()\n",
    "\n",
    "acc1.deposit(500)\n",
    "acc2.deposit(1000)\n",
    "\n",
    "print(acc1.balance)\n",
    "print(acc2.balance)\n",
    "print(acc3.balance)"
   ]
  },
  {
   "cell_type": "markdown",
   "metadata": {},
   "source": [
    "# 메소드 (Method)"
   ]
  },
  {
   "cell_type": "markdown",
   "metadata": {},
   "source": [
    "- 클래스가 가지는 기능을 클래스 내 메소드로 정의\n",
    "하여 사용할 수 있음\n",
    "- 메소드로 정의하는 경우\n",
    " - 클래스에 변화를 일으킬 때\n",
    " - 클래스가 능동적으로 하는 행동\n",
    " - 기타"
   ]
  },
  {
   "cell_type": "code",
   "execution_count": 389,
   "metadata": {},
   "outputs": [],
   "source": [
    "acc1.deposit(500)\n",
    "acc2.obtain_interest()"
   ]
  },
  {
   "cell_type": "code",
   "execution_count": 390,
   "metadata": {},
   "outputs": [
    {
     "name": "stdout",
     "output_type": "stream",
     "text": [
      "1000\n",
      "1010.0\n",
      "0\n"
     ]
    }
   ],
   "source": [
    "print(acc1.balance)\n",
    "print(acc2.balance)\n",
    "print(acc3.balance)"
   ]
  },
  {
   "cell_type": "markdown",
   "metadata": {},
   "source": [
    "# 생성자 (Constructor)"
   ]
  },
  {
   "cell_type": "markdown",
   "metadata": {},
   "source": [
    "- 인스턴스 생성 시, 자동으로 호출되는 특수 메소드\n",
    " - 정의하지 않아도 문제되지 않았던 이유: Default 생성자 존재"
   ]
  },
  {
   "cell_type": "markdown",
   "metadata": {},
   "source": [
    "- “__init__”이라는 이름을 지님"
   ]
  },
  {
   "cell_type": "code",
   "execution_count": 392,
   "metadata": {},
   "outputs": [],
   "source": [
    "class Account:\n",
    "...\n",
    "# def __init__(self): Default 생성자\n",
    "    def __init__(self, num= 'OOO-OOO-OOOOO' , amnt = 0, rate = 1.0):\n",
    "        self.number = num\n",
    "        self.balance = amnt\n",
    "        self.rate = rate\n",
    "\n",
    "# 생성자 추가\n",
    "# 생성자가 호출된다.\n",
    "# default 매개 변수를 넣어준다."
   ]
  },
  {
   "cell_type": "markdown",
   "metadata": {},
   "source": [
    "# 정보 은닉 (Information Hiding)"
   ]
  },
  {
   "cell_type": "markdown",
   "metadata": {},
   "source": [
    "- 사용자에게 알 필요가 없는 정보를 숨기고, 필요한\n",
    "- 정보만을 제공하는 것\n",
    " - 목적\n",
    " - 수정되어서는 안되는 속성 등을 지키기 위함"
   ]
  },
  {
   "cell_type": "code",
   "execution_count": 393,
   "metadata": {},
   "outputs": [],
   "source": [
    "class Account:\n",
    "...\n",
    "    def get_balance(self):\n",
    "        return self.balance\n",
    "    def set_balance(self, amnt):\n",
    "        self.balance = amnt"
   ]
  },
  {
   "cell_type": "markdown",
   "metadata": {},
   "source": [
    "# 정적 변수 (Static Variable)"
   ]
  },
  {
   "cell_type": "markdown",
   "metadata": {},
   "source": [
    "- 모든 인스턴스가 공유하는 변수 (클래스 변수)\n",
    "- 개설된 계좌의 총 개수를 알고 싶다면:"
   ]
  },
  {
   "cell_type": "raw",
   "metadata": {},
   "source": [
    "class Account:\n",
    "...\n",
    "    num_acc = 0\n",
    "    def __init__(...):\n",
    "    ...\n",
    "        Account.num_acc += 1  # Account의 클래스 변수 값 변경"
   ]
  },
  {
   "cell_type": "code",
   "execution_count": 397,
   "metadata": {},
   "outputs": [],
   "source": [
    "class Account:\n",
    "    num_acc = 0 # Account의 변수\n",
    "    def __init__(self, num= 'OOO-OOO-OOOOO' , amnt = 0, rate = 1.0):\n",
    "        self.number = num   # self가 있으면 instance의 변수 \n",
    "        self.balance = amnt\n",
    "        self.rate = rate\n",
    "        Account.num_acc += 1\n",
    "    \n",
    "    # 계좌의 기능(Method)\n",
    "    def deposit(self, money): #입금\n",
    "        self.balance += money #self.balance = self.balance + money\n",
    "    def withdraw(self, money): #인출\n",
    "        self.balance -= money\n",
    "    def obtain_interest(self): #이자 획득\n",
    "        self.balance += self.balance * (self.rate / 100)\n",
    "    "
   ]
  },
  {
   "cell_type": "code",
   "execution_count": 398,
   "metadata": {},
   "outputs": [
    {
     "name": "stdout",
     "output_type": "stream",
     "text": [
      "3\n",
      "3\n"
     ]
    }
   ],
   "source": [
    "acc1 = Account()\n",
    "acc2 = Account()\n",
    "acc3 = Account()\n",
    "print(acc1.num_acc) # 3\n",
    "print(Account.num_acc) # 3"
   ]
  },
  {
   "cell_type": "markdown",
   "metadata": {},
   "source": [
    "# 상속 (Inheritance)"
   ]
  },
  {
   "cell_type": "markdown",
   "metadata": {},
   "source": [
    "- 기존 클래스의 필드와 메소드를 모두 물려받아 새로운 클래스를 만드는 것\n",
    " - 특수한 기능의 계좌가 있다면, 기존 계좌의 속성과 메소드를 물려 받아 만드는 것이 효율적\n"
   ]
  },
  {
   "cell_type": "code",
   "execution_count": 400,
   "metadata": {},
   "outputs": [],
   "source": [
    "# 최소잔액계좌\n",
    "class MinBalanceAccount(Account): #Account 클래스를 상속받음\n",
    "    def __init__(self, min_balance, num = 'OOOO-OOO-OOOOO', amnt = 0, rate = 1.0): # min_balance 추가됨\n",
    "        Account.__init__(self, num = num, amnt = amnt, rate = rate) \n",
    "        # Account의 __init__ 함수를 호출 (Account 생성자)\n",
    "        # 키워드 매개변수 (좌변에 Account의 매개변수, 우변은 init의 매개변수)\n",
    "        \n",
    "        self.minimum_balance = min_balance\n",
    "        self.bonus_rate = 1.0"
   ]
  },
  {
   "cell_type": "markdown",
   "metadata": {},
   "source": [
    "# 다형성 (Polymorphism)"
   ]
  },
  {
   "cell_type": "markdown",
   "metadata": {},
   "source": [
    "- 상속 관계 내의 다른 클래스들의 인스턴스들이 서로 다른 동작을 할 수 있도록 하는 것\n",
    " - Method Overriding\n",
    " - Operator Overloading\n",
    "- 이점\n",
    " - 코드의 길이를 줄여 가독성 향상"
   ]
  },
  {
   "cell_type": "markdown",
   "metadata": {},
   "source": [
    "# 메소드 오버라이딩 (Method Overriding)"
   ]
  },
  {
   "cell_type": "markdown",
   "metadata": {},
   "source": [
    "-  상위 클래스의 메소드를 하위 클래스에서 재정의"
   ]
  },
  {
   "cell_type": "code",
   "execution_count": 408,
   "metadata": {},
   "outputs": [],
   "source": [
    "class MinBalanceAccount(Account):\n",
    "    def withdraw(self, amnt): # 인출 기능 수정\n",
    "        if self.balance - amnt < self.minimum_balance:\n",
    "            print('Sorry, minimum balance must be maintained')\n",
    "        else:\n",
    "            Account.withdraw(self, amnt)\n",
    "            \n",
    "    def obtain_interest(self): #보너스 이율 반영\n",
    "        self.balance +=(self.balance)*((self.rate+self.bonus_rate)/100.0)"
   ]
  },
  {
   "cell_type": "markdown",
   "metadata": {},
   "source": [
    "# 연산자 오버로딩 (Operator Overloading)"
   ]
  },
  {
   "cell_type": "markdown",
   "metadata": {},
   "source": [
    "- 연산자를 클래스에 맞게 재정의하여 사용하는 것\n",
    " - 연산자: +, -, *, /"
   ]
  },
  {
   "cell_type": "raw",
   "metadata": {},
   "source": [
    "class Account:\n",
    "    ...\n",
    "    def __add__(self, another): #두 계좌 통합 기능\n",
    "        new_acc=Account(amnt=self.balance+another.balance, rate=self.rate)\n",
    "        return new_acc"
   ]
  },
  {
   "cell_type": "code",
   "execution_count": 415,
   "metadata": {},
   "outputs": [],
   "source": [
    "class Account:\n",
    "    num_acc = 0 # Account의 변수\n",
    "    def __init__(self, num= 'OOO-OOO-OOOOO' , amnt = 0, rate = 1.0):\n",
    "        self.number = num   # self가 있으면 instance의 변수 \n",
    "        self.balance = amnt\n",
    "        self.rate = rate\n",
    "        Account.num_acc += 1\n",
    "    \n",
    "    # 계좌의 기능(Method)\n",
    "    def deposit(self, money): #입금\n",
    "        self.balance += money #self.balance = self.balance + money\n",
    "    def withdraw(self, money): #인출\n",
    "        self.balance -= money\n",
    "    def obtain_interest(self): #이자 획득\n",
    "        self.balance += self.balance * (self.rate / 100)\n",
    "    def get_balance(self):\n",
    "        return self.balance\n",
    "    def set_balance(self, amnt):\n",
    "        self.balance = amnt\n",
    "    \n",
    "    ## 연산자 오버로딩 ##\n",
    "    def __add__(self, another): #두 계좌 통합 기능\n",
    "        new_acc=Account(amnt=self.balance+another.balance, rate=self.rate)\n",
    "        return new_acc        \n",
    "    "
   ]
  },
  {
   "cell_type": "code",
   "execution_count": 417,
   "metadata": {},
   "outputs": [
    {
     "name": "stdout",
     "output_type": "stream",
     "text": [
      "500\n",
      "1000\n",
      "1500\n"
     ]
    }
   ],
   "source": [
    "acc1 = Account()\n",
    "acc2 = Account()\n",
    "#acc3 = Account()\n",
    "#print(acc1.num_acc) # 3\n",
    "#print(Account.num_acc) # 3\n",
    "acc1.deposit(500)\n",
    "acc2.deposit(1000)\n",
    "acc3 = acc1 + acc2\n",
    "print(acc1.get_balance())\n",
    "print(acc2.get_balance())\n",
    "print(acc3.get_balance())"
   ]
  },
  {
   "cell_type": "code",
   "execution_count": 419,
   "metadata": {},
   "outputs": [
    {
     "name": "stdout",
     "output_type": "stream",
     "text": [
      "1500\n"
     ]
    }
   ],
   "source": [
    "acc1.deposit(500) # == Account.deposit(acc1, 500) 완전 동일하다.\n",
    "Account.deposit(acc1,500)\n",
    "print(acc1.balance)"
   ]
  },
  {
   "cell_type": "markdown",
   "metadata": {},
   "source": [
    "# 연습문제 1\n",
    "- 계좌이체 메소드 구현\n",
    "  - def transfer(self, another, amnt)"
   ]
  },
  {
   "cell_type": "raw",
   "metadata": {},
   "source": [
    "acc1= MinBalanceAccount(min_balance=0)\n",
    "acc1.set_balance(500)\n",
    "acc2= MinBalanceAccount(min_balance=0)\n",
    "acc2.set_balance(1000)\n",
    "acc1.transfer(acc2, 100) # acc1에서 acc2로 100원\n",
    "print(acc1.get_balance()) # 400\n",
    "print(acc2.get_balance()) # 1100"
   ]
  },
  {
   "cell_type": "code",
   "execution_count": 422,
   "metadata": {},
   "outputs": [],
   "source": [
    "class Account:\n",
    "    num_acc = 0 # Account의 변수\n",
    "    def __init__(self, num= 'OOO-OOO-OOOOO' , amnt = 0, rate = 1.0):\n",
    "        self.number = num   # self가 있으면 instance의 변수 \n",
    "        self.balance = amnt\n",
    "        self.rate = rate\n",
    "        Account.num_acc += 1\n",
    "    \n",
    "    # 계좌의 기능(Method)\n",
    "    def deposit(self, money): #입금\n",
    "        self.balance += money #self.balance = self.balance + money\n",
    "    def withdraw(self, money): #인출\n",
    "        self.balance -= money\n",
    "    def obtain_interest(self): #이자 획득\n",
    "        self.balance += self.balance * (self.rate / 100)\n",
    "    def get_balance(self):\n",
    "        return self.balance\n",
    "    def set_balance(self, amnt):\n",
    "        self.balance = amnt\n",
    "        \n",
    "    def transfer(self, another, money):\n",
    "        self.balance -= money\n",
    "        another.balance += money\n",
    "    \n",
    "    ## 연산자 오버로딩 ##\n",
    "    def __add__(self, another): #두 계좌 통합 기능\n",
    "        new_acc=Account(amnt=self.balance+another.balance, rate=self.rate)\n",
    "        return new_acc        \n",
    "\n",
    "class MinBalanceAccount(Account):\n",
    "    def __init__(self, min_balance, num = 'OOOO-OOO-OOOOO', amnt = 0, rate = 1.0): # min_balance 추가됨\n",
    "        Account.__init__(self, num = num, amnt = amnt, rate = rate) \n",
    "        # Account의 __init__ 함수를 호출 (Account 생성자)\n",
    "        # 키워드 매개변수 (좌변에 Account의 매개변수, 우변은 init의 매개변수)\n",
    "        \n",
    "        self.minimum_balance = min_balance\n",
    "        self.bonus_rate = 1.0\n",
    "        \n",
    "    def withdraw(self, amnt): # 인출 기능 수정\n",
    "        if self.balance - amnt < self.minimum_balance:\n",
    "            print('Sorry, minimum balance must be maintained')\n",
    "        else:\n",
    "            Account.withdraw(self, amnt)\n",
    "            \n",
    "    def obtain_interest(self): #보너스 이율 반영\n",
    "        self.balance +=(self.balance)*((self.rate+self.bonus_rate)/100.0)\n",
    "        \n",
    "    def transfer(self, another, money):\n",
    "        if self.balance - money < self.minimum_balance:\n",
    "            print('Sorry, minimum balance must be maintained')\n",
    "        else:\n",
    "            Account.transfer(self, another, money)\n",
    "        \n",
    "        "
   ]
  },
  {
   "cell_type": "code",
   "execution_count": 427,
   "metadata": {},
   "outputs": [
    {
     "name": "stdout",
     "output_type": "stream",
     "text": [
      "400\n",
      "1100\n",
      "Sorry, minimum balance must be maintained\n",
      "400\n",
      "1100\n"
     ]
    }
   ],
   "source": [
    "acc1= MinBalanceAccount(min_balance=0)\n",
    "acc1.set_balance(500)\n",
    "acc2= MinBalanceAccount(min_balance=0)\n",
    "acc2.set_balance(1000)\n",
    "\n",
    "acc1.transfer(acc2, 100) # acc1에서 acc2로 100원\n",
    "print(acc1.get_balance()) # 400\n",
    "print(acc2.get_balance()) # 1100\n",
    "\n",
    "acc1.transfer(acc2, 1000) # acc1에서 acc2로 100원\n",
    "print(acc1.get_balance()) # 400\n",
    "print(acc2.get_balance()) # 1100\n"
   ]
  },
  {
   "cell_type": "code",
   "execution_count": 477,
   "metadata": {},
   "outputs": [],
   "source": [
    "class Account:\n",
    "    num_acc = 0 # Account의 변수\n",
    "    def __init__(self, num= 'OOO-OOO-OOOOO' , amnt = 0, rate = 1.0):\n",
    "        self.number = num   # self가 있으면 instance의 변수 \n",
    "        self.balance = amnt\n",
    "        self.rate = rate\n",
    "        Account.num_acc += 1\n",
    "    \n",
    "    # 계좌의 기능(Method)\n",
    "    def deposit(self, money): #입금\n",
    "        self.balance += money #self.balance = self.balance + money\n",
    "    \n",
    "    def withdraw(self, money): #인출\n",
    "        self.balance -= money\n",
    "        return True\n",
    "    \n",
    "    def obtain_interest(self): #이자 획득\n",
    "        self.balance += self.balance * (self.rate / 100)\n",
    "    def get_balance(self):\n",
    "        return self.balance\n",
    "    def set_balance(self, amnt):\n",
    "        self.balance = amnt\n",
    "        \n",
    "    def transfer(self, another, money):\n",
    "        #self.balance -= money\n",
    "        #another.balance += money\n",
    "        if self.withdraw(money):\n",
    "            #self.withdraw(money)\n",
    "            another.deposit(money)\n",
    "   \n",
    "    ## 연산자 오버로딩 ##\n",
    "    def __add__(self, another): #두 계좌 통합 기능\n",
    "        new_acc=Account(amnt=self.balance+another.balance, rate=self.rate)\n",
    "        return new_acc        \n",
    "\n",
    "class MinBalanceAccount(Account):\n",
    "    def __init__(self, min_balance, num = 'OOOO-OOO-OOOOO', amnt = 0, rate = 1.0): # min_balance 추가됨\n",
    "        Account.__init__(self, num = num, amnt = amnt, rate = rate) \n",
    "        # Account의 __init__ 함수를 호출 (Account 생성자)\n",
    "        # 키워드 매개변수 (좌변에 Account의 매개변수, 우변은 init의 매개변수)\n",
    "        \n",
    "        self.minimum_balance = min_balance\n",
    "        self.bonus_rate = 1.0\n",
    "        \n",
    "    def withdraw(self, amnt): # 인출 기능 수정\n",
    "        if self.balance - amnt < self.minimum_balance:\n",
    "            print('Sorry, minimum balance must be maintained')\n",
    "        else:\n",
    "            Account.withdraw(self, amnt)\n",
    "            return True\n",
    "            \n",
    "    def obtain_interest(self): #보너스 이율 반영\n",
    "        self.balance +=(self.balance)*((self.rate+self.bonus_rate)/100.0)\n",
    "        \n"
   ]
  },
  {
   "cell_type": "code",
   "execution_count": 478,
   "metadata": {},
   "outputs": [
    {
     "name": "stdout",
     "output_type": "stream",
     "text": [
      "400\n",
      "1100\n",
      "Sorry, minimum balance must be maintained\n",
      "400\n",
      "1100\n"
     ]
    }
   ],
   "source": [
    "acc1= MinBalanceAccount(min_balance=0)\n",
    "acc1.set_balance(500)\n",
    "acc2= MinBalanceAccount(min_balance=0)\n",
    "acc2.set_balance(1000)\n",
    "\n",
    "acc1.transfer(acc2, 100) # acc1에서 acc2로 100원\n",
    "print(acc1.get_balance()) # 400\n",
    "print(acc2.get_balance()) # 1100\n",
    "\n",
    "acc1.transfer(acc2, 1000) # acc1에서 acc2로 100원\n",
    "print(acc1.get_balance()) # 400\n",
    "print(acc2.get_balance()) # 1100\n"
   ]
  },
  {
   "cell_type": "code",
   "execution_count": null,
   "metadata": {},
   "outputs": [],
   "source": [
    "# 원래는 객체를 return 하는데\n",
    "# 원하는 값으로 프린트 하도록 하는 함수\n",
    "def __repre__(self):\n",
    "    return self.balance"
   ]
  },
  {
   "cell_type": "code",
   "execution_count": 454,
   "metadata": {},
   "outputs": [],
   "source": [
    "def asdf(n):\n",
    "    if n >5 :\n",
    "        return True\n",
    "    else:\n",
    "        return False\n",
    "\n",
    "n = 4    \n",
    "if asdf(n):\n",
    "    print('안녕')"
   ]
  },
  {
   "cell_type": "code",
   "execution_count": null,
   "metadata": {},
   "outputs": [],
   "source": []
  },
  {
   "cell_type": "code",
   "execution_count": null,
   "metadata": {},
   "outputs": [],
   "source": []
  },
  {
   "cell_type": "code",
   "execution_count": null,
   "metadata": {},
   "outputs": [],
   "source": []
  },
  {
   "cell_type": "code",
   "execution_count": null,
   "metadata": {},
   "outputs": [],
   "source": []
  },
  {
   "cell_type": "code",
   "execution_count": null,
   "metadata": {},
   "outputs": [],
   "source": []
  }
 ],
 "metadata": {
  "kernelspec": {
   "display_name": "Python 3",
   "language": "python",
   "name": "python3"
  },
  "language_info": {
   "codemirror_mode": {
    "name": "ipython",
    "version": 3
   },
   "file_extension": ".py",
   "mimetype": "text/x-python",
   "name": "python",
   "nbconvert_exporter": "python",
   "pygments_lexer": "ipython3",
   "version": "3.7.4"
  }
 },
 "nbformat": 4,
 "nbformat_minor": 2
}
