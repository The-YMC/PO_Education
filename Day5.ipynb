{
 "cells": [
  {
   "cell_type": "raw",
   "metadata": {},
   "source": [
    "Day 5\n",
    "200117(금)"
   ]
  },
  {
   "cell_type": "markdown",
   "metadata": {},
   "source": [
    "# Numpy 란?"
   ]
  },
  {
   "cell_type": "markdown",
   "metadata": {},
   "source": [
    "- 행렬(Matrix) 및 Tensor 연산을 쉽고 빠르게 해주는 Python의 라이브러리\n",
    "- 앞으로 진행할 실습에서 많이 사용될 예정\n",
    "- Tensorflow, Theano 등의 주요 NN 라이브러리에서 데이터 관련 작\n",
    "업 시 직접 활용하게 됨"
   ]
  },
  {
   "cell_type": "markdown",
   "metadata": {},
   "source": [
    "- 설치\n",
    " - sudo pip install numpy\n",
    "- 설치확인 (Python 내에서)\n",
    " -  import numpy\n",
    "- 문제없이 import 되면 설치가 된 것\n",
    " - Numpy 버전 확인\n",
    "  -  import numpy\n",
    "  -  numpy.__version__"
   ]
  },
  {
   "cell_type": "markdown",
   "metadata": {},
   "source": [
    "# Arrays\n",
    "배열(Array) 값을 명시하여 생성하는 방법"
   ]
  },
  {
   "cell_type": "code",
   "execution_count": 3,
   "metadata": {},
   "outputs": [
    {
     "name": "stdout",
     "output_type": "stream",
     "text": [
      "<class 'numpy.ndarray'>\n",
      "(3,)\n",
      "1 2 3\n",
      "[5 2 3]\n",
      "(2, 3)\n",
      "1 2 4\n"
     ]
    }
   ],
   "source": [
    "import numpy as np\n",
    "a = np.array([1,2,3]) # 1차원 array [1,2,3] 생성\n",
    "print(type(a))\n",
    "print(a.shape)\n",
    "print(a[0], a[1], a[2])\n",
    "a[0] = 5\n",
    "print(a)\n",
    "b = np.array([[1,2,3],[4,5,6]])\n",
    "print(b.shape)\n",
    "print(b[0, 0], b[0, 1], b[1, 0])"
   ]
  },
  {
   "cell_type": "markdown",
   "metadata": {},
   "source": [
    "# 배열 값을 직접 주지 않고 생성하는 방법\n",
    "# zeros, ones, full, eye, random.random"
   ]
  },
  {
   "cell_type": "code",
   "execution_count": 4,
   "metadata": {},
   "outputs": [
    {
     "name": "stdout",
     "output_type": "stream",
     "text": [
      "[[0. 0.]\n",
      " [0. 0.]]\n",
      "[[1. 1.]]\n",
      "[[7 7]\n",
      " [7 7]]\n",
      "[[1. 0.]\n",
      " [0. 1.]]\n",
      "[[0.97749639 0.12175899]\n",
      " [0.68141948 0.59182304]]\n"
     ]
    }
   ],
   "source": [
    "import numpy as np\n",
    "a = np.zeros((2,2)) # 모든 값이 0인 2x2 array 생성\n",
    "print(a)\n",
    "b = np.ones((1,2)) # 모든 값이 1인 1x2 array 생성\n",
    "print(b)\n",
    "c = np.full((2,2), 7) # 모든 값이 7인 2x2 array 생성\n",
    "print(c)\n",
    "d = np.eye(2) # 2x2 단위행렬(Identity matrix) 생성\n",
    "print(d)\n",
    "e = np.random.random((2,2)) # 0~1 랜덤 값을 가지는 2x2 array 생성\n",
    "print(e)"
   ]
  },
  {
   "cell_type": "markdown",
   "metadata": {},
   "source": [
    "# Array Slicing\n",
    "- 배열의 일부를 가져다 오는 방법\n",
    "- 인덱스 영역에 콜론(:) 사용\n",
    " - [:2] 시작부터 2 앞까지 (0, 1)\n",
    " - [1:3]  1부터 3 앞까지 (1, 2)\n",
    " - [:] 모든 인덱스\n",
    " - [1:] 1부터 끝"
   ]
  },
  {
   "cell_type": "code",
   "execution_count": 6,
   "metadata": {},
   "outputs": [
    {
     "name": "stdout",
     "output_type": "stream",
     "text": [
      "2\n",
      "77\n"
     ]
    }
   ],
   "source": [
    "import numpy as np\n",
    "a = np.array([[1,2,3,4],[5,6,7,8],[9,10,11,12]])\n",
    "\n",
    "#첫번째 행의 처음부터 2 앞까지(0,1), 두번째 행에서\n",
    "#1부터 3 앞까지(1,2)의 값들을 떠와 b에 할당.\n",
    "#따라서 b 는 다음과 같은 2x2 array:\n",
    "#[[2 3]\n",
    "#[6 7]]\n",
    "b = a[:2, 1:3]\n",
    "print(a[0, 1])\n",
    "b[0, 0] = 77\n",
    "print(a[0, 1])\n",
    "# Slicing을 한다고 해서 값을 복사해가는 것이 아니므로\n",
    "# 값의 변화가 동시에 일어남"
   ]
  },
  {
   "cell_type": "code",
   "execution_count": 27,
   "metadata": {},
   "outputs": [
    {
     "name": "stdout",
     "output_type": "stream",
     "text": [
      "두 번째 행의 값들을 모두 가져오는 두 가지 방법\n",
      "[5 6 7 8] (4,)\n",
      "[[5 6 7 8]] (1, 4)\n",
      "\n",
      "두 번째 열의 값들을 모두 가져오는 두 가지 방법\n",
      "[ 2  6 10] (3,)\n",
      "[[ 2]\n",
      " [ 6]\n",
      " [10]] (3, 1)\n"
     ]
    }
   ],
   "source": [
    "import numpy as np\n",
    "# 2차원 배열(3x4) 생성\n",
    "# [[ 1 2 3 4]\n",
    "#  [ 5 6 7 8]\n",
    "#  [ 9 10 11 12]]\n",
    "a = np.array([[1,2,3,4],[5,6,7,8],[9,10,11,12]])\n",
    "\n",
    "# 두 번째 행의 값들을 모두 가져오는 두 가지 방법\n",
    "print(\"두 번째 행의 값들을 모두 가져오는 두 가지 방법\")\n",
    "row_r1 = a[1, :]   # 1차원 행렬 (4,)\n",
    "row_r2 = a[1:2, :] # 2차원 행렬 (1x4) – 기존 차원 유지\n",
    "\n",
    "\n",
    "print(row_r1, row_r1.shape)\n",
    "print(row_r2, row_r2.shape)\n",
    "print()\n",
    "\n",
    "# 두 번째 열의 값들을 모두 가져오는 두 가지 방법\n",
    "print(\"두 번째 열의 값들을 모두 가져오는 두 가지 방법\")\n",
    "col_r1 = a[:,1]\n",
    "col_r2 = a[:,1:2]\n",
    "print(col_r1,col_r1.shape)\n",
    "print(col_r2,col_r2.shape)"
   ]
  },
  {
   "cell_type": "markdown",
   "metadata": {},
   "source": [
    "# Array Indexing"
   ]
  },
  {
   "cell_type": "code",
   "execution_count": 29,
   "metadata": {},
   "outputs": [
    {
     "name": "stdout",
     "output_type": "stream",
     "text": [
      "[1 4 5]\n",
      "(3,)\n",
      "[1 4 5]\n",
      "[1 4 5]\n",
      "[2 2]\n",
      "[2 2]\n"
     ]
    }
   ],
   "source": [
    "import numpy as np\n",
    "# 2차원 배열(3x2) 생성\n",
    "# [[ 1 2]\n",
    "#  [ 3 4]\n",
    "#  [ 5 6]]\n",
    "a = np.array([[1, 2], [3, 4], [5, 6]])\n",
    "\n",
    "# [1 4 5]를 가져오는 방법\n",
    "b = np.array([a[0,0], a[1,1], a[2,0]])\n",
    "print(b)\n",
    "print(b.shape)\n",
    "\n",
    "# [1 4 5] 1차원 행렬(3,)을 얻는 두 가지 방법\n",
    "print(a[[0, 1, 2], [0, 1, 0]]) ## 0행 1행 2행 ## 0열 1열 0열\n",
    "\n",
    "print(np.array([a[0, 0], a[1, 1], a[2, 0]]))\n",
    "# [2 2] 1차원 행렬(2,)을 얻는 두 가지 방법\n",
    "print(a[[0, 0], [1, 1]])\n",
    "print(np.array([a[0, 1], a[0, 1]]))"
   ]
  },
  {
   "cell_type": "code",
   "execution_count": 34,
   "metadata": {},
   "outputs": [
    {
     "name": "stdout",
     "output_type": "stream",
     "text": [
      "[[ 1  2  3]\n",
      " [ 4  5  6]\n",
      " [ 7  8  9]\n",
      " [10 11 12]]\n",
      "\n",
      "[0 2 0 1]\n",
      "[0 1 2 3] <class 'numpy.ndarray'>\n",
      "[ 1  6  7 11]\n",
      "\n",
      "[[11  2  3]\n",
      " [ 4  5 16]\n",
      " [17  8  9]\n",
      " [10 21 12]]\n"
     ]
    }
   ],
   "source": [
    "import numpy as np\n",
    "# 2차원 배열(4x3) 생성\n",
    "# [[ 1 2 3]\n",
    "#  [ 4 5 6]\n",
    "#  [ 7 8 9]\n",
    "#  [ 10 11 12]]\n",
    "a = np.array([[1,2,3],[4,5,6],[7,8,9],[10,11,12]])\n",
    "print(a)\n",
    "print()\n",
    "\n",
    "b = np.array([0, 2, 0, 1])\n",
    "print(b)\n",
    "print(np.arange(4), type(np.arange(4))) #np.array(ranga(4))\n",
    "print(a[np.arange(4), b]) # [1 6 7 11]\n",
    "\n",
    "\n",
    "print()\n",
    "a[np.arange(4), b] += 10    # 왼쪽 벡터 #오른쪽 스칼라 # 모든 백터에 대해 스칼라가 더해짐\n",
    "print(a) # array([[11, 2, 3],\n",
    "         #        [4, 5, 16],\n",
    "         #        [17, 8, 9],\n",
    "         #        [10, 21, 12]])"
   ]
  },
  {
   "cell_type": "markdown",
   "metadata": {},
   "source": [
    "# 데이터 타입"
   ]
  },
  {
   "cell_type": "code",
   "execution_count": 35,
   "metadata": {},
   "outputs": [
    {
     "name": "stdout",
     "output_type": "stream",
     "text": [
      "int64\n",
      "float64\n",
      "int64\n"
     ]
    }
   ],
   "source": [
    "import numpy as np\n",
    "x = np.array([1, 2])\n",
    "print(x.dtype) # prints “int64” 64는 65비트를 나타내는 것같음 (데이터 크기)\n",
    "\n",
    "x = np.array([1.0, 2.0])\n",
    "print(x.dtype) # “float64”\n",
    "\n",
    "x = np.array([1, 2], dtype=np.int64) # 데이터타입 명시\n",
    "print(x.dtype) # “int64”"
   ]
  },
  {
   "cell_type": "markdown",
   "metadata": {},
   "source": [
    "# Array 연산"
   ]
  },
  {
   "cell_type": "code",
   "execution_count": 14,
   "metadata": {},
   "outputs": [
    {
     "name": "stdout",
     "output_type": "stream",
     "text": [
      "[[ 6.  8.]\n",
      " [10. 12.]]\n",
      "[[ 6.  8.]\n",
      " [10. 12.]]\n",
      "[[-4. -4.]\n",
      " [-4. -4.]]\n",
      "[[-4. -4.]\n",
      " [-4. -4.]]\n"
     ]
    }
   ],
   "source": [
    "import numpy as np\n",
    "\n",
    "x = np.array([[1, 2], [3, 4]], dtype=np.float64) \n",
    "y = np.array([[5, 6], [7, 8]], dtype=np.float64) \n",
    "\n",
    "# Elementwise sum (Elementwise 원소들이 각각의 위치들에서 더한다.)\n",
    "# [[ 6.0  8.0]\n",
    "# [10.0 12.0]]\n",
    "\n",
    "print(x + y) \n",
    "print(np.add(x, y))\n",
    "\n",
    "\n",
    "# Elementwise difference\n",
    "# [[-4.0 -4.0] \n",
    "# [-4.0 -4.0]]\n",
    "\n",
    "print(x - y) \n",
    "print(np.subtract(x, y)) \n"
   ]
  },
  {
   "cell_type": "code",
   "execution_count": 15,
   "metadata": {},
   "outputs": [
    {
     "name": "stdout",
     "output_type": "stream",
     "text": [
      "[[ 5. 12.]\n",
      " [21. 32.]]\n",
      "[[ 5. 12.]\n",
      " [21. 32.]]\n",
      "[[0.2        0.33333333]\n",
      " [0.42857143 0.5       ]]\n",
      "[[0.2        0.33333333]\n",
      " [0.42857143 0.5       ]]\n",
      "[[1.         1.41421356]\n",
      " [1.73205081 2.        ]]\n"
     ]
    }
   ],
   "source": [
    "# Elementwise product\n",
    "# [[ 5.0 12.0]\n",
    "# [21.0 32.0]]\n",
    "\n",
    "print(x * y)\n",
    "print(np.multiply(x, y))\n",
    "\n",
    "# Elementwise division\n",
    "# [[0.2 0.33333333]\n",
    "# [0.42857143 0.5]]\n",
    "print(x / y)\n",
    "print(np.divide(x, y))\n",
    "\n",
    "\n",
    "# Elementwise square root\n",
    "# [[1. 1.41421356]\n",
    "#[1.73205081 2.]]\n",
    "print(np.sqrt(x))"
   ]
  },
  {
   "cell_type": "markdown",
   "metadata": {},
   "source": [
    "# Array 연산 – Dot product"
   ]
  },
  {
   "cell_type": "code",
   "execution_count": 36,
   "metadata": {},
   "outputs": [
    {
     "name": "stdout",
     "output_type": "stream",
     "text": [
      "219\n",
      "219\n",
      "\n",
      "[29 67]\n",
      "[29 67]\n",
      "\n",
      "[[19 22]\n",
      " [43 50]]\n",
      "[[19 22]\n",
      " [43 50]]\n"
     ]
    }
   ],
   "source": [
    "import numpy as np\n",
    "x = np.array([[1, 2], [3, 4]])\n",
    "y = np.array([[5, 6], [7, 8]])\n",
    "v = np.array([9, 10])\n",
    "w = np.array([11, 12])\n",
    "# v · w = 219\n",
    "print(v.dot(w))\n",
    "print(np.dot(v, w)) # 두 연산은 같음 // 같은 함수를 호출함\n",
    "print()\n",
    "# 매트릭스 / 벡터 곱; [29 67]\n",
    "print(x.dot(v))\n",
    "print(np.dot(x, v))\n",
    "print()\n",
    "\n",
    "# 매트릭스 / 매트릭스 곱;\n",
    "# [[19 22]\n",
    "# [43 50]]\n",
    "print(x.dot(y))\n",
    "print(np.dot(x, y))"
   ]
  },
  {
   "cell_type": "markdown",
   "metadata": {},
   "source": [
    "# Array 연산 - Sum"
   ]
  },
  {
   "cell_type": "code",
   "execution_count": 44,
   "metadata": {},
   "outputs": [
    {
     "name": "stdout",
     "output_type": "stream",
     "text": [
      "10\n",
      "[4 6]\n",
      "[3 7]\n",
      "24.0\n",
      "[[2. 2. 2. 2.]\n",
      " [2. 2. 2. 2.]\n",
      " [2. 2. 2. 2.]]\n",
      "[[3. 3. 3. 3.]\n",
      " [3. 3. 3. 3.]]\n",
      "[[4. 4. 4.]\n",
      " [4. 4. 4.]]\n"
     ]
    }
   ],
   "source": [
    "import numpy as np\n",
    "x = np.array([[1, 2], [3, 4]])\n",
    "print(np.sum(x))\n",
    "# 모든 원소의 합\n",
    "print(np.sum(x, axis=0)) # 각 열의 합\n",
    "print(np.sum(x, axis=1)) # 각 행의 합\n",
    "\n",
    "\n",
    "a = np.ones((2,3,4))\n",
    "#print(a)\n",
    "a.shape\n",
    "print(np.sum(a))\n",
    "print(np.sum(a, axis = 0)) # 0차원 없어짐\n",
    "print(np.sum(a, axis = 1)) # 1차원 없어짐\n",
    "print(np.sum(a, axis = 2))"
   ]
  },
  {
   "cell_type": "markdown",
   "metadata": {},
   "source": [
    "# Array 연산 - Transpose"
   ]
  },
  {
   "cell_type": "code",
   "execution_count": 19,
   "metadata": {},
   "outputs": [
    {
     "name": "stdout",
     "output_type": "stream",
     "text": [
      "[[1 2]\n",
      " [3 4]]\n",
      "[[1 3]\n",
      " [2 4]]\n",
      "[1 2 3]\n",
      "[1 2 3]\n"
     ]
    }
   ],
   "source": [
    "import numpy as np\n",
    "x = np.array([[1, 2], [3, 4]])\n",
    "print(x)\n",
    "# 전치행렬 (Transposed mat.)\n",
    "print(x.T)\n",
    "\n",
    "v = np.array([1,2,3])\n",
    "print(v)\n",
    "# prints “[1 2 3]”\n",
    "\n",
    "# 벡터는 Transpose가 안된다.\n",
    "print(v.T)\n",
    "# prints “[1 2 3]”"
   ]
  },
  {
   "cell_type": "markdown",
   "metadata": {},
   "source": [
    "# Broadcasting"
   ]
  },
  {
   "cell_type": "code",
   "execution_count": 48,
   "metadata": {},
   "outputs": [
    {
     "name": "stdout",
     "output_type": "stream",
     "text": [
      "[[ 2  2  4]\n",
      " [ 5  5  7]\n",
      " [ 8  8 10]\n",
      " [11 11 13]]\n"
     ]
    }
   ],
   "source": [
    "# x에 v를 각 행에 더하고 싶음\n",
    "# Broadcasting을 이용하지 않은 예\n",
    "import numpy as np\n",
    "x = np.array([[1,2,3], \n",
    "              [4,5,6], \n",
    "              [7,8,9], \n",
    "              [10,11,12]])\n",
    "\n",
    "v = np.array([1,0,1])\n",
    "y = np.empty_like(x) # x와 같은 shape의 빈 매트릭스 만들기\n",
    "# x의 각 행에 v와 elementwise 합을 하여 y의 해당 행에 할당\n",
    "\n",
    "for i in range(x.shape[0]): # 4는 행의 개수(x.shape[0])\n",
    "    y[i, :] = x[i, :] + v\n",
    "#     y[i] = x[i] + v   # ':'를 생략해도 된다.\n",
    "    \n",
    "# [[ 2 2 4]\n",
    "# [[ 5 5 7]\n",
    "# [[ 8 8 10]\n",
    "# [ 11 11 13]]\n",
    "print(y)"
   ]
  },
  {
   "cell_type": "code",
   "execution_count": 22,
   "metadata": {},
   "outputs": [
    {
     "name": "stdout",
     "output_type": "stream",
     "text": [
      "[[1 0 1]\n",
      " [1 0 1]\n",
      " [1 0 1]\n",
      " [1 0 1]]\n",
      "[[ 2  2  4]\n",
      " [ 5  5  7]\n",
      " [ 8  8 10]\n",
      " [11 11 13]]\n"
     ]
    }
   ],
   "source": [
    "import numpy as np\n",
    "x = np.array([[1,2,3], \n",
    "              [4,5,6], \n",
    "              [7,8,9], \n",
    "              [10,11,12]])\n",
    "v = np.array([1,0,1])\n",
    "vv = np.tile(v, (4, 1)) # v 내용을 4x1의 각 행에 반복함\n",
    "print(vv)\n",
    "# [[ 2 2 4]\n",
    "# [[ 5 5 7]\n",
    "# [[ 8 8 10]\n",
    "# [ 11 11 13]]\n",
    "\n",
    "y = x + vv\n",
    "print(y)\n",
    "# [[ 2 2 4]\n",
    "# [[ 5 5 7]\n",
    "# [[ 8 8 10]\n",
    "# [ 11 11 13]]"
   ]
  },
  {
   "cell_type": "code",
   "execution_count": 71,
   "metadata": {},
   "outputs": [
    {
     "name": "stdout",
     "output_type": "stream",
     "text": [
      "[[ 2  2  4]\n",
      " [ 5  5  7]\n",
      " [ 8  8 10]\n",
      " [11 11 13]]\n"
     ]
    }
   ],
   "source": [
    "# 브로드캐스팅 이용\n",
    "import numpy as np\n",
    "x = np.array([[1,2,3], [4,5,6], [7,8,9], [10,11,12]])\n",
    "v = np.array([1,0,1])\n",
    "# 브로드캐스팅을 사용하여 x의 각 행에 v값을 더함\n",
    "# shape이 안맞다..? 왜 그럴까? 자동으로 인식한다.\n",
    "# 브로드캐스팅 유용하다.\n",
    "\n",
    "y = x + v\n",
    "# [[ 2 2 4]\n",
    "# [[ 5 5 7]\n",
    "# [[ 8 8 10]\n",
    "# [ 11 11 13]]\n",
    "print(y)\n",
    "\n",
    "#y = x.T + v 트랜스 포즈를 하면 안된다."
   ]
  },
  {
   "cell_type": "code",
   "execution_count": null,
   "metadata": {},
   "outputs": [],
   "source": []
  },
  {
   "cell_type": "raw",
   "metadata": {},
   "source": [
    "# 브로드 캐스팅 가능\n",
    "(4,3) (1,3) 가능\n",
    "(3,4) (3,2) 가능\n",
    "(2,3,4) (1,3,1) # 축이 여러개라면 조건이 모두 맞아야 브로드캐스팅이다. 하나라도 맞지 않으면 브로드 캐스팅이 안된다.\n",
    "# 브로드 캐스팅이 된다. (2,3,4) (1,3,2) 이건 조건이 맞지 않아서 안된다.\n",
    "\n",
    "\n",
    "(4,3) (3,) 가능 (제일 뒤에 있는 것과 아귀가 맞으면 가능)\n",
    "(3,4) (3,) 불가능 하지만 (3,4) (3,1)이면 가능"
   ]
  },
  {
   "cell_type": "code",
   "execution_count": 57,
   "metadata": {},
   "outputs": [
    {
     "name": "stdout",
     "output_type": "stream",
     "text": [
      "(3, 1)\n",
      "(3, 1)\n"
     ]
    }
   ],
   "source": [
    "# reshape은 필수\n",
    "a = np.array([1,2,3])\n",
    "a1 = a.reshape([3,1]) # reshape은 데이터가 같은 얘들끼리 바꿀 수 있다.\n",
    "print(a1.shape)\n",
    "\n",
    "a2 = a[:, None] # index 영역에 None을 사용하여 넣는 방법이 있음\n",
    "print(a2.shape)"
   ]
  },
  {
   "cell_type": "markdown",
   "metadata": {},
   "source": [
    "# Broadcasting 활용 예\n",
    "- Covariance Matrix 구할 때\n",
    "  - 어떤 행렬의 각 열의 값들과 해당 열의 평균의 차를 계산하여 구함"
   ]
  },
  {
   "cell_type": "markdown",
   "metadata": {},
   "source": [
    "# 주요 함수\n",
    "- numpy.linalg.inv – 역행렬 계산 함수\n",
    "- numpy.matlib.repmat – 확장 함수\n",
    "- numpy.linalg.norm – Euclidean Distance 계산 함수\n",
    "- numpy.conv – Covariance Matrix 계산 함수"
   ]
  },
  {
   "cell_type": "markdown",
   "metadata": {},
   "source": [
    "# 연습문제 2\n",
    "-  연립 2차 방정식 풀기\n",
    " - a + b = 15\n",
    " - 2a + b = 25\n",
    "- 행렬로 표현가능하다.\n",
    "- 이를 계산하는 프로그램 작성하기"
   ]
  },
  {
   "cell_type": "code",
   "execution_count": 61,
   "metadata": {},
   "outputs": [],
   "source": [
    "a = np.array([[1,1],[2,1]])\n",
    "b = np.array([15,25])"
   ]
  },
  {
   "cell_type": "code",
   "execution_count": 66,
   "metadata": {},
   "outputs": [
    {
     "name": "stdout",
     "output_type": "stream",
     "text": [
      "[10.  5.]\n"
     ]
    }
   ],
   "source": [
    "c = np.dot(np.linalg.inv(a),b)\n",
    "print(c)"
   ]
  },
  {
   "cell_type": "markdown",
   "metadata": {},
   "source": [
    "# pickle\n",
    "- 데이터를 타입 변경 없이, 파일로 저장 및 불러오기가 가능하도록 하는 모듈\n",
    " - list, dict, numpy.array, ...\n",
    " - cf.\n",
    "   - read, write 함수는 string으로만 입출력 가능"
   ]
  },
  {
   "cell_type": "markdown",
   "metadata": {},
   "source": [
    "- pickle.dump(npair, file)\n",
    "  - npair를 file로 저장하는 함수\n",
    "- pickle.load(file)\n",
    "  - file을 읽고 로드하는 함수"
   ]
  },
  {
   "cell_type": "markdown",
   "metadata": {},
   "source": [
    "예) 딕셔너리를 파일로 저장 & 불러오기"
   ]
  },
  {
   "cell_type": "code",
   "execution_count": 69,
   "metadata": {},
   "outputs": [],
   "source": [
    "import pickle\n",
    "favorite_color = {\"lion\": \"yellow\", \"kitty\": \"red\"}\n",
    "pickle.dump( favorite_color, open(\"save.p\", \"wb\"))"
   ]
  },
  {
   "cell_type": "code",
   "execution_count": 72,
   "metadata": {},
   "outputs": [],
   "source": [
    "import pickle\n",
    "favorite_color = pickle.load(open(\"save.p\", \"rb\"))"
   ]
  },
  {
   "cell_type": "code",
   "execution_count": null,
   "metadata": {},
   "outputs": [],
   "source": []
  },
  {
   "cell_type": "code",
   "execution_count": null,
   "metadata": {},
   "outputs": [],
   "source": []
  },
  {
   "cell_type": "code",
   "execution_count": 29,
   "metadata": {},
   "outputs": [],
   "source": [
    "import numpy as np\n",
    "def mean_and_var(*val):\n",
    "    #x = [x for x in zip(*val)]\n",
    "    avg = [sum(x) / len(x) for x in zip(*val)]\n",
    "    var = [np.var(x)for x in zip(*val)]\n",
    "\n",
    "    return (avg, var)"
   ]
  },
  {
   "cell_type": "code",
   "execution_count": 30,
   "metadata": {},
   "outputs": [
    {
     "data": {
      "text/plain": [
       "([0.5, 0.5, 3.3333333333333335],\n",
       " [0.16666666666666666, 0.16666666666666666, 0.22222222222222224])"
      ]
     },
     "execution_count": 30,
     "metadata": {},
     "output_type": "execute_result"
    }
   ],
   "source": [
    "v1 = (0, 1,3)\n",
    "v2 = (0.5, 0.5,3)\n",
    "v3 = (1, 0,4)\n",
    "mean_and_var(v1, v2, v3)"
   ]
  },
  {
   "cell_type": "code",
   "execution_count": null,
   "metadata": {},
   "outputs": [],
   "source": []
  },
  {
   "cell_type": "code",
   "execution_count": 33,
   "metadata": {},
   "outputs": [
    {
     "name": "stdout",
     "output_type": "stream",
     "text": [
      "{1: 'a', 2: 'b'}\n"
     ]
    }
   ],
   "source": [
    "t ={1:'a'}\n",
    "def test(a):\n",
    "    a[2] = 'b'\n",
    "    \n",
    "test(t)\n",
    "print(t)"
   ]
  },
  {
   "cell_type": "code",
   "execution_count": 34,
   "metadata": {},
   "outputs": [
    {
     "name": "stdout",
     "output_type": "stream",
     "text": [
      "(1, 2, 3)\n"
     ]
    }
   ],
   "source": [
    "t = (1,2,3)\n",
    "def test(a):\n",
    "    a += (4,5,6)\n",
    "test(t)\n",
    "print(t)"
   ]
  },
  {
   "cell_type": "code",
   "execution_count": 42,
   "metadata": {},
   "outputs": [
    {
     "name": "stdout",
     "output_type": "stream",
     "text": [
      "2\n"
     ]
    }
   ],
   "source": [
    "t = 1\n",
    "def test(a):\n",
    "    a+= 1\n",
    "    \n",
    "    return a\n",
    "\n",
    "    T\n",
    "b = test(t)\n",
    "print(b)"
   ]
  },
  {
   "cell_type": "code",
   "execution_count": 43,
   "metadata": {},
   "outputs": [
    {
     "name": "stdout",
     "output_type": "stream",
     "text": [
      "16\n",
      "15\n",
      "14\n",
      "13\n",
      "12\n",
      "11\n",
      "10\n",
      "9\n",
      "8\n",
      "7\n",
      "6\n",
      "5\n",
      "4\n",
      "3\n",
      "2\n"
     ]
    }
   ],
   "source": [
    "for i in range(15+1,1,-1):\n",
    "    print(i)"
   ]
  },
  {
   "cell_type": "code",
   "execution_count": 127,
   "metadata": {},
   "outputs": [],
   "source": [
    "def mean_and_var(*val):\n",
    "    list_avg = []\n",
    "    list_var = []\n",
    "    \n",
    "    for i in range(len(val[0])):\n",
    "        temp = []\n",
    "        for j in val:\n",
    "            temp.append(j[i])\n",
    "        list_avg.append(sum(temp)/len(temp))\n",
    "        temp2 = []\n",
    "        \n",
    "        for k in temp:\n",
    "            temp2.append((k-list_avg[i])**2)\n",
    "            print(temp2)\n",
    "        list_var.append( (sum(temp2) / len(temp) )  )\n",
    "        \n"
   ]
  },
  {
   "cell_type": "code",
   "execution_count": 128,
   "metadata": {},
   "outputs": [
    {
     "name": "stdout",
     "output_type": "stream",
     "text": [
      "[0.25]\n",
      "[0.25, 0.0]\n",
      "[0.25, 0.0, 0.25]\n",
      "[0.25]\n",
      "[0.25, 1.0]\n",
      "[0.25, 1.0, 2.25]\n",
      "[0.16666666666666666, 1.1666666666666667]\n"
     ]
    }
   ],
   "source": [
    "v1 = (0, 1)\n",
    "v2 = (0.5, 0.5)\n",
    "v3 = (1, 3)\n",
    "mean_and_var(v1, v2, v3)"
   ]
  },
  {
   "cell_type": "code",
   "execution_count": 78,
   "metadata": {},
   "outputs": [
    {
     "data": {
      "text/plain": [
       "2"
      ]
     },
     "execution_count": 78,
     "metadata": {},
     "output_type": "execute_result"
    }
   ],
   "source": [
    "lst = [1,2]\n",
    "sum(lst)\n",
    "len(lst)"
   ]
  },
  {
   "cell_type": "code",
   "execution_count": 126,
   "metadata": {},
   "outputs": [
    {
     "data": {
      "text/plain": [
       "0.16666666666666666"
      ]
     },
     "execution_count": 126,
     "metadata": {},
     "output_type": "execute_result"
    }
   ],
   "source": [
    "0.5/3"
   ]
  },
  {
   "cell_type": "code",
   "execution_count": null,
   "metadata": {},
   "outputs": [],
   "source": []
  },
  {
   "cell_type": "code",
   "execution_count": null,
   "metadata": {},
   "outputs": [],
   "source": []
  },
  {
   "cell_type": "code",
   "execution_count": null,
   "metadata": {},
   "outputs": [],
   "source": []
  },
  {
   "cell_type": "code",
   "execution_count": null,
   "metadata": {},
   "outputs": [],
   "source": []
  },
  {
   "cell_type": "code",
   "execution_count": null,
   "metadata": {},
   "outputs": [],
   "source": []
  }
 ],
 "metadata": {
  "kernelspec": {
   "display_name": "Python 3",
   "language": "python",
   "name": "python3"
  },
  "language_info": {
   "codemirror_mode": {
    "name": "ipython",
    "version": 3
   },
   "file_extension": ".py",
   "mimetype": "text/x-python",
   "name": "python",
   "nbconvert_exporter": "python",
   "pygments_lexer": "ipython3",
   "version": "3.7.4"
  }
 },
 "nbformat": 4,
 "nbformat_minor": 2
}
