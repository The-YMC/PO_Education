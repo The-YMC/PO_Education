{
 "cells": [
  {
   "cell_type": "markdown",
   "metadata": {},
   "source": [
    "# 파이썬 프로그래밍 기초 실습1"
   ]
  },
  {
   "cell_type": "raw",
   "metadata": {},
   "source": [
    "2020년 1월 13일(월)이름: (    양 명 철     )    이메일: (   jk00085@naver.com      )"
   ]
  },
  {
   "cell_type": "markdown",
   "metadata": {},
   "source": [
    "# 1. 변수"
   ]
  },
  {
   "cell_type": "raw",
   "metadata": {},
   "source": [
    ">>> a = 1   # 변수 할당\n",
    ">>> b, c, d = 2, 3, 4  # 한번에 여러 변수 할당"
   ]
  },
  {
   "cell_type": "raw",
   "metadata": {},
   "source": [
    "실습1)\n",
    "a, b 에 각각 5, 8을 할당하고 곱셈을 한 값을 result에 저장하여 출력하는 프로그램 작성하기"
   ]
  },
  {
   "cell_type": "code",
   "execution_count": 8,
   "metadata": {},
   "outputs": [
    {
     "name": "stdout",
     "output_type": "stream",
     "text": [
      "5 * 8 = 40\n"
     ]
    }
   ],
   "source": [
    "a = 5\n",
    "b = 8\n",
    "print(a ,\"*\", b, \"=\", a * b)"
   ]
  },
  {
   "cell_type": "raw",
   "metadata": {},
   "source": [
    "실습2)\n",
    "x, y 에 각각 10, 20을 할당한 후, 다른 변수 z를 이용하여 두 수를 교환하는 프로그램 작성하기\n",
    "(단, x, y에 숫자를 할당한 후에는 숫자를 직접 이용하지 않는다.)"
   ]
  },
  {
   "cell_type": "code",
   "execution_count": 10,
   "metadata": {},
   "outputs": [
    {
     "name": "stdout",
     "output_type": "stream",
     "text": [
      "before x:  10 before y:  20\n"
     ]
    }
   ],
   "source": [
    "x = 10\n",
    "y = 20\n",
    "print(\"before x: \", x , \"before y: \", y)"
   ]
  },
  {
   "cell_type": "code",
   "execution_count": 11,
   "metadata": {},
   "outputs": [
    {
     "name": "stdout",
     "output_type": "stream",
     "text": [
      "after x:  20 after y:  10\n"
     ]
    }
   ],
   "source": [
    "z = x\n",
    "x = y\n",
    "y = z\n",
    "print(\"after x: \", x , \"after y: \", y)"
   ]
  },
  {
   "cell_type": "markdown",
   "metadata": {},
   "source": [
    "# 2. 문자열"
   ]
  },
  {
   "cell_type": "raw",
   "metadata": {},
   "source": [
    ">>> a = 100      # 정수\n",
    ">>> s1 = \"200\"    # 문자열(큰 따옴표)\n",
    ">>> s2 = '300'     # 문자열(작은 따옴표)\n",
    "\n",
    ">>> print (s1 + s2)\n",
    "                                  #결과\n",
    ">>> print                         #s1, s2사용\n",
    "500"
   ]
  },
  {
   "cell_type": "code",
   "execution_count": 12,
   "metadata": {},
   "outputs": [],
   "source": [
    "a = 100\n",
    "s1 = \"200\"\n",
    "s2 = '300'"
   ]
  },
  {
   "cell_type": "code",
   "execution_count": 13,
   "metadata": {},
   "outputs": [
    {
     "name": "stdout",
     "output_type": "stream",
     "text": [
      "200300\n"
     ]
    }
   ],
   "source": [
    "print(s1 +s2)"
   ]
  },
  {
   "cell_type": "code",
   "execution_count": 15,
   "metadata": {},
   "outputs": [
    {
     "name": "stdout",
     "output_type": "stream",
     "text": [
      "500\n"
     ]
    }
   ],
   "source": [
    "print(int(s1)+int(s2))"
   ]
  },
  {
   "cell_type": "markdown",
   "metadata": {},
   "source": [
    "실습1)아래의 코드가 정상적으로 동작하도록 수정하시오.\n",
    "에러메시지 확인 후, 수정하시오"
   ]
  },
  {
   "cell_type": "code",
   "execution_count": 16,
   "metadata": {},
   "outputs": [
    {
     "ename": "TypeError",
     "evalue": "can only concatenate str (not \"int\") to str",
     "output_type": "error",
     "traceback": [
      "\u001b[0;31m---------------------------------------------------------------------------\u001b[0m",
      "\u001b[0;31mTypeError\u001b[0m                                 Traceback (most recent call last)",
      "\u001b[0;32m<ipython-input-16-784707c36c44>\u001b[0m in \u001b[0;36m<module>\u001b[0;34m\u001b[0m\n\u001b[0;32m----> 1\u001b[0;31m \u001b[0mprint\u001b[0m \u001b[0;34m(\u001b[0m\u001b[0;34m\"수학 점수는 \"\u001b[0m \u001b[0;34m+\u001b[0m \u001b[0;36m90\u001b[0m \u001b[0;34m+\u001b[0m \u001b[0;34m\"점 이다.\"\u001b[0m\u001b[0;34m)\u001b[0m\u001b[0;34m\u001b[0m\u001b[0;34m\u001b[0m\u001b[0m\n\u001b[0m",
      "\u001b[0;31mTypeError\u001b[0m: can only concatenate str (not \"int\") to str"
     ]
    }
   ],
   "source": [
    "print (\"수학 점수는 \" + 90 + \"점 이다.\") #에러있음"
   ]
  },
  {
   "cell_type": "code",
   "execution_count": 17,
   "metadata": {},
   "outputs": [
    {
     "name": "stdout",
     "output_type": "stream",
     "text": [
      "수학 점수는 90점 이다.\n"
     ]
    }
   ],
   "source": [
    "print (\"수학 점수는 \" +  str(90) + \"점 이다.\") #에러있음"
   ]
  },
  {
   "cell_type": "raw",
   "metadata": {},
   "source": [
    " # 문자열 합치기 +"
   ]
  },
  {
   "cell_type": "code",
   "execution_count": 18,
   "metadata": {},
   "outputs": [
    {
     "name": "stdout",
     "output_type": "stream",
     "text": [
      "lifeistoo short\n"
     ]
    }
   ],
   "source": [
    "print (\"life\"+\"is\"+\"too short\")"
   ]
  },
  {
   "cell_type": "raw",
   "metadata": {},
   "source": [
    "# 문자열 곱하기 *"
   ]
  },
  {
   "cell_type": "code",
   "execution_count": 19,
   "metadata": {},
   "outputs": [
    {
     "name": "stdout",
     "output_type": "stream",
     "text": [
      "pythonpythonpython\n"
     ]
    }
   ],
   "source": [
    "print (\"python\" * 3)"
   ]
  },
  {
   "cell_type": "raw",
   "metadata": {},
   "source": [
    "# 문자열 내에 변수의 값을 출력하고 싶으면 %"
   ]
  },
  {
   "cell_type": "code",
   "execution_count": 20,
   "metadata": {},
   "outputs": [
    {
     "name": "stdout",
     "output_type": "stream",
     "text": [
      "I eat 3 apples.\n"
     ]
    }
   ],
   "source": [
    "print (\"I eat %d apples.\" % 3)"
   ]
  },
  {
   "cell_type": "code",
   "execution_count": 21,
   "metadata": {},
   "outputs": [
    {
     "name": "stdout",
     "output_type": "stream",
     "text": [
      "I ate 10 apples, so I was sick for three days. \n"
     ]
    }
   ],
   "source": [
    "number = 10\n",
    "day = \"three\"\n",
    "print (\"I ate %d apples, so I was sick for %s days. \" % (number, day))"
   ]
  },
  {
   "cell_type": "raw",
   "metadata": {},
   "source": [
    "# %s 는 어떤 형태든 대입이 가능\n",
    "(%s는 자동으로 % 뒤의 값을 문자열로 치환)"
   ]
  },
  {
   "cell_type": "code",
   "execution_count": 22,
   "metadata": {},
   "outputs": [
    {
     "name": "stdout",
     "output_type": "stream",
     "text": [
      "I eat 3 apples.\n"
     ]
    }
   ],
   "source": [
    "print (\"I eat %s apples.\" % 3)"
   ]
  },
  {
   "cell_type": "raw",
   "metadata": {},
   "source": [
    "# 코드 채우기"
   ]
  },
  {
   "cell_type": "code",
   "execution_count": 23,
   "metadata": {},
   "outputs": [
    {
     "name": "stdout",
     "output_type": "stream",
     "text": [
      "상품의 가격 입력: 10000\n"
     ]
    }
   ],
   "source": [
    "price = int(input(\"상품의 가격 입력: \"))"
   ]
  },
  {
   "cell_type": "code",
   "execution_count": 26,
   "metadata": {},
   "outputs": [
    {
     "name": "stdout",
     "output_type": "stream",
     "text": [
      "상품의 가격은 10000 원입니다.\n"
     ]
    }
   ],
   "source": [
    "print(\"상품의 가격은 %d 원입니다.\" %price)"
   ]
  },
  {
   "cell_type": "raw",
   "metadata": {},
   "source": [
    "# 문자열 길이 구하기: len() 함수 이용"
   ]
  },
  {
   "cell_type": "code",
   "execution_count": 27,
   "metadata": {},
   "outputs": [
    {
     "data": {
      "text/plain": [
       "6"
      ]
     },
     "execution_count": 27,
     "metadata": {},
     "output_type": "execute_result"
    }
   ],
   "source": [
    "s = \"python\"\n",
    "len(s)"
   ]
  },
  {
   "cell_type": "raw",
   "metadata": {},
   "source": [
    "# 문자열 Indexing, slicing 활용"
   ]
  },
  {
   "cell_type": "code",
   "execution_count": 28,
   "metadata": {},
   "outputs": [
    {
     "data": {
      "text/plain": [
       "'pos'"
      ]
     },
     "execution_count": 28,
     "metadata": {},
     "output_type": "execute_result"
    }
   ],
   "source": [
    "s = 'Mission Impossible'\n",
    "s[10:13]"
   ]
  },
  {
   "cell_type": "code",
   "execution_count": null,
   "metadata": {},
   "outputs": [],
   "source": [
    "s1 = \"red apple\"\n",
    "s2 = \"yellow banana\""
   ]
  },
  {
   "cell_type": "code",
   "execution_count": 29,
   "metadata": {},
   "outputs": [
    {
     "name": "stdout",
     "output_type": "stream",
     "text": [
      "red banana\n"
     ]
    }
   ],
   "source": [
    "s3 = \"red banana\"                    \n",
    "print (s3)"
   ]
  },
  {
   "cell_type": "code",
   "execution_count": 31,
   "metadata": {},
   "outputs": [
    {
     "name": "stdout",
     "output_type": "stream",
     "text": [
      "yellow apple\n"
     ]
    }
   ],
   "source": [
    "s4 = \"yellow apple\"                              \n",
    "print (s4)"
   ]
  },
  {
   "cell_type": "markdown",
   "metadata": {},
   "source": [
    "# 3. 산술연산자\n",
    "종류: + , -, *, /, %, // ,**"
   ]
  },
  {
   "cell_type": "code",
   "execution_count": 32,
   "metadata": {},
   "outputs": [
    {
     "data": {
      "text/plain": [
       "75"
      ]
     },
     "execution_count": 32,
     "metadata": {},
     "output_type": "execute_result"
    }
   ],
   "source": [
    "7 % 3"
   ]
  },
  {
   "cell_type": "code",
   "execution_count": 33,
   "metadata": {},
   "outputs": [
    {
     "data": {
      "text/plain": [
       "2"
      ]
     },
     "execution_count": 33,
     "metadata": {},
     "output_type": "execute_result"
    }
   ],
   "source": [
    "7 // 3"
   ]
  },
  {
   "cell_type": "code",
   "execution_count": 34,
   "metadata": {},
   "outputs": [
    {
     "data": {
      "text/plain": [
       "8"
      ]
     },
     "execution_count": 34,
     "metadata": {},
     "output_type": "execute_result"
    }
   ],
   "source": [
    "2 ** 3"
   ]
  },
  {
   "cell_type": "code",
   "execution_count": 35,
   "metadata": {},
   "outputs": [
    {
     "data": {
      "text/plain": [
       "21"
      ]
     },
     "execution_count": 35,
     "metadata": {},
     "output_type": "execute_result"
    }
   ],
   "source": [
    "2 ** 4 + 5"
   ]
  },
  {
   "cell_type": "code",
   "execution_count": 36,
   "metadata": {},
   "outputs": [
    {
     "data": {
      "text/plain": [
       "75"
      ]
     },
     "execution_count": 36,
     "metadata": {},
     "output_type": "execute_result"
    }
   ],
   "source": [
    "3 * 5 ** 2"
   ]
  },
  {
   "cell_type": "raw",
   "metadata": {},
   "source": [
    "※ 나누기 연산자의 정수연산이 2.x과 3.x버전의 결과 다름"
   ]
  },
  {
   "cell_type": "markdown",
   "metadata": {},
   "source": [
    "# 4. 연습문제 (제출파일명: HW1.ipynb)"
   ]
  },
  {
   "cell_type": "markdown",
   "metadata": {},
   "source": [
    "# (문제 1) PPT(실습 문제1)\n",
    "화씨온도(℉)를 입력 받아서 섭씨온도(℃)로 바꾸는 프로그램을 작성하시오. (밑줄은 사용자 입력)\n",
    "C = (F-32)* 5/9"
   ]
  },
  {
   "cell_type": "code",
   "execution_count": 37,
   "metadata": {},
   "outputs": [
    {
     "name": "stdout",
     "output_type": "stream",
     "text": [
      "화씨온도: 100\n"
     ]
    }
   ],
   "source": [
    "Fal = float(input(\"화씨온도: \"))"
   ]
  },
  {
   "cell_type": "code",
   "execution_count": 38,
   "metadata": {},
   "outputs": [
    {
     "name": "stdout",
     "output_type": "stream",
     "text": [
      "섭씨온도: 37.77777777777778\n"
     ]
    }
   ],
   "source": [
    "Cel = (Fal-32)*5/9\n",
    "print(\"섭씨온도:\", Cel)"
   ]
  },
  {
   "cell_type": "markdown",
   "metadata": {},
   "source": [
    "# (문제 2) 자동 판매기 프로그램 - PPT(실습문제2)"
   ]
  },
  {
   "cell_type": "raw",
   "metadata": {},
   "source": [
    "사용자로부터 투입한 돈과 물건 값을 입력 받아, 잔돈을 계산하여 출력한다.\n",
    "단, 동전의 개수는 최소화 할 것\n",
    "- 물건 값은 100원 단위\n",
    "- 자판기의 동전은 500원, 100원만 있음"
   ]
  },
  {
   "cell_type": "code",
   "execution_count": 40,
   "metadata": {},
   "outputs": [
    {
     "name": "stdout",
     "output_type": "stream",
     "text": [
      "plase input Money: 5000\n",
      "please input price: 2700\n"
     ]
    }
   ],
   "source": [
    "inputMoney = int(input(\"plase input Money: \"))\n",
    "price = int (input(\"please input price: \"))"
   ]
  },
  {
   "cell_type": "code",
   "execution_count": 47,
   "metadata": {},
   "outputs": [],
   "source": [
    "inputMoney = 5000\n",
    "price = 2700\n",
    "changeMoney = inputMoney - price"
   ]
  },
  {
   "cell_type": "code",
   "execution_count": 48,
   "metadata": {},
   "outputs": [],
   "source": [
    "coin500 = changeMoney // 500\n",
    "changeMoney2 = changeMoney - coin500 * 500\n",
    "coin100 = changeMoney2 //100"
   ]
  },
  {
   "cell_type": "code",
   "execution_count": 49,
   "metadata": {},
   "outputs": [
    {
     "name": "stdout",
     "output_type": "stream",
     "text": [
      "투입한 돈:  5000\n",
      "물건값:  2700\n",
      "거스름돈:  2300\n",
      "500원짜리:  4 개\n",
      "100원짜리:  3 개\n"
     ]
    }
   ],
   "source": [
    " even_list + odd_listprint(\"투입한 돈: \", inputMoney)\n",
    "print(\"물건값: \", price)\n",
    "print(\"거스름돈: \", changeMoney)\n",
    "print(\"500원짜리: \", coin500, \"개\")\n",
    "print(\"100원짜리: \", coin100, \"개\")\n"
   ]
  },
  {
   "cell_type": "markdown",
   "metadata": {},
   "source": [
    "# (문제 3) 원의 반지름을 r을 입력 받아, 원의 둘레와 넓이를 구하는 프로그램을 작성하시오"
   ]
  },
  {
   "cell_type": "code",
   "execution_count": 50,
   "metadata": {},
   "outputs": [
    {
     "name": "stdout",
     "output_type": "stream",
     "text": [
      "반지름을 입력하시오:50\n"
     ]
    }
   ],
   "source": [
    "radius = float(input(\"반지름을 입력하시오:\"))\n",
    "pi = 3.141592"
   ]
  },
  {
   "cell_type": "code",
   "execution_count": 51,
   "metadata": {},
   "outputs": [
    {
     "name": "stdout",
     "output_type": "stream",
     "text": [
      "원 둘레: 31.42 \n",
      "원 넓이: 78.54\n"
     ]
    }
   ],
   "source": [
    "radius = 5\n",
    "diameter = 2 * pi * radius\n",
    "area = pi * radius **2\n",
    "print(\"원 둘레: %.2f \" % diameter)\n",
    "print(\"원 넓이: %.2f\" % area)"
   ]
  },
  {
   "cell_type": "markdown",
   "metadata": {},
   "source": [
    "# (문제 4) 한 문장을 입력 받아, 아래와 같이 각 알파벳 각 문자를 원소로 갖는 리스트를 작성하시오. (문장중에 ! , . ? –를 제외한 문자의 입력은 고려하지 않는다.)"
   ]
  },
  {
   "cell_type": "raw",
   "metadata": {},
   "source": [
    "한 문장을 입력하시오: Python is fun!\n",
    "['P', 'y', 't', 'h', 'o', 'n', ' ', 'i', 's', ' ', 'f', 'u', 'n', '!']"
   ]
  },
  {
   "cell_type": "code",
   "execution_count": 52,
   "metadata": {},
   "outputs": [
    {
     "name": "stdout",
     "output_type": "stream",
     "text": [
      "한 문장을 입력하시오: Python is fun!\n"
     ]
    }
   ],
   "source": [
    "sentence = input(\"한 문장을 입력하시오: \")"
   ]
  },
  {
   "cell_type": "code",
   "execution_count": 59,
   "metadata": {},
   "outputs": [
    {
     "name": "stdout",
     "output_type": "stream",
     "text": [
      "['P', 'y', 't', 'h', 'o', 'n', ' ', 'i', 's', ' ', 'f', 'u', 'n', '!']\n"
     ]
    }
   ],
   "source": [
    "print(list(sentence))\n"
   ]
  },
  {
   "cell_type": "markdown",
   "metadata": {},
   "source": [
    "# (문제 5) 2개의 정수를 입력 받아, 사칙연산 및 나머지 연산의 결과를 아래와 같이 출력하는 프로그램을 작성하시오."
   ]
  },
  {
   "cell_type": "code",
   "execution_count": 77,
   "metadata": {},
   "outputs": [
    {
     "name": "stdout",
     "output_type": "stream",
     "text": [
      "Enter two integers: 8 5\n"
     ]
    }
   ],
   "source": [
    "numbers = input(\"Enter two integers: \")"
   ]
  },
  {
   "cell_type": "code",
   "execution_count": 85,
   "metadata": {},
   "outputs": [],
   "source": [
    "a, b = numbers.split()"
   ]
  },
  {
   "cell_type": "code",
   "execution_count": 86,
   "metadata": {},
   "outputs": [],
   "source": [
    "a = int(a)\n",
    "b = int(b)"
   ]
  },
  {
   "cell_type": "code",
   "execution_count": 88,
   "metadata": {},
   "outputs": [
    {
     "name": "stdout",
     "output_type": "stream",
     "text": [
      "8 + 5 = 13\n",
      "8 - 5 = 3\n",
      "8 * 5 = 40\n",
      "8 / 5 = 1.6\n",
      "8 % 5 = 3\n"
     ]
    }
   ],
   "source": [
    "print(a ,\"+\", b, \"=\", a+b)\n",
    "print(a ,\"-\", b, \"=\", a-b)\n",
    "print(a ,\"*\", b, \"=\", a*b)\n",
    "print(a ,\"/\", b, \"=\", a/b)\n",
    "print(a ,\"%\", b, \"=\", a%b)"
   ]
  },
  {
   "cell_type": "markdown",
   "metadata": {},
   "source": [
    "# (문제 6) 두 정수를 한 문장을 입력하시오: Python is fun!\n",
    "['P', 'y', 't', 'h', 'o', 'n', ' ', 'i', 's', ' ', 'f', 'u', 'n', '!']입력 받아, 합과 평균을 구하여 출력하는 프로그램을 작성하시오.\n",
    "(평균 소수 첫째 자리까지 나타내기) "
   ]
  },
  {
   "cell_type": "code",
   "execution_count": 91,
   "metadata": {},
   "outputs": [
    {
     "name": "stdout",
     "output_type": "stream",
     "text": [
      "Enter two integers: 70 90\n"
     ]
    }
   ],
   "source": [
    "numbers = input(\"Enter two integers: \").split()"
   ]
  },
  {
   "cell_type": "code",
   "execution_count": 92,
   "metadata": {},
   "outputs": [],
   "source": [
    "numbers = [\"70\", \"91\"]\n",
    "numbers[0] = int(numbers[0])\n",
    "numbers[1] = int(numbers[1])"
   ]
  },
  {
   "cell_type": "code",
   "execution_count": 93,
   "metadata": {},
   "outputs": [
    {
     "name": "stdout",
     "output_type": "stream",
     "text": [
      "The sum of 70 and 91 is 161\n",
      "The average of 70 and 91 is 80.5\n"
     ]
    }
   ],
   "source": [
    "print(\"The sum of %d and %d is %d\" %(numbers[0],  numbers[1],  numbers[0] + numbers[1]))\n",
    "print(\"The average of %d and %d is %.1f\" %(numbers[0] , numbers[1], (numbers[0] + numbers[1])/2))"
   ]
  },
  {
   "cell_type": "markdown",
   "metadata": {},
   "source": [
    "# (문제 7) PPT(실습문제4)\n",
    "아래의 실행예제를 참고하여 프로그램을 작성하라."
   ]
  },
  {
   "cell_type": "raw",
   "metadata": {},
   "source": [
    "날짜(연/월/일)입력: 2020/01/13\n",
    "입력한 날짜의 10년 후는 2030년 01월 13일"
   ]
  },
  {
   "cell_type": "code",
   "execution_count": 94,
   "metadata": {},
   "outputs": [
    {
     "name": "stdout",
     "output_type": "stream",
     "text": [
      "날짜(연/월/일) 입력: 2020/01/13\n"
     ]
    }
   ],
   "source": [
    "date = input(\"날짜(연/월/일) 입력: \")"
   ]
  },
  {
   "cell_type": "code",
   "execution_count": 95,
   "metadata": {},
   "outputs": [
    {
     "name": "stdout",
     "output_type": "stream",
     "text": [
      "입력한 날짜의 10년 후는 2020년 01월 13일 \n"
     ]
    }
   ],
   "source": [
    "date2 = date.split('/')\n",
    "year, month, day = date2\n",
    "# 언패킹 사용\n",
    "print(\"입력한 날짜의 10년 후는 %s년 %s월 %s일 \" %(year, month, day))"
   ]
  },
  {
   "cell_type": "markdown",
   "metadata": {},
   "source": [
    "# 문자열 함수\n",
    "대문자/소문자의 변환"
   ]
  },
  {
   "cell_type": "code",
   "execution_count": 96,
   "metadata": {},
   "outputs": [
    {
     "data": {
      "text/plain": [
       "'PYTHON IS FUN!'"
      ]
     },
     "execution_count": 96,
     "metadata": {},
     "output_type": "execute_result"
    }
   ],
   "source": [
    "s = 'Python is fun!'      \n",
    "s.upper()      # 소문자 -> 대문자"
   ]
  },
  {
   "cell_type": "code",
   "execution_count": 97,
   "metadata": {},
   "outputs": [
    {
     "data": {
      "text/plain": [
       "'python is fun!'"
      ]
     },
     "execution_count": 97,
     "metadata": {},
     "output_type": "execute_result"
    }
   ],
   "source": [
    "s.lower()       # 대문자 -> 소문자"
   ]
  },
  {
   "cell_type": "code",
   "execution_count": 98,
   "metadata": {},
   "outputs": [
    {
     "data": {
      "text/plain": [
       "'pYTHON IS FUN!'"
      ]
     },
     "execution_count": 98,
     "metadata": {},
     "output_type": "execute_result"
    }
   ],
   "source": [
    "s.swapcase()   # 대소문자 상호 변환"
   ]
  },
  {
   "cell_type": "code",
   "execution_count": 99,
   "metadata": {},
   "outputs": [
    {
     "data": {
      "text/plain": [
       "'Python Is Fun!'"
      ]
     },
     "execution_count": 99,
     "metadata": {},
     "output_type": "execute_result"
    }
   ],
   "source": [
    "s.title()  # 각 단어의 첫 글자만 대문자로 변환"
   ]
  },
  {
   "cell_type": "markdown",
   "metadata": {},
   "source": [
    "# 6. 따라 해보기\n",
    "range() 함수: 숫자 리스트를 자동으로 만들어 줌"
   ]
  },
  {
   "cell_type": "code",
   "execution_count": 100,
   "metadata": {},
   "outputs": [
    {
     "data": {
      "text/plain": [
       "range(0, 5)"
      ]
     },
     "execution_count": 100,
     "metadata": {},
     "output_type": "execute_result"
    }
   ],
   "source": [
    "range(5)"
   ]
  },
  {
   "cell_type": "code",
   "execution_count": 103,
   "metadata": {},
   "outputs": [
    {
     "data": {
      "text/plain": [
       "[0, 1, 2, 3, 4]"
      ]
     },
     "execution_count": 103,
     "metadata": {},
     "output_type": "execute_result"
    }
   ],
   "source": [
    "list(range(5))"
   ]
  },
  {
   "cell_type": "code",
   "execution_count": 101,
   "metadata": {},
   "outputs": [
    {
     "data": {
      "text/plain": [
       "range(1, 6)"
      ]
     },
     "execution_count": 101,
     "metadata": {},
     "output_type": "execute_result"
    }
   ],
   "source": [
    "range(1, 6)"
   ]
  },
  {
   "cell_type": "code",
   "execution_count": 104,
   "metadata": {},
   "outputs": [
    {
     "data": {
      "text/plain": [
       "[1, 2, 3, 4, 5]"
      ]
     },
     "execution_count": 104,
     "metadata": {},
     "output_type": "execute_result"
    }
   ],
   "source": [
    "list(range(1, 6))"
   ]
  },
  {
   "cell_type": "code",
   "execution_count": 102,
   "metadata": {},
   "outputs": [
    {
     "data": {
      "text/plain": [
       "range(1, 7, 2)"
      ]
     },
     "execution_count": 102,
     "metadata": {},
     "output_type": "execute_result"
    }
   ],
   "source": [
    "range(1, 7, 2)"
   ]
  },
  {
   "cell_type": "code",
   "execution_count": 105,
   "metadata": {},
   "outputs": [
    {
     "data": {
      "text/plain": [
       "[1, 3, 5]"
      ]
     },
     "execution_count": 105,
     "metadata": {},
     "output_type": "execute_result"
    }
   ],
   "source": [
    "list(range(1, 7, 2))"
   ]
  },
  {
   "cell_type": "raw",
   "metadata": {},
   "source": [
    "형식\n",
    "range(start, stop, step)\n",
    "- start부터 step만큼씩 (증가/감소)하여 stop전까지의 모든 정수의 값을 리스트 형태로 반환\n",
    "- start와 step은 생략 될 수 있음(단, 생략된 경우 start의 값은 0, step은 1이라고 간주)"
   ]
  },
  {
   "cell_type": "code",
   "execution_count": 106,
   "metadata": {},
   "outputs": [
    {
     "data": {
      "text/plain": [
       "range(0, 10)"
      ]
     },
     "execution_count": 106,
     "metadata": {},
     "output_type": "execute_result"
    }
   ],
   "source": [
    "range(10)   # range(stop)"
   ]
  },
  {
   "cell_type": "code",
   "execution_count": 107,
   "metadata": {},
   "outputs": [
    {
     "data": {
      "text/plain": [
       "range(1, 6)"
      ]
     },
     "execution_count": 107,
     "metadata": {},
     "output_type": "execute_result"
    }
   ],
   "source": [
    " range(1, 6)  # range(start, stop)"
   ]
  },
  {
   "cell_type": "raw",
   "metadata": {},
   "source": [
    "실습1) 1부터 10까지의 리스트 생성\n",
    ">>>                               \n",
    "[1, 2, 3, 4, 5, 6, 7, 8, 9, 10]"
   ]
  },
  {
   "cell_type": "code",
   "execution_count": 111,
   "metadata": {},
   "outputs": [
    {
     "data": {
      "text/plain": [
       "[1, 2, 3, 4, 5, 6, 7, 8, 9, 10]"
      ]
     },
     "execution_count": 111,
     "metadata": {},
     "output_type": "execute_result"
    }
   ],
   "source": [
    "list(range(1,11))"
   ]
  },
  {
   "cell_type": "raw",
   "metadata": {},
   "source": [
    "실습2) 10부터 1까지의 리스트 생성\n",
    ">>>                               \n",
    "[10, 9, 8, 7, 6, 5, 4, 3, 2, 1]"
   ]
  },
  {
   "cell_type": "code",
   "execution_count": 117,
   "metadata": {},
   "outputs": [
    {
     "data": {
      "text/plain": [
       "[10, 9, 8, 7, 6, 5, 4, 3, 2, 1]"
      ]
     },
     "execution_count": 117,
     "metadata": {},
     "output_type": "execute_result"
    }
   ],
   "source": [
    "list(range(10,0,-1))"
   ]
  },
  {
   "cell_type": "raw",
   "metadata": {},
   "source": [
    "실습3) 1부터 10까지의 짝수 리스트 생성\n",
    ">>> even_list =                               \n",
    ">>> even_list\n",
    "[2, 4, 6, 8, 10]"
   ]
  },
  {
   "cell_type": "code",
   "execution_count": 122,
   "metadata": {},
   "outputs": [
    {
     "name": "stdout",
     "output_type": "stream",
     "text": [
      "[0, 2, 4, 6, 8]\n"
     ]
    }
   ],
   "source": [
    "even_list = list(range(0,10,2))\n",
    "print(even_list)"
   ]
  },
  {
   "cell_type": "raw",
   "metadata": {},
   "source": [
    "실습4) 1부터 10까지의 홀수 리스트 생성\n",
    ">>> odd_list =                               \n",
    ">>> odd_list\n",
    "[1, 3, 5, 7, 9]"
   ]
  },
  {
   "cell_type": "code",
   "execution_count": 123,
   "metadata": {},
   "outputs": [
    {
     "name": "stdout",
     "output_type": "stream",
     "text": [
      "[1, 3, 5, 7, 9]\n"
     ]
    }
   ],
   "source": [
    "odd_list = list(range(1,10,2))\n",
    "print(odd_list)"
   ]
  },
  {
   "cell_type": "raw",
   "metadata": {},
   "source": [
    "실습5) 리스트 더하기\n",
    ">>> even_list + odd_list"
   ]
  },
  {
   "cell_type": "code",
   "execution_count": 124,
   "metadata": {},
   "outputs": [
    {
     "data": {
      "text/plain": [
       "[0, 2, 4, 6, 8, 1, 3, 5, 7, 9]"
      ]
     },
     "execution_count": 124,
     "metadata": {},
     "output_type": "execute_result"
    }
   ],
   "source": [
    "even_list + odd_list"
   ]
  }
 ],
 "metadata": {
  "kernelspec": {
   "display_name": "Python 3",
   "language": "python",
   "name": "python3"
  },
  "language_info": {
   "codemirror_mode": {
    "name": "ipython",
    "version": 3
   },
   "file_extension": ".py",
   "mimetype": "text/x-python",
   "name": "python",
   "nbconvert_exporter": "python",
   "pygments_lexer": "ipython3",
   "version": "3.7.4"
  }
 },
 "nbformat": 4,
 "nbformat_minor": 2
}
