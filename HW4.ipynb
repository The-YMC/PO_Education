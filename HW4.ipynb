{
 "cells": [
  {
   "cell_type": "markdown",
   "metadata": {},
   "source": [
    "#  파이썬 프로그래밍 기초 실습4"
   ]
  },
  {
   "cell_type": "raw",
   "metadata": {},
   "source": [
    "    2020년 1월 14일(수)     이름: (    양 명 철     )    이메일: (   jk00085@naver.com      )"
   ]
  },
  {
   "cell_type": "markdown",
   "metadata": {},
   "source": [
    "# 1. 파일"
   ]
  },
  {
   "cell_type": "markdown",
   "metadata": {},
   "source": [
    "# 실습1) – PPT 자료\n",
    "파일에 있는 각각의 단어 수 구하기\n",
    "<test.txt>"
   ]
  },
  {
   "cell_type": "raw",
   "metadata": {},
   "source": [
    "first line\n",
    "second line\n",
    "third line"
   ]
  },
  {
   "cell_type": "raw",
   "metadata": {},
   "source": [
    "line 3\n",
    "second 1\n",
    "third 1\n",
    "first 1"
   ]
  },
  {
   "cell_type": "code",
   "execution_count": 69,
   "metadata": {},
   "outputs": [
    {
     "name": "stdout",
     "output_type": "stream",
     "text": [
      "first 1\n",
      "line 3\n",
      "second 1\n",
      "third 1\n"
     ]
    }
   ],
   "source": [
    "f = open(\"text.txt\", \"r\")\n",
    "\n",
    "line = f.readlines()\n",
    "\n",
    "\n",
    "dic = {}\n",
    "line_list = []\n",
    "for word in line:\n",
    "    line_list += word.split()\n",
    "\n",
    "#print(line_list)\n",
    "for ch in line_list:\n",
    "    if ch in dic:\n",
    "        dic[ch] += 1\n",
    "    else :\n",
    "        dic[ch] = 1\n",
    "        \n",
    "\n",
    "for i, j in dic.items():\n",
    "    print(i, j)\n",
    "    \n",
    "f.close()"
   ]
  },
  {
   "cell_type": "markdown",
   "metadata": {},
   "source": [
    "# 실습2) – PPT 자료\n",
    "파일명을 입력 받아, 해당 파일을 한 줄씩 읽어 파일의 내용을 모두 대문자로 출력하는 프로그램을 작성하시오."
   ]
  },
  {
   "cell_type": "code",
   "execution_count": 24,
   "metadata": {},
   "outputs": [
    {
     "data": {
      "text/plain": [
       "True"
      ]
     },
     "execution_count": 24,
     "metadata": {},
     "output_type": "execute_result"
    }
   ],
   "source": [
    "import os\n",
    "os.path.exists(\"text.txt\")"
   ]
  },
  {
   "cell_type": "code",
   "execution_count": 33,
   "metadata": {},
   "outputs": [
    {
     "name": "stdout",
     "output_type": "stream",
     "text": [
      "Enter a file name: text.txt\n"
     ]
    }
   ],
   "source": [
    "file = input(\"Enter a file name: \")"
   ]
  },
  {
   "cell_type": "code",
   "execution_count": 174,
   "metadata": {},
   "outputs": [],
   "source": [
    "file = \"text.txt\""
   ]
  },
  {
   "cell_type": "code",
   "execution_count": 175,
   "metadata": {
    "scrolled": true
   },
   "outputs": [
    {
     "name": "stdout",
     "output_type": "stream",
     "text": [
      "['first line\\n', 'second line\\n', 'third line']\n",
      "FIRST LINE\n",
      "SECOND LINE\n",
      "THIRD LINE"
     ]
    }
   ],
   "source": [
    "f2 = open(file, \"r\")\n",
    "\n",
    "line2 = f2.readlines()\n",
    "print(line2)\n",
    "\n",
    "for ch in line2:\n",
    "    line2 = ch.upper()\n",
    "    print(line2, end = '')\n",
    "\n",
    "f2.close()"
   ]
  },
  {
   "cell_type": "markdown",
   "metadata": {},
   "source": [
    "# 실습3) 아래의 실행예시처럼 리눅스 쉘에서 원본파일명(src.txt)과 사본파일(dst.txt)을 입력 받아, 복사하는 프로그램을 작성하시오. "
   ]
  },
  {
   "cell_type": "raw",
   "metadata": {},
   "source": [
    "$ python ex3.py src.txt dst.txt"
   ]
  },
  {
   "cell_type": "markdown",
   "metadata": {},
   "source": [
    "# 실습4) 아래의 score.txt를 읽어서 학생들의 성적을 처리하여 그 결과를 report.txt로 출력하는 프로그램을 작성하시오."
   ]
  },
  {
   "cell_type": "raw",
   "metadata": {},
   "source": [
    "(총점) 중간고사 40%, 기말고사 60%\n",
    "(학점기준) \n",
    "총점이 90이상이면 A,\n",
    "80이상~90미만이면 B\n",
    "70이상~80미만이면 C\n",
    "60이상~70미만이면 D\n",
    "60미만이면 F"
   ]
  },
  {
   "cell_type": "raw",
   "metadata": {},
   "source": [
    "<score.txt> 예시\n",
    "- 각 줄(line) 단위로 한 학생의 학번, 중간고사 점수, 기말고사 점수가 순서대로 기록되어 있다. \n",
    "201901\t89 78 \n",
    "201902\t76 84\n",
    "201903\t67 42\n",
    "201904\t66 88\n",
    "201905\t98 99"
   ]
  },
  {
   "cell_type": "raw",
   "metadata": {},
   "source": [
    "201901 89 78 83.500000 (B) \n",
    "201902 76 84 80.000000 (B) \n",
    "201903 67 42 54.500000 (F) \n",
    "201904 66 88 77.000000 (C) \n",
    "201905 98 99 98.500000 (A) \n",
    "<report.txt> 예시\n",
    "학번, 중간고사, 기말고사, 평균(학점) 순으로 아래와 같이 출력해 주세요,\n",
    "201901 89 78  82.4(B)\n",
    "201902 76 84  80.8(B)\n",
    "201903 67 42  52.0(F)\n",
    "201904 66 88  79.2(C)\n",
    "201905 98 99  98.6(A)"
   ]
  },
  {
   "cell_type": "raw",
   "metadata": {},
   "source": [
    "<주의사항>\n",
    "학생수를 예시의 학생수처럼 고정해서 구현하지 말 것\n",
    "<제출 파일명>\n",
    "ex4.py"
   ]
  },
  {
   "cell_type": "code",
   "execution_count": 173,
   "metadata": {},
   "outputs": [],
   "source": [
    "score = open(\"score.txt\", \"r\")\n",
    "\n",
    "data = score.readlines()\n",
    "\n",
    "line_list = []\n",
    "\n",
    "for line in data:\n",
    "    line_list.append(list(map(int,line.split())))\n",
    "\n",
    "\n",
    "\n",
    "for i in range(0, len(line_list)):\n",
    "    avg = (line_list[i][1] + line_list[i][2])/2\n",
    "    line_list[i].append(avg)\n",
    "    if avg >= 90:\n",
    "         line_list[i].append(\"(A)\")\n",
    "    elif avg >= 80:\n",
    "        line_list[i].append(\"(B)\")\n",
    "    elif avg >= 70:\n",
    "        line_list[i].append(\"(C)\")\n",
    "    elif avg >= 60:\n",
    "        line_list[i].append(\"(D)\")\n",
    "    else :\n",
    "        line_list[i].append(\"(F)\")\n",
    "\n",
    "report = open(\"report.txt\", 'w')\n",
    "for i in range(len(line_list)):\n",
    "    report.write(\"%d %d %d %f %s \\n\" %(line_list[i][0], line_list[i][1],line_list[i][2],line_list[i][3],line_list[i][4]))\n",
    "\n",
    "\n",
    "report.close()\n",
    "score.close()\n"
   ]
  },
  {
   "cell_type": "markdown",
   "metadata": {},
   "source": [
    "# Pythonic Code"
   ]
  },
  {
   "cell_type": "raw",
   "metadata": {},
   "source": [
    "- 파이썬 특유의 문법을 활용하여 효율적으로 코드를 표현(파이썬 스타일의 코딩 기법)\n",
    "예) 여러 문자열을 하나로 이을 때"
   ]
  },
  {
   "cell_type": "raw",
   "metadata": {},
   "source": [
    ">>> colors = ['red', 'green', 'blue']\n",
    ">>> result = ''\n",
    ">>> for word in colors:      # 일반적으로\n",
    "\tresult += word\n",
    "\n",
    ">>> result = ''.join(colors)    "
   ]
  },
  {
   "cell_type": "code",
   "execution_count": 42,
   "metadata": {},
   "outputs": [],
   "source": [
    "colors = ['red', 'green', 'blue']\n",
    "result = ''\n",
    "for word in colors:      # 일반적으로\n",
    "    result += word\n",
    "\n",
    "result = ''.join(colors)    "
   ]
  },
  {
   "cell_type": "code",
   "execution_count": 43,
   "metadata": {},
   "outputs": [
    {
     "data": {
      "text/plain": [
       "'redgreenblue'"
      ]
     },
     "execution_count": 43,
     "metadata": {},
     "output_type": "execute_result"
    }
   ],
   "source": [
    "result"
   ]
  },
  {
   "cell_type": "raw",
   "metadata": {},
   "source": [
    "(1) split(), join()\n",
    "1일차 자료 참고"
   ]
  },
  {
   "cell_type": "code",
   "execution_count": null,
   "metadata": {},
   "outputs": [],
   "source": []
  },
  {
   "cell_type": "raw",
   "metadata": {},
   "source": [
    "(2) List Comprehensions\n",
    "    • 리스트에 for 문을 사용하여 반복적으로 표현식을 실행해서 리스트 요소들을 정의하는 용법\n",
    "    • 기존 리스트를 사용하여 간단히 다른 리스트를 만드는 기법"
   ]
  },
  {
   "cell_type": "raw",
   "metadata": {},
   "source": [
    "[표현식 for 요소 in 시퀀스자료형 [if 조건식]]"
   ]
  },
  {
   "cell_type": "raw",
   "metadata": {},
   "source": [
    ">>> ls = []                 # 일반적으로~\n",
    ">>> for i in range(1,6):\n",
    "\tls.append(i)\n",
    ">>> ls\n",
    "[1, 2, 3, 4, 5]\n",
    "\n",
    ">>> ls = [i for i in range(1,6)]\n",
    ">>> ls\n",
    "[1, 2, 3, 4, 5]     \n",
    "\n",
    ">>> [ i ** 2 for i in range(1,6)]\n",
    "\n",
    ">>> [ i for i in range(1,6) if i % 2 == 0]\n",
    "\n",
    "# 리스트가 2개\n",
    ">>> L1 = [1, 2, 3]\n",
    ">>> L2 = [3, 4, 5]\n",
    ">>> L1\n",
    "[1, 2, 3]\n",
    ">>> L2\n",
    "[3, 4, 5]\n",
    ">>> [x * y for x in L1 for y in L2]\n"
   ]
  },
  {
   "cell_type": "code",
   "execution_count": 44,
   "metadata": {},
   "outputs": [
    {
     "data": {
      "text/plain": [
       "[1, 2, 3, 4, 5]"
      ]
     },
     "execution_count": 44,
     "metadata": {},
     "output_type": "execute_result"
    }
   ],
   "source": [
    "ls = []                 # 일반적으로~\n",
    "for i in range(1,6):\n",
    "    ls.append(i)\n",
    "ls"
   ]
  },
  {
   "cell_type": "code",
   "execution_count": 45,
   "metadata": {},
   "outputs": [
    {
     "data": {
      "text/plain": [
       "[1, 2, 3, 4, 5]"
      ]
     },
     "execution_count": 45,
     "metadata": {},
     "output_type": "execute_result"
    }
   ],
   "source": [
    "ls = [i for i in range(1,6)]\n",
    "ls"
   ]
  },
  {
   "cell_type": "code",
   "execution_count": 46,
   "metadata": {},
   "outputs": [
    {
     "data": {
      "text/plain": [
       "[1, 4, 9, 16, 25]"
      ]
     },
     "execution_count": 46,
     "metadata": {},
     "output_type": "execute_result"
    }
   ],
   "source": [
    "[ i ** 2 for i in range(1,6)]"
   ]
  },
  {
   "cell_type": "code",
   "execution_count": 47,
   "metadata": {},
   "outputs": [
    {
     "data": {
      "text/plain": [
       "[2, 4]"
      ]
     },
     "execution_count": 47,
     "metadata": {},
     "output_type": "execute_result"
    }
   ],
   "source": [
    "[ i for i in range(1,6) if i % 2 == 0]"
   ]
  },
  {
   "cell_type": "code",
   "execution_count": 48,
   "metadata": {},
   "outputs": [],
   "source": [
    "# 리스트가 2개\n",
    "L1 = [1, 2, 3]\n",
    "L2 = [3, 4, 5]"
   ]
  },
  {
   "cell_type": "code",
   "execution_count": 49,
   "metadata": {},
   "outputs": [
    {
     "data": {
      "text/plain": [
       "[1, 2, 3]"
      ]
     },
     "execution_count": 49,
     "metadata": {},
     "output_type": "execute_result"
    }
   ],
   "source": [
    "L1"
   ]
  },
  {
   "cell_type": "code",
   "execution_count": 50,
   "metadata": {},
   "outputs": [
    {
     "data": {
      "text/plain": [
       "[3, 4, 5]"
      ]
     },
     "execution_count": 50,
     "metadata": {},
     "output_type": "execute_result"
    }
   ],
   "source": [
    "L2"
   ]
  },
  {
   "cell_type": "code",
   "execution_count": 51,
   "metadata": {},
   "outputs": [
    {
     "data": {
      "text/plain": [
       "[3, 4, 5, 6, 8, 10, 9, 12, 15]"
      ]
     },
     "execution_count": 51,
     "metadata": {},
     "output_type": "execute_result"
    }
   ],
   "source": [
    "[x * y for x in L1 for y in L2]"
   ]
  },
  {
   "cell_type": "raw",
   "metadata": {},
   "source": [
    "(3) enumerate(), zip()\n",
    "# enumerate()\n",
    "- 리스트의 모든 요소를 인덱스와 쌍으로 추출"
   ]
  },
  {
   "cell_type": "raw",
   "metadata": {},
   "source": [
    ">>> colors = ['red', 'green', 'blue']\n",
    ">>> result = list(enumerate(colors))\n",
    ">>> result\n",
    "[(0, 'red'), (1, 'green'), (2, 'blue')]\n",
    "\n",
    ">>> for idx, color in enumerate(colors):\n",
    "\tprint(idx, color)"
   ]
  },
  {
   "cell_type": "code",
   "execution_count": 54,
   "metadata": {},
   "outputs": [
    {
     "data": {
      "text/plain": [
       "[(0, 'red'), (1, 'green'), (2, 'blue')]"
      ]
     },
     "execution_count": 54,
     "metadata": {},
     "output_type": "execute_result"
    }
   ],
   "source": [
    "colors = ['red', 'green', 'blue']\n",
    "result = list(enumerate(colors))\n",
    "result"
   ]
  },
  {
   "cell_type": "code",
   "execution_count": 55,
   "metadata": {},
   "outputs": [
    {
     "name": "stdout",
     "output_type": "stream",
     "text": [
      "0 red\n",
      "1 green\n",
      "2 blue\n"
     ]
    }
   ],
   "source": [
    "for idx, color in enumerate(colors):\n",
    "    print(idx, color)"
   ]
  },
  {
   "cell_type": "raw",
   "metadata": {},
   "source": [
    "# zip()\n",
    "    • 2개 이상의 리스트를, 각 리스트의 같은 인덱스 원소끼리 묶은 튜플을 요소로 하는 리스트를 만들어 줌"
   ]
  },
  {
   "cell_type": "raw",
   "metadata": {},
   "source": [
    ">>> zip([1,2,3], [4,5,6])   # 리스트\n",
    "[(1, 4), (2, 5), (3, 6)]\n",
    ">>> zip([1,2,3], [4,5,6], ['a','b','c'])\n",
    "[(1, 4, 'a'), (2, 5, 'b'), (3, 6, 'c')]\n",
    "\n",
    "\n",
    ">>> zip((1,2,3), (4,5,6))   # 튜플\n",
    "[(1, 4), (2, 5), (3, 6)]\n",
    "\n",
    ">>> [sum(x) for x in zip((1,2,3), (4,5,6))]\n",
    "                                     "
   ]
  },
  {
   "cell_type": "code",
   "execution_count": 4,
   "metadata": {},
   "outputs": [
    {
     "data": {
      "text/plain": [
       "[(1, 4), (2, 5), (3, 6)]"
      ]
     },
     "execution_count": 4,
     "metadata": {},
     "output_type": "execute_result"
    }
   ],
   "source": [
    "zip([1,2,3], [4,5,6])   # 리스트         \n",
    "list(zip([1,2,3], [4,5,6]))"
   ]
  },
  {
   "cell_type": "code",
   "execution_count": 5,
   "metadata": {},
   "outputs": [
    {
     "data": {
      "text/plain": [
       "[(1, 4, 'a'), (2, 5, 'b'), (3, 6, 'c')]"
      ]
     },
     "execution_count": 5,
     "metadata": {},
     "output_type": "execute_result"
    }
   ],
   "source": [
    "zip([1,2,3], [4,5,6], ['a','b','c'])\n",
    "list(zip([1,2,3], [4,5,6], ['a','b','c']))"
   ]
  },
  {
   "cell_type": "code",
   "execution_count": 7,
   "metadata": {},
   "outputs": [
    {
     "data": {
      "text/plain": [
       "[(1, 4), (2, 5), (3, 6)]"
      ]
     },
     "execution_count": 7,
     "metadata": {},
     "output_type": "execute_result"
    }
   ],
   "source": [
    "zip((1,2,3), (4,5,6))   # 튜플        \n",
    "list(zip((1,2,3), (4,5,6)))  # 튜플                                    "
   ]
  },
  {
   "cell_type": "code",
   "execution_count": 8,
   "metadata": {},
   "outputs": [
    {
     "data": {
      "text/plain": [
       "[5, 7, 9]"
      ]
     },
     "execution_count": 8,
     "metadata": {},
     "output_type": "execute_result"
    }
   ],
   "source": [
    "[sum(x) for x in zip((1,2,3), (4,5,6))] # 1+4, 2+5, 3+6"
   ]
  },
  {
   "cell_type": "raw",
   "metadata": {},
   "source": [
    "# enumerate(), zip()"
   ]
  },
  {
   "cell_type": "raw",
   "metadata": {},
   "source": [
    "for i, (a,b) in enumerate(zip(['a','b','c'], ['d','e','f'])):\n",
    "print( i, a, b)"
   ]
  },
  {
   "cell_type": "code",
   "execution_count": 66,
   "metadata": {},
   "outputs": [
    {
     "name": "stdout",
     "output_type": "stream",
     "text": [
      "0 a d\n",
      "1 b e\n",
      "2 c f\n"
     ]
    }
   ],
   "source": [
    "for i, (a,b) in enumerate(zip(['a','b','c'], ['d','e','f'])):\n",
    "    print( i, a, b)"
   ]
  },
  {
   "cell_type": "markdown",
   "metadata": {},
   "source": [
    "# 실습1) 아래와 같이 주어진 2개의 리스트로 딕셔너리를 만들어 출력하시오. 단, 순서는 다를 수 있음"
   ]
  },
  {
   "cell_type": "raw",
   "metadata": {},
   "source": [
    "L1 = ['one', 'two', 'three', 'four']\n",
    "L2 = [1, 2, 3, 4]"
   ]
  },
  {
   "cell_type": "raw",
   "metadata": {},
   "source": [
    "{'one': 1, 'two': 2, 'three': 3, 'four': 4}"
   ]
  },
  {
   "cell_type": "code",
   "execution_count": 9,
   "metadata": {},
   "outputs": [
    {
     "name": "stdout",
     "output_type": "stream",
     "text": [
      "{'one': 1, 'two': 2, 'three': 3, 'four': 4}\n"
     ]
    }
   ],
   "source": [
    "L1 = ['one', 'two', 'three', 'four']\n",
    "L2 = [1, 2, 3, 4]\n",
    "d ={k:v for k, v in zip(L1, L2)}\n",
    "print(d)"
   ]
  }
 ],
 "metadata": {
  "kernelspec": {
   "display_name": "Python 3",
   "language": "python",
   "name": "python3"
  },
  "language_info": {
   "codemirror_mode": {
    "name": "ipython",
    "version": 3
   },
   "file_extension": ".py",
   "mimetype": "text/x-python",
   "name": "python",
   "nbconvert_exporter": "python",
   "pygments_lexer": "ipython3",
   "version": "3.7.4"
  }
 },
 "nbformat": 4,
 "nbformat_minor": 2
}
