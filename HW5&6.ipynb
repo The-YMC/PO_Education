{
 "cells": [
  {
   "cell_type": "markdown",
   "metadata": {},
   "source": [
    "# #  파이썬 프로그래밍 기초 실습5"
   ]
  },
  {
   "cell_type": "raw",
   "metadata": {},
   "source": [
    "    2020년 1월 15일(목)     이름: (    양 명 철     )    이메일: (   jk00085@naver.com      )"
   ]
  },
  {
   "cell_type": "markdown",
   "metadata": {},
   "source": [
    "# 과제 1 – prime.py\n",
    "소수(Prime Number) 판단하는 함수 정의하기\n",
    "\n",
    "- 소수이면, True 반환\n",
    "- 소수가 아니면, False 반환"
   ]
  },
  {
   "cell_type": "raw",
   "metadata": {},
   "source": [
    "def check_prime(num):\n",
    "# TO BE IMPLEMENTED\n",
    "...\n",
    "def main():\n",
    "    a = 13\n",
    "    b = 15\n",
    "    if check_prime(a):\n",
    "        print(str(a)+‘는 소수입니다.’)\n",
    "    else:\n",
    "        print(str(a)+‘는 소수가 아닙니다.’)\n",
    "        \n",
    "    if check_prime(b):\n",
    "        print(str(b)+‘는 소수입니다.’)\n",
    "    else:\n",
    "        print(str(b)+‘는 소수가 아닙니다.’)"
   ]
  },
  {
   "cell_type": "code",
   "execution_count": 77,
   "metadata": {},
   "outputs": [
    {
     "name": "stdout",
     "output_type": "stream",
     "text": [
      "13\n",
      "13는 소수입니다.\n",
      "15\n",
      "15는 소수가 아닙니다.\n"
     ]
    }
   ],
   "source": [
    "def check_prime(num):\n",
    "    print(num)\n",
    "    if num == 2 or num == 3:\n",
    "        return True\n",
    "    elif num % 2 == 0:\n",
    "        return False\n",
    "\n",
    "    for i in range(3, num, 2):\n",
    "        if num % i != 0:\n",
    "            return True\n",
    "        else:\n",
    "            return False\n",
    "    \n",
    "    \n",
    "def main():\n",
    "    a = 13\n",
    "    b = 15(\"\n",
    "    if check_prime(a):\n",
    "        print(str(a)+'는 소수입니다.')\n",
    "    else:\n",
    "        print(str(a)+'는 소수가 아닙니다.')\n",
    "        \n",
    "    if check_prime(b):\n",
    "        print(str(b)+'는 소수입니다.')\n",
    "    else:\n",
    "        print(str(b)+'는 소수가 아닙니다.')\n",
    "        \n",
    "if __name__=='__main__': # 파일 제일 아래에 작성\n",
    "    main()"
   ]
  },
  {
   "cell_type": "markdown",
   "metadata": {},
   "source": [
    "# 과제 2 – add_comma.py\n",
    "천 단위마다 쉼표(,) 추가하는 함수 정의하기\n",
    "- 1000000(int)이면, ‘1,000,000’(str) 반환"
   ]
  },
  {
   "cell_type": "raw",
   "metadata": {},
   "source": [
    "def add_comma(val):\n",
    "# TO BE IMPLEMENTED\n",
    "...\n",
    "def main():\n",
    "    comma_added_1234 = add_comma(1234)\n",
    "    comma_added_12345678 = add_comma(12345678)\n",
    "    comma_added_12 = add_comma(12)\n",
    "    print(comma_added_1234) # ‘1,234’\n",
    "    print(comma_added_12345678) # ‘12,345,678’\n",
    "    print(comma_added_12) # ‘12’"
   ]
  },
  {
   "cell_type": "code",
   "execution_count": 270,
   "metadata": {},
   "outputs": [
    {
     "name": "stdout",
     "output_type": "stream",
     "text": [
      "1,234\n",
      "12,345,678\n",
      "12\n"
     ]
    }
   ],
   "source": [
    "def add_comma(val):\n",
    "    st = str(val)\n",
    "    #print(type(st))\n",
    "    #print(st[0])\n",
    "    #print(len(st))\n",
    "    i = 0\n",
    "    lst = []\n",
    "    for ch in range(len(st), 0, -1 ):\n",
    "        lst.append(ch)\n",
    "        i += 1\n",
    "        if i % 3 == 0 and i != len(st) :\n",
    "            #print(ch)\n",
    "            lst.append(\",\")\n",
    "            \n",
    "    #print(lst)\n",
    "    lst.reverse()\n",
    "    lst = list(map(str, lst))\n",
    "    lst = ''.join(lst)\n",
    "    return lst\n",
    "    \n",
    "\n",
    "def main():\n",
    "    comma_added_1234 = add_comma(1234)\n",
    "    comma_added_12345678 = add_comma(12345678)\n",
    "    comma_added_12 = add_comma(12)\n",
    "    print(comma_added_1234) # ‘1,234’\n",
    "    print(comma_added_12345678) # ‘12,345,678’\n",
    "    print(comma_added_12) # ‘12’\n",
    "if __name__=='__main__': # 파일 제일 아래에 작성\n",
    "    main()"
   ]
  },
  {
   "cell_type": "code",
   "execution_count": 54,
   "metadata": {},
   "outputs": [
    {
     "name": "stdout",
     "output_type": "stream",
     "text": [
      "1,234\n",
      "12,345,678\n",
      "12\n"
     ]
    }
   ],
   "source": [
    "def add_comma(val):\n",
    "    ch = str(val)\n",
    "    \n",
    "    res =''\n",
    "    for i in range(-1, -(len(ch)+1), -1):\n",
    "        res = ch[i]+ res \n",
    "        #print(res)\n",
    "        if i % 3 == 0:\n",
    "            res = ',' + res\n",
    "            #print(\"i\", i)\n",
    "    return res\n",
    "def main():\n",
    "    comma_added_1234 = add_comma(1234)\n",
    "    comma_added_12345678 = add_comma(12345678)\n",
    "    comma_added_12 = add_comma(12)\n",
    "    print(comma_added_1234) # ‘1,234’\n",
    "    print(comma_added_12345678) # ‘12,345,678’\n",
    "    print(comma_added_12) # ‘12’\n",
    "if __name__=='__main__': # 파일 제일 아래에 작성\n",
    "    main()"
   ]
  },
  {
   "cell_type": "markdown",
   "metadata": {},
   "source": [
    "# 과제 3 – tok.py\n",
    "- 입력받은 단어열의 n-gram을 구해주는 tokenize() 함수 정의하기"
   ]
  },
  {
   "cell_type": "raw",
   "metadata": {},
   "source": [
    "def tokenize(trg, N=1):\n",
    "# TO BE IMPLEMENTED\n",
    "def main():\n",
    "    a=“There was a farmer who had a dog .”\n",
    "    print(tokenize(a))\n",
    "    print(tokenize(a, 2))"
   ]
  },
  {
   "cell_type": "raw",
   "metadata": {},
   "source": [
    "['There', 'was', 'a', 'farmer', 'who', 'had', 'a', 'dog', '.']\n",
    "['There was', 'was a', 'a farmer', 'farmer who', 'who had', 'had a', 'a dog', 'dog .']"
   ]
  },
  {
   "cell_type": "code",
   "execution_count": 364,
   "metadata": {},
   "outputs": [
    {
     "name": "stdout",
     "output_type": "stream",
     "text": [
      "['There', 'was', 'a', 'farmer', 'who', 'had', 'a', 'dog', '.']\n",
      "['There was', 'was a', 'a farmer', 'farmer who', 'who had', 'had a', 'a dog', 'dog .']\n",
      "['There was a', 'was a farmer', 'a farmer who', 'farmer who had', 'who had a', 'had a dog', 'a dog .']\n"
     ]
    }
   ],
   "source": [
    "def tokenize(trg, N=1):\n",
    "    lst = trg.split()\n",
    "\n",
    "    res = []\n",
    "    for i in range(0, len(lst)+ 1 -N):\n",
    "        res.append(\" \".join(lst[i:i+N]))\n",
    "        \n",
    "    return res\n",
    "    \n",
    "    \n",
    "    \n",
    "    \n",
    "    \n",
    "def main():\n",
    "    a = \"There was a farmer who had a dog .\"\n",
    "    print(tokenize(a))\n",
    "    print(tokenize(a, 2))\n",
    "    print(tokenize(a, 3))\n",
    "if __name__=='__main__': # 파일 제일 아래에 작성\n",
    "    main()"
   ]
  },
  {
   "cell_type": "markdown",
   "metadata": {},
   "source": [
    "# 과제 4 – mean_and_var.py\n",
    "여러 벡터를 입력받아, 평균(Mean)과 분산\n",
    "(Variance)을 구하는 함수 정의하기"
   ]
  },
  {
   "cell_type": "raw",
   "metadata": {},
   "source": [
    "def mean_and_var(*val):\n",
    "# TO BE IMPLEMENTED\n",
    "...\n",
    "def main():\n",
    "    v1=(0, 1)\n",
    "    v2=(0.5, 0.5)\n",
    "    v3=(1, 0)\n",
    "    m, var = mean_and_var(v1, v2, v3)\n",
    "    print(‘평균: ’, m, ‘분산: ’, var)"
   ]
  },
  {
   "cell_type": "code",
   "execution_count": 452,
   "metadata": {},
   "outputs": [],
   "source": [
    "def mean_and_var(*val):\n",
    "\n",
    "    lst = []\n",
    "    for v in val:\n",
    "        lst.append(v)\n",
    "    \n",
    "\n",
    "    x = 0\n",
    "    y = 0\n",
    "    cnt = 0\n",
    "    for i in range(len(lst)):\n",
    "        x += lst[i][0]\n",
    "        y += lst[i][1]\n",
    "        cnt += 1\n",
    "        \n",
    "    avgX = x / cnt\n",
    "    avgY = y / cnt\n",
    "    \n",
    "    a = (avgX, avgY)\n",
    "    \n",
    "    summX = 0\n",
    "    summY = 0\n",
    "    cntt = 0\n",
    "    for i in range(len(lst)):\n",
    "        summX += (lst[i][0] - avgX)**2\n",
    "        summY += (lst[i][1] - avgY)**2\n",
    "        cntt += 1\n",
    "    \n",
    "    sigX = summX/cntt\n",
    "    sigY = summY/cntt\n",
    "    \n",
    "    b = (sigX, sigY)\n",
    "     x = [x for x in zip(*val)]\n",
    "    avg = [sum(x) / len(x) for x in zip(*val)]\n",
    "    var = [np.var(x)for x in zip(*val)]\n",
    "\n",
    "    return (avg, var)\n",
    "    \n",
    "    return a, b\n"
   ]
  },
  {
   "cell_type": "code",
   "execution_count": 453,
   "metadata": {},
   "outputs": [
    {
     "data": {
      "text/plain": [
       "((0.5, 0.5), (0.16666666666666666, 0.16666666666666666))"
      ]
     },
     "execution_count": 453,
     "metadata": {},
     "output_type": "execute_result"
    }
   ],
   "source": [
    "v1 = (0, 1)\n",
    "v2 = (0.5, 0.5)\n",
    "v3 = (1, 0)\n",
    "mean_and_var(v1, v2, v3)"
   ]
  },
  {
   "cell_type": "code",
   "execution_count": 39,
   "metadata": {},
   "outputs": [
    {
     "name": "stdout",
     "output_type": "stream",
     "text": [
      "평균:  [0.5, 0.5] 분산:  [0.16666666666666666, 0.16666666666666666]\n"
     ]
    }
   ],
   "source": [
    "import numpy as np\n",
    "def mean_and_var(*val):\n",
    "    x = [x for x in zip(*val)]\n",
    "    avg = [sum(x) / len(x) for x in zip(*val)]\n",
    "    var = [np.var(x)for x in zip(*val)]\n",
    "\n",
    "    return (avg, var)\n",
    "def main():\n",
    "    v1 = (0, 1)\n",
    "    v2 = (0.5, 0.5)\n",
    "    v3 = (1, 0)\n",
    "    m, var = mean_and_var(v1, v2, v3)\n",
    "    print('평균: ', m, '분산: ', var)\n",
    "if __name__=='__main__': # 파일 제일 아래에 작성\n",
    "    main()"
   ]
  },
  {
   "cell_type": "code",
   "execution_count": 41,
   "metadata": {},
   "outputs": [
    {
     "name": "stdout",
     "output_type": "stream",
     "text": [
      "평균:  [0.5, 0.5] 분산:  [0.16666666666666666, 0.16666666666666666]\n"
     ]
    }
   ],
   "source": [
    "def mean_and_var(*val):\n",
    "    list_avg = []\n",
    "    list_var = []\n",
    "    \n",
    "    for i in range(len(val[0])):\n",
    "        temp = []\n",
    "        for j in val:\n",
    "            temp.append(j[i])\n",
    "        list_avg.append(sum(temp)/len(temp))\n",
    "        temp2 = []\n",
    "        \n",
    "        for k in temp:\n",
    "            temp2.append((k-list_avg[i])**2)\n",
    "        list_var.append( (sum(temp2) / len(temp) )  )\n",
    "    \n",
    "    return list_avg, list_var\n",
    "def main():\n",
    "    v1 = (0, 1)\n",
    "    v2 = (0.5, 0.5)\n",
    "    v3 = (1, 0)\n",
    "    m, var = mean_and_var(v1, v2, v3)\n",
    "    print('평균: ', m, '분산: ', var)\n",
    "    \n",
    "if __name__=='__main__': # 파일 제일 아래에 작성\n",
    "    main()        "
   ]
  },
  {
   "cell_type": "markdown",
   "metadata": {},
   "source": [
    "# #  파이썬 프로그래밍 기초 실습6"
   ]
  },
  {
   "cell_type": "markdown",
   "metadata": {},
   "source": [
    "# 과제 1 – set.py"
   ]
  },
  {
   "cell_type": "raw",
   "metadata": {},
   "source": [
    "- Set 클래스 구현\n",
    "- list를 이용해 Set 구현\n",
    "- Set은 list와 다르게, 같은 원소를 중복하여 가질 수 없음\n",
    "- Union, Intersection, Difference 함수 구현"
   ]
  },
  {
   "cell_type": "code",
   "execution_count": 44,
   "metadata": {},
   "outputs": [],
   "source": [
    "class Set:\n",
    "    def __init__(self, member=[]):\n",
    "        self.member=member\n",
    "    \n",
    "    def get_member(self):\n",
    "        return self.member\n",
    "\n",
    "    def append(self, a):\n",
    "        if a not in self.member:\n",
    "            self.member.append(a)\n",
    "        else:\n",
    "            raise NameError(\"already existed\")\n",
    "    def delete(self, a):\n",
    "        if a in self.member:\n",
    "            self.member.remove(a)\n",
    "        else:\n",
    "            raise NameError(\"not existed\")\n",
    "\n",
    "    def union(self, s2):\n",
    "        ls = []\n",
    "        for v in self.member:\n",
    "            ls.append(v)\n",
    "        for v in s2.member:\n",
    "            if v not in self.member:\n",
    "                ls.append(v)\n",
    "        return ls\n",
    "        \n",
    "        \n",
    "    def intersection(self, s2):\n",
    "        lst = []\n",
    "        for v in self.member:\n",
    "            #print(v)\n",
    "            if v in s2.member:\n",
    "                #print(v)\n",
    "                lst.append(v)\n",
    "        return lst\n",
    "\n",
    "    def difference(self, s2):\n",
    "        ls = []\n",
    "        for v in self.member:\n",
    "            if v not in s2.member:\n",
    "                ls.append(v)\n",
    "        return ls"
   ]
  },
  {
   "cell_type": "code",
   "execution_count": 43,
   "metadata": {},
   "outputs": [
    {
     "name": "stdout",
     "output_type": "stream",
     "text": [
      "[1, 2, 3, 4]\n",
      "[1]\n",
      "[2, 3]\n"
     ]
    }
   ],
   "source": [
    "a = Set([1, 2, 3])\n",
    "b = Set([2, 3, 4])\n",
    "c = a.union(b)\n",
    "print(c)\n",
    "d = a.difference(b)\n",
    "print(d)\n",
    "e = a.intersection(b)\n",
    "print(e)"
   ]
  },
  {
   "cell_type": "markdown",
   "metadata": {},
   "source": [
    "# set 구현"
   ]
  },
  {
   "cell_type": "raw",
   "metadata": {},
   "source": [
    "Set 클래스 구현\n",
    "- 연산자 오버로딩 구현\n",
    "- +: union\n",
    "- -: difference\n",
    "- /: intersection"
   ]
  },
  {
   "cell_type": "raw",
   "metadata": {},
   "source": [
    "a = Set([1, 2, 3])\n",
    "b = Set([2, 3, 4])\n",
    "c = a + b\n",
    "print(c)\n",
    "d = a - b\n",
    "print(d)\n",
    "e = a / b\n",
    "print(e)"
   ]
  },
  {
   "cell_type": "raw",
   "metadata": {},
   "source": [
    "class Set:\n",
    "    def __init__(self, member=[]):\n",
    "    self.member=member\n",
    "    # Should be implemented\n",
    "    def append(self, a):\n",
    "    # Should be implemented\n",
    "    def delete(self, a):\n",
    "    # Should be implemented\n",
    "    def union(self, s2):\n",
    "    # Should be implemented\n",
    "    def intersection(self, s2):\n",
    "    # Should be implemented\n",
    "    def difference(self, s2):\n",
    "    # Should be implemented"
   ]
  },
  {
   "cell_type": "code",
   "execution_count": 546,
   "metadata": {},
   "outputs": [],
   "source": [
    "class Set:\n",
    "    def __init__(self, member=[]):\n",
    "        self.member=member\n",
    "    \n",
    "    def get_member(self):\n",
    "        return self.member\n",
    "\n",
    "    def append(self, a):\n",
    "        if a not in self.member:\n",
    "            self.member.append(a)\n",
    "            \n",
    "    def delete(self, a):\n",
    "        if a in self.member:\n",
    "            self.member.remove(a)\n",
    "\n",
    "    def __add__(self, s2):\n",
    "        ls = []\n",
    "        for v in self.member:\n",
    "            ls.append(v)\n",
    "        for v in s2.member:\n",
    "            if v not in self.member:\n",
    "                ls.append(v)\n",
    "        return ls\n",
    "        \n",
    "        \n",
    "    def __truediv__(self, s2):\n",
    "        lst = []\n",
    "        for v in self.member:\n",
    "            #print(v)\n",
    "            if v in s2.member:\n",
    "                #print(v)\n",
    "                lst.append(v)\n",
    "        return lst\n",
    "\n",
    "    def __sub__(self, s2):\n",
    "        ls = []\n",
    "        for v in self.member:\n",
    "            if v not in s2.member:\n",
    "                ls.append(v)\n",
    "        return ls\n",
    "\n"
   ]
  },
  {
   "cell_type": "code",
   "execution_count": 547,
   "metadata": {},
   "outputs": [
    {
     "name": "stdout",
     "output_type": "stream",
     "text": [
      "[1, 2, 3, 4]\n",
      "[1]\n",
      "[2, 3]\n"
     ]
    }
   ],
   "source": [
    "a = Set([1, 2, 3])\n",
    "b = Set([2, 3, 4])\n",
    "c = a + b\n",
    "print(c)\n",
    "d = a - b\n",
    "print(d)\n",
    "e = a / b\n",
    "print(e)"
   ]
  },
  {
   "cell_type": "markdown",
   "metadata": {},
   "source": [
    "# 과제 2 – people.py"
   ]
  },
  {
   "cell_type": "markdown",
   "metadata": {},
   "source": [
    "- Person, Student, Professor 클래스 구현\n",
    "  - Student, Professor는 Person을 상속받음\n",
    "- Person\n",
    "  - 속성: name(str), age(int), department(str)\n",
    "  - 메소드: __init__, get_name\n",
    "- Student\n",
    "  - 속성: id(int), GPA(float), advisor(Professor)\n",
    "  - 메소드: __init__, print_info, reg_advisor\n",
    "- Professor\n",
    "  - 속성: position(str), laboratory(str), student(list of Student)\n",
    "  - 메소드: __init__, print_info, reg_student과제 2 – people.py"
   ]
  },
  {
   "cell_type": "raw",
   "metadata": {},
   "source": [
    "Stu1 = Student(‘Kim’, 30, ‘Computer’,20001234, 4.5)\n",
    "Stu2 = Student(‘Lee’, 22, ‘Computer’,20101234, 0.5)\n",
    "prof1 = Professor(‘Lee’, 55, ‘Computer’,‘Full’, ‘KLE’)\n",
    "\n",
    "stu1.reg_advisor(prof1)\n",
    "stu2.reg_advisor(prof1)\n",
    "prof1.reg_student(stu1)\n",
    "prof1.reg_student(stu2)\n",
    "\n",
    "stu1.print_info()\n",
    "stu2.print_info()\n",
    "prof1.print_info()"
   ]
  },
  {
   "cell_type": "raw",
   "metadata": {},
   "source": [
    "‘제 이름은 Kim, 나이는 30, 학과는\n",
    "Computer, 지도교수님은 Lee 입니다’\n",
    "‘제 이름은 Lee, 나이는 22, 학과는\n",
    "Computer, 지도교수님은 Lee 입니다’\n",
    "‘제 이름은 Lee, 나이는 55, 학과는\n",
    "Computer, 지도학생은 Kim, Lee 입니다’"
   ]
  },
  {
   "cell_type": "code",
   "execution_count": 48,
   "metadata": {},
   "outputs": [],
   "source": [
    "class Person:\n",
    "    def __init__(self, name, age, department):\n",
    "        self.name = name\n",
    "        self.age = age\n",
    "        self.department = department\n",
    "        \n",
    "    def get_name():\n",
    "        return self.name\n",
    "\n",
    "class Student(Person):\n",
    "    def __init__(self, name, age, department, ID, GPA):\n",
    "        Person.__init__(self, name = name, age = age, department = department)\n",
    "        self.ID = ID\n",
    "        self.GPA = GPA\n",
    "        \n",
    "    def print_info(self):\n",
    "        #print(\"제 이름은 \" + name + \", 나이는 \" + age +\", 학과는 \" + department + \"지도교수님은\" + advisor + \"입니다\")\n",
    "        print(\"Name: %s, Age: %d, Department: %s, Advisor: %s \" %(self.name,self.age,self.department,self.advisor.name))\n",
    "\n",
    "    def reg_advisor(self, advisor):\n",
    "        self.advisor = advisor\n",
    "        \n",
    "class Professor(Person):\n",
    "    def __init__(self, name, age, department, position, laboratory):\n",
    "        Person.__init__(self, name = name , age = age, department =department)\n",
    "        self.position = position\n",
    "        self.laboratory = laboratory\n",
    "        self.stu_list = []\n",
    "        \n",
    "    def print_info(self):\n",
    "        stu_ch = ''\n",
    "        if self.stu_list == []:\n",
    "            stu_ch = ''\n",
    "        else:\n",
    "            stu_ch = ', '.join(self.stu_list)\n",
    "        \n",
    "        print(\"Name: %s, Age: %d, Department: %s, Student: %s\" %(self.name,self.age,self.department,stu_ch))\n",
    "    def reg_student(self, student):\n",
    "        self.stu_list.append(student.name)\n",
    "        \n",
    "        "
   ]
  },
  {
   "cell_type": "code",
   "execution_count": 49,
   "metadata": {},
   "outputs": [],
   "source": [
    "stu1 = Student('Kim', 30, 'Computer',20001234, 4.5)\n",
    "stu2 = Student('Lee', 22, 'Computer',20101234, 0.5)\n",
    "prof1 = Professor('Lee', 55, 'Computer','Full', 'KLE')"
   ]
  },
  {
   "cell_type": "code",
   "execution_count": 51,
   "metadata": {},
   "outputs": [],
   "source": [
    "stu1.reg_advisor(prof1)\n",
    "stu2.reg_advisor(prof1)\n",
    "prof1.reg_student(stu1)\n",
    "prof1.reg_student(stu2)"
   ]
  },
  {
   "cell_type": "code",
   "execution_count": 52,
   "metadata": {},
   "outputs": [
    {
     "name": "stdout",
     "output_type": "stream",
     "text": [
      "Name: Kim, Age: 30, Department: Computer, Advisor: Lee \n",
      "Name: Lee, Age: 22, Department: Computer, Advisor: Lee \n",
      "Name: Lee, Age: 55, Department: Computer, Student: Kim, Lee\n"
     ]
    }
   ],
   "source": [
    "stu1.print_info()\n",
    "stu2.print_info()\n",
    "prof1.print_info()"
   ]
  },
  {
   "cell_type": "code",
   "execution_count": null,
   "metadata": {},
   "outputs": [],
   "source": []
  }
 ],
 "metadata": {
  "kernelspec": {
   "display_name": "Python 3",
   "language": "python",
   "name": "python3"
  },
  "language_info": {
   "codemirror_mode": {
    "name": "ipython",
    "version": 3
   },
   "file_extension": ".py",
   "mimetype": "text/x-python",
   "name": "python",
   "nbconvert_exporter": "python",
   "pygments_lexer": "ipython3",
   "version": "3.7.4"
  }
 },
 "nbformat": 4,
 "nbformat_minor": 2
}
