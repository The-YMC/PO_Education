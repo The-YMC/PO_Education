{
 "cells": [
  {
   "cell_type": "markdown",
   "metadata": {},
   "source": [
    "Big Data 분석4 200206(목)"
   ]
  },
  {
   "cell_type": "markdown",
   "metadata": {},
   "source": [
    "# 모델 평가 및 선정"
   ]
  },
  {
   "cell_type": "code",
   "execution_count": 1,
   "metadata": {},
   "outputs": [],
   "source": [
    "# 데이터 구성: Series, DataFrame\n",
    "import pandas as pd\n",
    "import numpy as np\n",
    "\n",
    "# 데이터 시각화\n",
    "import matplotlib.pyplot as plt\n",
    "import matplotlib\n",
    "\n",
    "# 데이터 분할: train, test\n",
    "from sklearn.model_selection import train_test_split\n",
    "\n",
    "# 회귀분석\n",
    "import statsmodels.formula.api as smf\n",
    "\n",
    "# Decision Tree\n",
    "from sklearn.tree import DecisionTreeRegressor\n",
    "\n",
    "# 예측/회귀 Gradient Boosting\n",
    "from sklearn.ensemble import GradientBoostingRegressor\n",
    "\n",
    "# Random Forest\n",
    "from sklearn.ensemble import RandomForestRegressor\n",
    "\n",
    "# 평가 함수\n",
    "from sklearn.metrics import mean_squared_error\n",
    "from sklearn.metrics import mean_absolute_error"
   ]
  },
  {
   "cell_type": "markdown",
   "metadata": {},
   "source": [
    "### step 0 평가 함수 정의\n",
    "- 평가함수 rmse mape 생성(sklearn에서 제공되지 않는 함수 정의)"
   ]
  },
  {
   "cell_type": "code",
   "execution_count": 2,
   "metadata": {},
   "outputs": [],
   "source": [
    "# RMSE:root mean squared error 함수\n",
    "def root_mean_squared_error(y_true, y_pred):\n",
    "    return np.sqrt(mean_squared_error(y_true, y_pred))\n",
    "\n",
    "# MAPE: mean absolute percentage error 함수\n",
    "def mean_absolute_percentage_error(y_true, y_pred):\n",
    "    return np.mean(np.abs((y_true-y_pred) / y_true)) * 100"
   ]
  },
  {
   "cell_type": "code",
   "execution_count": 3,
   "metadata": {},
   "outputs": [
    {
     "data": {
      "text/html": [
       "<div>\n",
       "<style scoped>\n",
       "    .dataframe tbody tr th:only-of-type {\n",
       "        vertical-align: middle;\n",
       "    }\n",
       "\n",
       "    .dataframe tbody tr th {\n",
       "        vertical-align: top;\n",
       "    }\n",
       "\n",
       "    .dataframe thead th {\n",
       "        text-align: right;\n",
       "    }\n",
       "</style>\n",
       "<table border=\"1\" class=\"dataframe\">\n",
       "  <thead>\n",
       "    <tr style=\"text-align: right;\">\n",
       "      <th></th>\n",
       "      <th>FAT</th>\n",
       "      <th>AGE</th>\n",
       "      <th>WEIGHT</th>\n",
       "      <th>HEIGHT</th>\n",
       "      <th>NECK</th>\n",
       "      <th>CHEST</th>\n",
       "      <th>ABDOMEN</th>\n",
       "      <th>HIP</th>\n",
       "      <th>THIGH</th>\n",
       "      <th>KNEE</th>\n",
       "      <th>ANKLE</th>\n",
       "      <th>BICEPS</th>\n",
       "      <th>FOREARM</th>\n",
       "      <th>WRIST</th>\n",
       "    </tr>\n",
       "  </thead>\n",
       "  <tbody>\n",
       "    <tr>\n",
       "      <td>0</td>\n",
       "      <td>35.2</td>\n",
       "      <td>46</td>\n",
       "      <td>363.15</td>\n",
       "      <td>72.25</td>\n",
       "      <td>51.2</td>\n",
       "      <td>136.2</td>\n",
       "      <td>148.1</td>\n",
       "      <td>147.7</td>\n",
       "      <td>87.3</td>\n",
       "      <td>49.1</td>\n",
       "      <td>29.6</td>\n",
       "      <td>45.0</td>\n",
       "      <td>29.0</td>\n",
       "      <td>21.4</td>\n",
       "    </tr>\n",
       "    <tr>\n",
       "      <td>1</td>\n",
       "      <td>11.8</td>\n",
       "      <td>27</td>\n",
       "      <td>168.00</td>\n",
       "      <td>71.25</td>\n",
       "      <td>38.1</td>\n",
       "      <td>93.0</td>\n",
       "      <td>79.1</td>\n",
       "      <td>94.5</td>\n",
       "      <td>57.3</td>\n",
       "      <td>36.2</td>\n",
       "      <td>24.5</td>\n",
       "      <td>29.0</td>\n",
       "      <td>30.0</td>\n",
       "      <td>18.8</td>\n",
       "    </tr>\n",
       "    <tr>\n",
       "      <td>2</td>\n",
       "      <td>22.2</td>\n",
       "      <td>69</td>\n",
       "      <td>177.75</td>\n",
       "      <td>68.50</td>\n",
       "      <td>38.7</td>\n",
       "      <td>102.0</td>\n",
       "      <td>95.0</td>\n",
       "      <td>98.3</td>\n",
       "      <td>55.0</td>\n",
       "      <td>38.3</td>\n",
       "      <td>21.8</td>\n",
       "      <td>30.8</td>\n",
       "      <td>25.7</td>\n",
       "      <td>18.8</td>\n",
       "    </tr>\n",
       "    <tr>\n",
       "      <td>3</td>\n",
       "      <td>10.6</td>\n",
       "      <td>57</td>\n",
       "      <td>147.75</td>\n",
       "      <td>65.75</td>\n",
       "      <td>35.2</td>\n",
       "      <td>99.6</td>\n",
       "      <td>86.4</td>\n",
       "      <td>90.1</td>\n",
       "      <td>53.0</td>\n",
       "      <td>35.0</td>\n",
       "      <td>21.3</td>\n",
       "      <td>31.7</td>\n",
       "      <td>27.3</td>\n",
       "      <td>16.9</td>\n",
       "    </tr>\n",
       "    <tr>\n",
       "      <td>4</td>\n",
       "      <td>47.5</td>\n",
       "      <td>51</td>\n",
       "      <td>219.00</td>\n",
       "      <td>64.00</td>\n",
       "      <td>41.2</td>\n",
       "      <td>119.8</td>\n",
       "      <td>122.1</td>\n",
       "      <td>112.8</td>\n",
       "      <td>62.5</td>\n",
       "      <td>36.9</td>\n",
       "      <td>23.6</td>\n",
       "      <td>34.7</td>\n",
       "      <td>29.1</td>\n",
       "      <td>18.4</td>\n",
       "    </tr>\n",
       "  </tbody>\n",
       "</table>\n",
       "</div>"
      ],
      "text/plain": [
       "    FAT  AGE  WEIGHT  HEIGHT  NECK  CHEST  ABDOMEN    HIP  THIGH  KNEE  ANKLE  \\\n",
       "0  35.2   46  363.15   72.25  51.2  136.2    148.1  147.7   87.3  49.1   29.6   \n",
       "1  11.8   27  168.00   71.25  38.1   93.0     79.1   94.5   57.3  36.2   24.5   \n",
       "2  22.2   69  177.75   68.50  38.7  102.0     95.0   98.3   55.0  38.3   21.8   \n",
       "3  10.6   57  147.75   65.75  35.2   99.6     86.4   90.1   53.0  35.0   21.3   \n",
       "4  47.5   51  219.00   64.00  41.2  119.8    122.1  112.8   62.5  36.9   23.6   \n",
       "\n",
       "   BICEPS  FOREARM  WRIST  \n",
       "0    45.0     29.0   21.4  \n",
       "1    29.0     30.0   18.8  \n",
       "2    30.8     25.7   18.8  \n",
       "3    31.7     27.3   16.9  \n",
       "4    34.7     29.1   18.4  "
      ]
     },
     "execution_count": 3,
     "metadata": {},
     "output_type": "execute_result"
    }
   ],
   "source": [
    "# 파일명, 변수, 값 등에 한글 포함시 engine = \"python\"으로 지정\n",
    "df_raw= pd.read_csv(\"/home/pirl/test/BigData/체질검사.csv\", encoding='euc-kr')\n",
    "df_raw.head()"
   ]
  },
  {
   "cell_type": "code",
   "execution_count": 4,
   "metadata": {},
   "outputs": [],
   "source": [
    "# 목표 변수, 설명변수 데이터 지정\n",
    "df_raw_y = df_raw[\"FAT\"]\n",
    "df_raw_x = df_raw.drop(\"FAT\", axis = 1, inplace = False)"
   ]
  },
  {
   "cell_type": "code",
   "execution_count": 5,
   "metadata": {},
   "outputs": [
    {
     "name": "stdout",
     "output_type": "stream",
     "text": [
      "train data X size : (176, 13)\n",
      "train data Y size : (176,)\n",
      "test data X size : (76, 13)\n",
      "test data X size : (76,)\n"
     ]
    }
   ],
   "source": [
    "# train_test_split(X: 설명변수 데이터, Y: 목표변수 데이터, test_size = test 데이터 비율, random_state: randomseed)\n",
    "df_train_x, df_test_x, df_train_y, df_test_y = train_test_split(df_raw_x, df_raw_y\n",
    "                                                               , test_size = 0.3, random_state = 1234)\n",
    "print(\"train data X size : {}\".format(df_train_x.shape))\n",
    "print(\"train data Y size : {}\".format(df_train_y.shape))\n",
    "print(\"test data X size : {}\".format(df_test_x.shape))\n",
    "print(\"test data X size : {}\".format(df_test_y .shape))"
   ]
  },
  {
   "cell_type": "code",
   "execution_count": 6,
   "metadata": {},
   "outputs": [
    {
     "name": "stdout",
     "output_type": "stream",
     "text": [
      "                            OLS Regression Results                            \n",
      "==============================================================================\n",
      "Dep. Variable:                    FAT   R-squared:                       0.731\n",
      "Model:                            OLS   Adj. R-squared:                  0.726\n",
      "Method:                 Least Squares   F-statistic:                     133.8\n",
      "Date:                Fri, 07 Feb 2020   Prob (F-statistic):           4.38e-68\n",
      "Time:                        13:20:47   Log-Likelihood:                -726.92\n",
      "No. Observations:                 252   AIC:                             1466.\n",
      "Df Residuals:                     246   BIC:                             1487.\n",
      "Df Model:                           5                                         \n",
      "Covariance Type:            nonrobust                                         \n",
      "==============================================================================\n",
      "                 coef    std err          t      P>|t|      [0.025      0.975]\n",
      "------------------------------------------------------------------------------\n",
      "Intercept      2.7037      6.231      0.434      0.665      -9.568      14.976\n",
      "NECK          -0.6012      0.215     -2.798      0.006      -1.024      -0.178\n",
      "ABDOMEN        0.9743      0.056     17.301      0.000       0.863       1.085\n",
      "HIP           -0.3316      0.083     -3.977      0.000      -0.496      -0.167\n",
      "FOREARM        0.4095      0.182      2.249      0.025       0.051       0.768\n",
      "WRIST         -1.6180      0.462     -3.503      0.001      -2.528      -0.708\n",
      "==============================================================================\n",
      "Omnibus:                        3.695   Durbin-Watson:                   2.128\n",
      "Prob(Omnibus):                  0.158   Jarque-Bera (JB):                2.745\n",
      "Skew:                           0.107   Prob(JB):                        0.254\n",
      "Kurtosis:                       2.536   Cond. No.                     3.30e+03\n",
      "==============================================================================\n",
      "\n",
      "Warnings:\n",
      "[1] Standard Errors assume that the covariance matrix of the errors is correctly specified.\n",
      "[2] The condition number is large, 3.3e+03. This might indicate that there are\n",
      "strong multicollinearity or other numerical problems.\n"
     ]
    },
    {
     "data": {
      "text/plain": [
       "GradientBoostingRegressor(alpha=0.9, criterion='friedman_mse', init=None,\n",
       "                          learning_rate=0.1, loss='ls', max_depth=4,\n",
       "                          max_features=None, max_leaf_nodes=None,\n",
       "                          min_impurity_decrease=0.0, min_impurity_split=None,\n",
       "                          min_samples_leaf=11, min_samples_split=22,\n",
       "                          min_weight_fraction_leaf=0.0, n_estimators=30,\n",
       "                          n_iter_no_change=None, presort='auto',\n",
       "                          random_state=1234, subsample=1.0, tol=0.0001,\n",
       "                          validation_fraction=0.1, verbose=0, warm_start=False)"
      ]
     },
     "execution_count": 6,
     "metadata": {},
     "output_type": "execute_result"
    }
   ],
   "source": [
    "# 회귀 모델\n",
    "lr_model = smf.ols(formula= \"FAT ~  NECK + ABDOMEN + HIP + FOREARM + WRIST\", data = df_raw)\n",
    "lr_result = lr_model.fit()\n",
    "print(lr_result.summary())\n",
    "\n",
    "# Decision Tree\n",
    "dt_model = DecisionTreeRegressor(random_state = 1234, min_samples_leaf = 8, min_samples_split=20, max_depth =4)\n",
    "dt_model.fit(df_train_x, df_train_y)\n",
    "\n",
    "# Random Forest\n",
    "rf_model = RandomForestRegressor(random_state = 1234, n_estimators = 100, min_samples_leaf = 6, \n",
    "                                 min_samples_split = 14, max_depth = 4)\n",
    "rf_model.fit(df_train_x, df_train_y)\n",
    "\n",
    "# Gradient Boosting\n",
    "gb_model = GradientBoostingRegressor(random_state = 1234, n_estimators = 30, min_samples_leaf = 11, \n",
    "                                     min_samples_split = 22, max_depth = 4, learning_rate = 0.1)\n",
    "gb_model.fit(df_train_x, df_train_y)\n"
   ]
  },
  {
   "cell_type": "markdown",
   "metadata": {},
   "source": [
    "# 예측 및 평가"
   ]
  },
  {
   "cell_type": "code",
   "execution_count": 13,
   "metadata": {},
   "outputs": [],
   "source": [
    "# 모델 리스트, 그래프 그리기 생성 목적\n",
    "models = [\"회귀분석\", \"의사결정나무\", \"랜덤 포레스트\", \"그래디언트 부스팅\"]\n",
    "# 평가 리스트 초기화\n",
    "mse, rmse, mae, mape = [], [], [],[]"
   ]
  },
  {
   "cell_type": "markdown",
   "metadata": {},
   "source": [
    "## 회귀분석"
   ]
  },
  {
   "cell_type": "code",
   "execution_count": 8,
   "metadata": {},
   "outputs": [],
   "source": [
    "## 회귀분석\n",
    "# 예측\n",
    "lr_y_pred = lr_result.predict(df_test_x)\n",
    "\n",
    "# 평가\n",
    "mse.append(mean_squared_error(df_test_y,lr_y_pred))\n",
    "rmse.append(root_mean_squared_error(df_test_y,lr_y_pred))\n",
    "mae.append(mean_absolute_percentage_error(df_test_y,lr_y_pred))\n",
    "mape.append(mean_absolute_percentage_error(df_test_y,lr_y_pred))"
   ]
  },
  {
   "cell_type": "markdown",
   "metadata": {},
   "source": [
    "## 의사결정나무"
   ]
  },
  {
   "cell_type": "code",
   "execution_count": 9,
   "metadata": {},
   "outputs": [],
   "source": [
    "## 의사결정나무\n",
    "# 예측\n",
    "dt_y_pred = dt_model.predict(df_test_x)\n",
    "\n",
    "# 평가\n",
    "mse.append(mean_squared_error(df_test_y,dt_y_pred))\n",
    "rmse.append(root_mean_squared_error(df_test_y,dt_y_pred))\n",
    "mae.append(mean_absolute_percentage_error(df_test_y,dt_y_pred))\n",
    "mape.append(mean_absolute_percentage_error(df_test_y,dt_y_pred))"
   ]
  },
  {
   "cell_type": "markdown",
   "metadata": {},
   "source": [
    "## 랜덤 포레스트"
   ]
  },
  {
   "cell_type": "code",
   "execution_count": 10,
   "metadata": {},
   "outputs": [],
   "source": [
    "## 랜덤 포레스트\n",
    "# 예측\n",
    "rf_y_pred = rf_model.predict(df_test_x)\n",
    "\n",
    "# 평가\n",
    "mse.append(mean_squared_error(df_test_y,rf_y_pred))\n",
    "rmse.append(root_mean_squared_error(df_test_y,rf_y_pred))\n",
    "mae.append(mean_absolute_percentage_error(df_test_y,rf_y_pred))\n",
    "mape.append(mean_absolute_percentage_error(df_test_y,rf_y_pred))"
   ]
  },
  {
   "cell_type": "markdown",
   "metadata": {},
   "source": [
    "## 그래디언트 부스팅"
   ]
  },
  {
   "cell_type": "code",
   "execution_count": 11,
   "metadata": {},
   "outputs": [],
   "source": [
    "## 그래디언트 부스팅\n",
    "# 예측\n",
    "gb_y_pred = gb_model.predict(df_test_x)\n",
    "\n",
    "# 평가\n",
    "mse.append(mean_squared_error(df_test_y,gb_y_pred))\n",
    "rmse.append(root_mean_squared_error(df_test_y,gb_y_pred))\n",
    "mae.append(mean_absolute_percentage_error(df_test_y,gb_y_pred))\n",
    "mape.append(mean_absolute_percentage_error(df_test_y,gb_y_pred))"
   ]
  },
  {
   "cell_type": "markdown",
   "metadata": {},
   "source": [
    "# step 4 시각화\n",
    "- 평가"
   ]
  },
  {
   "cell_type": "code",
   "execution_count": 12,
   "metadata": {},
   "outputs": [
    {
     "data": {
      "image/png": "[encoded data removed]",
      "text/plain": [
       "<Figure size 936x720 with 4 Axes>"
      ]
     },
     "metadata": {
      "needs_background": "light"
     },
     "output_type": "display_data"
    }
   ],
   "source": [
    "fig, ax = plt.subplots(2,2, figsize = (13,10))\n",
    "ax[0,0].bar(models, mse)\n",
    "ax[0,0].set_title(\"mse\").set_fontsize(15)\n",
    "\n",
    "ax[0,1].bar(models, rmse)\n",
    "ax[0,1].set_title(\"rmse\").set_fontsize(15)\n",
    "\n",
    "ax[1,0].bar(models, mae)\n",
    "ax[1,0].set_title(\"mae\").set_fontsize(15)\n",
    "\n",
    "ax[1,1].bar(models, mape)\n",
    "ax[1,1].set_title(\"mape\").set_fontsize(15)"
   ]
  },
  {
   "cell_type": "raw",
   "metadata": {},
   "source": [
    "후진제거로 선택된 설명변수를 이용한 선형회귀모델의 정확도가 가장 높고, 반면에 의사결정나무 모델의 성능이 가장 미흡하며 평가 지표별 모델의 정확도 추세는 동일하게 나타남"
   ]
  },
  {
   "cell_type": "code",
   "execution_count": null,
   "metadata": {},
   "outputs": [],
   "source": []
  },
  {
   "cell_type": "code",
   "execution_count": null,
   "metadata": {},
   "outputs": [],
   "source": []
  },
  {
   "cell_type": "code",
   "execution_count": null,
   "metadata": {},
   "outputs": [],
   "source": []
  },
  {
   "cell_type": "code",
   "execution_count": null,
   "metadata": {},
   "outputs": [],
   "source": []
  },
  {
   "cell_type": "code",
   "execution_count": null,
   "metadata": {},
   "outputs": [],
   "source": []
  },
  {
   "cell_type": "code",
   "execution_count": null,
   "metadata": {},
   "outputs": [],
   "source": []
  },
  {
   "cell_type": "code",
   "execution_count": null,
   "metadata": {},
   "outputs": [],
   "source": []
  },
  {
   "cell_type": "code",
   "execution_count": null,
   "metadata": {},
   "outputs": [],
   "source": []
  },
  {
   "cell_type": "code",
   "execution_count": null,
   "metadata": {},
   "outputs": [],
   "source": []
  },
  {
   "cell_type": "code",
   "execution_count": null,
   "metadata": {},
   "outputs": [],
   "source": []
  },
  {
   "cell_type": "code",
   "execution_count": null,
   "metadata": {},
   "outputs": [],
   "source": []
  }
 ],
 "metadata": {
  "kernelspec": {
   "display_name": "Python 3",
   "language": "python",
   "name": "python3"
  },
  "language_info": {
   "codemirror_mode": {
    "name": "ipython",
    "version": 3
   },
   "file_extension": ".py",
   "mimetype": "text/x-python",
   "name": "python",
   "nbconvert_exporter": "python",
   "pygments_lexer": "ipython3",
   "version": "3.7.4"
  }
 },
 "nbformat": 4,
 "nbformat_minor": 2
}
