{
 "cells": [
  {
   "cell_type": "code",
   "execution_count": 1,
   "metadata": {},
   "outputs": [],
   "source": [
    "# 데이터 구성: Series, DataFrame\n",
    "import pandas as pd\n",
    "\n",
    "# 데이터 시각화\n",
    "import matplotlib.pyplot as plt\n",
    "import matplotlib\n",
    "\n",
    "# export_graphviz: 나무 구조 생성 및 저장\n",
    "from sklearn.tree import export_graphviz\n",
    "# graphviz : 나무 구조 시각화 (.dot 확장자 파일 불러오기 등)\n",
    "import graphviz\n",
    "\n",
    "\n",
    "# 데이터 분할: train, test\n",
    "from sklearn.model_selection import train_test_split\n",
    "# 예측/회귀 Gradient Boosting\n",
    "from sklearn.ensemble import GradientBoostingRegressor\n",
    "# 최적 모델, 파라미터 탐색\n",
    "from sklearn.model_selection import GridSearchCV\n",
    "\n",
    "from sklearn.metrics import mean_squared_error \n",
    "from sklearn.metrics import mean_absolute_error\n"
   ]
  },
  {
   "cell_type": "raw",
   "metadata": {},
   "source": [
    "의사결정나무_예측\n",
    "콘크리트 강도를 예측하는 의사결정나무 모델을 만들고 predict method를 이용하여 예측값을 구하라. 그리고 모델의 mse와 mae를 산출하여 비교하라. \n",
    "데이터 : Concrete.CSV(변수: 9개, 자료 수: 1,030개)\n",
    " -.목표변수(Concrete_compressive_strength)\n",
    " \n",
    " ※ 데이터는 ( train(0.4) : validation(0.3) : test(0.3) )의 비율로 분할 (train_test_split 활용)\n",
    " 0. train_test_split 함수를 이용하여 train:test로 데이터 분할. 분할된 train 데이터를 재 분할하여 validation 데이터로 사용\n",
    " 1. train 데이터: 모델 훈련 \n",
    " 2. validation 데이터: 최적의 parameter 찾기(과정의 [연습/실습]에서 test 데이터 역할)\n",
    " 3. test 데이터: 2에서 찾은 최적의 parameter를 이용하여 만든 모델로 최종 성능 확인(단 한 번만 사용할 것)"
   ]
  },
  {
   "cell_type": "code",
   "execution_count": 2,
   "metadata": {},
   "outputs": [
    {
     "data": {
      "text/html": [
       "<div>\n",
       "<style scoped>\n",
       "    .dataframe tbody tr th:only-of-type {\n",
       "        vertical-align: middle;\n",
       "    }\n",
       "\n",
       "    .dataframe tbody tr th {\n",
       "        vertical-align: top;\n",
       "    }\n",
       "\n",
       "    .dataframe thead th {\n",
       "        text-align: right;\n",
       "    }\n",
       "</style>\n",
       "<table border=\"1\" class=\"dataframe\">\n",
       "  <thead>\n",
       "    <tr style=\"text-align: right;\">\n",
       "      <th></th>\n",
       "      <th>CEMENT</th>\n",
       "      <th>BLAST_FURNACE_SLAG</th>\n",
       "      <th>FLY_ASH</th>\n",
       "      <th>WATER</th>\n",
       "      <th>SUPERPLASTICIZER</th>\n",
       "      <th>COARSE_AGGREGATE</th>\n",
       "      <th>FINE_AGGREGATE</th>\n",
       "      <th>AGE</th>\n",
       "      <th>CONCRETE_COMPRESSIVE_STRENGTH</th>\n",
       "    </tr>\n",
       "  </thead>\n",
       "  <tbody>\n",
       "    <tr>\n",
       "      <td>0</td>\n",
       "      <td>540.0</td>\n",
       "      <td>0.0</td>\n",
       "      <td>0.0</td>\n",
       "      <td>162.0</td>\n",
       "      <td>2.5</td>\n",
       "      <td>1040.0</td>\n",
       "      <td>676.0</td>\n",
       "      <td>28</td>\n",
       "      <td>79.99</td>\n",
       "    </tr>\n",
       "    <tr>\n",
       "      <td>1</td>\n",
       "      <td>540.0</td>\n",
       "      <td>0.0</td>\n",
       "      <td>0.0</td>\n",
       "      <td>162.0</td>\n",
       "      <td>2.5</td>\n",
       "      <td>1055.0</td>\n",
       "      <td>676.0</td>\n",
       "      <td>28</td>\n",
       "      <td>61.89</td>\n",
       "    </tr>\n",
       "    <tr>\n",
       "      <td>2</td>\n",
       "      <td>332.5</td>\n",
       "      <td>142.5</td>\n",
       "      <td>0.0</td>\n",
       "      <td>228.0</td>\n",
       "      <td>0.0</td>\n",
       "      <td>932.0</td>\n",
       "      <td>594.0</td>\n",
       "      <td>270</td>\n",
       "      <td>40.27</td>\n",
       "    </tr>\n",
       "    <tr>\n",
       "      <td>3</td>\n",
       "      <td>332.5</td>\n",
       "      <td>142.5</td>\n",
       "      <td>0.0</td>\n",
       "      <td>228.0</td>\n",
       "      <td>0.0</td>\n",
       "      <td>932.0</td>\n",
       "      <td>594.0</td>\n",
       "      <td>365</td>\n",
       "      <td>41.05</td>\n",
       "    </tr>\n",
       "    <tr>\n",
       "      <td>4</td>\n",
       "      <td>198.6</td>\n",
       "      <td>132.4</td>\n",
       "      <td>0.0</td>\n",
       "      <td>192.0</td>\n",
       "      <td>0.0</td>\n",
       "      <td>978.4</td>\n",
       "      <td>825.5</td>\n",
       "      <td>360</td>\n",
       "      <td>44.30</td>\n",
       "    </tr>\n",
       "  </tbody>\n",
       "</table>\n",
       "</div>"
      ],
      "text/plain": [
       "   CEMENT  BLAST_FURNACE_SLAG  FLY_ASH  WATER  SUPERPLASTICIZER  \\\n",
       "0   540.0                 0.0      0.0  162.0               2.5   \n",
       "1   540.0                 0.0      0.0  162.0               2.5   \n",
       "2   332.5               142.5      0.0  228.0               0.0   \n",
       "3   332.5               142.5      0.0  228.0               0.0   \n",
       "4   198.6               132.4      0.0  192.0               0.0   \n",
       "\n",
       "   COARSE_AGGREGATE  FINE_AGGREGATE  AGE  CONCRETE_COMPRESSIVE_STRENGTH  \n",
       "0            1040.0           676.0   28                          79.99  \n",
       "1            1055.0           676.0   28                          61.89  \n",
       "2             932.0           594.0  270                          40.27  \n",
       "3             932.0           594.0  365                          41.05  \n",
       "4             978.4           825.5  360                          44.30  "
      ]
     },
     "execution_count": 2,
     "metadata": {},
     "output_type": "execute_result"
    }
   ],
   "source": [
    "# 파일명, 변수, 값 등에 한글 포함시 engine = \"python\"으로 지정\n",
    "df_raw= pd.read_csv(\"/home/pirl/test/BigData/Concrete.csv\", encoding='euc-kr')\n",
    "df_raw.head()"
   ]
  },
  {
   "cell_type": "code",
   "execution_count": 3,
   "metadata": {},
   "outputs": [],
   "source": [
    "# 목표 변수, 설명변수 데이터 지정\n",
    "df_raw_y = df_raw[\"CONCRETE_COMPRESSIVE_STRENGTH\"]\n",
    "df_raw_x = df_raw.drop(\"CONCRETE_COMPRESSIVE_STRENGTH\", axis = 1, inplace = False)"
   ]
  },
  {
   "cell_type": "code",
   "execution_count": 4,
   "metadata": {},
   "outputs": [
    {
     "name": "stdout",
     "output_type": "stream",
     "text": [
      "train data X size : (412, 8)\n",
      "train data Y size : (412,)\n",
      "validation data X size : (309, 8)\n",
      "validation data Y size : (309,)\n",
      "test data X size : (309, 8)\n",
      "test data X size : (309,)\n"
     ]
    }
   ],
   "source": [
    "# train_test_split(X: 설명변수 데이터, Y: 목표변수 데이터, test_size = test 데이터 비율, random_state: randomseed)\n",
    "df_train_x, df_test_x, df_train_y, df_test_y = train_test_split(df_raw_x, df_raw_y\n",
    "                                                               , test_size = 0.6, random_state = 1234)\n",
    "\n",
    "df_validation_x, df_test_x, df_validation_y, df_test_y = train_test_split(df_test_x, df_test_y\n",
    "                                                               , test_size = 0.5, random_state = 1234)\n",
    "\n",
    "print(\"train data X size : {}\".format(df_train_x.shape))\n",
    "print(\"train data Y size : {}\".format(df_train_y.shape))\n",
    "\n",
    "print(\"validation data X size : {}\".format(df_validation_x.shape))\n",
    "print(\"validation data Y size : {}\".format(df_validation_y.shape))\n",
    "\n",
    "print(\"test data X size : {}\".format(df_test_x.shape))\n",
    "print(\"test data X size : {}\".format(df_test_y .shape))"
   ]
  },
  {
   "cell_type": "code",
   "execution_count": 5,
   "metadata": {},
   "outputs": [
    {
     "name": "stdout",
     "output_type": "stream",
     "text": [
      "Score on training set: 0.949\n",
      "Score on test set: 0.903\n",
      "Score on test set: 0.900\n"
     ]
    }
   ],
   "source": [
    "gb_uncustomized = GradientBoostingRegressor(random_state = 1234)\n",
    "gb_uncustomized.fit(df_train_x, df_train_y)\n",
    "# Train 데이터 설명력\n",
    "print(\"Score on training set: {:.3f}\".format(gb_uncustomized.score(df_train_x, df_train_y)))\n",
    "\n",
    "# validation 데이터 설명력\n",
    "print(\"Score on test set: {:.3f}\".format(gb_uncustomized.score(df_validation_x, df_validation_y)))\n",
    "\n",
    "# Test 데이터 설명력\n",
    "print(\"Score on test set: {:.3f}\".format(gb_uncustomized.score(df_test_x, df_test_y)))\n"
   ]
  },
  {
   "cell_type": "raw",
   "metadata": {},
   "source": [
    "모델 설명력은 train 94.9%, test 90.0%로 모델은 train 데이터에 과대적합"
   ]
  },
  {
   "cell_type": "markdown",
   "metadata": {},
   "source": [
    "### 모델 Parameter 조정\n",
    "- n_estimators: 트리 수 변경에 따른 모델 성능"
   ]
  },
  {
   "cell_type": "code",
   "execution_count": 6,
   "metadata": {},
   "outputs": [
    {
     "name": "stdout",
     "output_type": "stream",
     "text": [
      "   Estimators  TrainScore  Validation\n",
      "0          10       0.635       0.617\n",
      "1          20       0.800       0.780\n",
      "2          30       0.863       0.844\n",
      "3          40       0.893       0.866\n",
      "4          50       0.911       0.876\n",
      "5          60       0.922       0.884\n",
      "6          70       0.931       0.890\n",
      "7          80       0.938       0.893\n",
      "8          90       0.944       0.898\n",
      "9         100       0.949       0.900\n"
     ]
    },
    {
     "data": {
      "text/plain": [
       "<matplotlib.legend.Legend at 0x7f63a9d97310>"
      ]
     },
     "execution_count": 6,
     "metadata": {},
     "output_type": "execute_result"
    },
    {
     "data": {
      "image/png": "[encoded data removed]",
      "text/plain": [
       "<Figure size 432x288 with 1 Axes>"
      ]
     },
     "metadata": {
      "needs_background": "light"
     },
     "output_type": "display_data"
    }
   ],
   "source": [
    "# train 및 test 설명력 결과 저장\n",
    "train_score = []; test_score = []\n",
    "# n_estimators: 트리 수 변경: 1~100\n",
    "para_n_tree = [n_tree * 10 for n_tree in range(1,11)] #참조: para_n_tree: [10,20,30,...,100]\n",
    "\n",
    "for v_n_estimators in para_n_tree:\n",
    "    gb = GradientBoostingRegressor(n_estimators=v_n_estimators, random_state = 1234)\n",
    "    gb.fit(df_train_x, df_train_y)\n",
    "    train_score.append(gb.score(df_train_x, df_train_y))\n",
    "    test_score.append(gb.score(df_test_x, df_test_y))\n",
    "    \n",
    "# 결과 저장\n",
    "df_score_leaf = pd.DataFrame()\n",
    "df_score_leaf[\"Estimators\"] = para_n_tree\n",
    "df_score_leaf[\"TrainScore\"] = train_score\n",
    "df_score_leaf[\"Validation\"] = test_score\n",
    "\n",
    "# 모델 설명력 확인\n",
    "print(df_score_leaf.round(3))\n",
    "\n",
    "# 모델 설명력 그래프 확인\n",
    "plt.plot(para_n_tree, train_score, linestyle = \"-\", label = \"Train Score\")\n",
    "plt.plot(para_n_tree, test_score, linestyle = \"--\", label = \"Validation Score\")\n",
    "plt.ylabel(\"score\"); plt.xlabel(\"n_estimators\")\n",
    "plt.legend()"
   ]
  },
  {
   "cell_type": "raw",
   "metadata": {},
   "source": [
    "트리 수 증가에 따라 모델의 설명력은 지속적으로 향상되고 있으나 Test 데이터의 성능 변화를 고려하여 40 선택"
   ]
  },
  {
   "cell_type": "markdown",
   "metadata": {},
   "source": [
    "# min_samples_leaf: 잎사귀 노드의 최소 자료 수변경에 따른 모델 성능"
   ]
  },
  {
   "cell_type": "code",
   "execution_count": 7,
   "metadata": {},
   "outputs": [
    {
     "name": "stdout",
     "output_type": "stream",
     "text": [
      "    MinSamplesLeaf  TrainScore  ValidationScore\n",
      "0                1       0.893            0.866\n",
      "1                2       0.894            0.867\n",
      "2                3       0.893            0.863\n",
      "3                4       0.893            0.867\n",
      "4                5       0.890            0.863\n",
      "5                6       0.888            0.867\n",
      "6                7       0.888            0.866\n",
      "7                8       0.887            0.861\n",
      "8                9       0.888            0.861\n",
      "9               10       0.883            0.857\n",
      "10              11       0.882            0.857\n",
      "11              12       0.880            0.856\n",
      "12              13       0.882            0.855\n",
      "13              14       0.880            0.854\n",
      "14              15       0.881            0.855\n",
      "15              16       0.877            0.851\n",
      "16              17       0.877            0.855\n",
      "17              18       0.877            0.856\n",
      "18              19       0.879            0.860\n",
      "19              20       0.878            0.855\n"
     ]
    },
    {
     "data": {
      "text/plain": [
       "<matplotlib.legend.Legend at 0x7f63a9cb6310>"
      ]
     },
     "execution_count": 7,
     "metadata": {},
     "output_type": "execute_result"
    },
    {
     "data": {
      "image/png": "[encoded data removed]",
      "text/plain": [
       "<Figure size 432x288 with 1 Axes>"
      ]
     },
     "metadata": {
      "needs_background": "light"
     },
     "output_type": "display_data"
    }
   ],
   "source": [
    "# train 및 test 설명력 결과 저장\n",
    "train_score = []; test_score = []\n",
    "# min_samples_leaf: 잎사귀 최소 자료 수\n",
    "para_leaf = [n_leaf * 1 for n_leaf in range(1,21)] #참조: para_leaf: [1,2,3,...,20]\n",
    "\n",
    "for v_min_samples_leaf in para_leaf:\n",
    "    gb = GradientBoostingRegressor(random_state = 1234, n_estimators = 40,\n",
    "                               min_samples_leaf = v_min_samples_leaf)\n",
    "    gb.fit(df_train_x, df_train_y)\n",
    "    train_score.append(gb.score(df_train_x, df_train_y))\n",
    "    test_score.append(gb.score(df_test_x, df_test_y))\n",
    "      \n",
    "# 결과 저장\n",
    "df_score_leaf = pd.DataFrame()\n",
    "df_score_leaf[\"MinSamplesLeaf\"] = para_leaf\n",
    "df_score_leaf[\"TrainScore\"] = train_score\n",
    "df_score_leaf[\"ValidationScore\"] = test_score\n",
    "\n",
    "# 모델 설명력 확인\n",
    "print(df_score_leaf.round(3))\n",
    "\n",
    "# 모델 설명력 그래프 확인\n",
    "plt.plot(para_leaf, train_score, linestyle = \"-\", label = \"Train Score\")\n",
    "plt.plot(para_leaf, test_score, linestyle = \"--\", label = \"Validation Score\")\n",
    "plt.ylabel(\"score\"); plt.xlabel(\"min samples leaf\")\n",
    "plt.legend()"
   ]
  },
  {
   "cell_type": "raw",
   "metadata": {},
   "source": [
    "잎사귀 노드의 최소 자료 수 증가에 따라 모델의 설명력은 감소하며\n",
    "test 데이터의 성능 변화를 고려하여 9 선택"
   ]
  },
  {
   "cell_type": "markdown",
   "metadata": {},
   "source": [
    "# min_samples_split: 분리 노드의 최소 자료 수 변경에 따른 모델 성능"
   ]
  },
  {
   "cell_type": "code",
   "execution_count": 8,
   "metadata": {},
   "outputs": [
    {
     "name": "stdout",
     "output_type": "stream",
     "text": [
      "    MinSamplesSplit  TrainScore  ValidationScore\n",
      "0                 2       0.888            0.861\n",
      "1                 4       0.888            0.861\n",
      "2                 6       0.888            0.861\n",
      "3                 8       0.888            0.861\n",
      "4                10       0.888            0.861\n",
      "5                12       0.888            0.861\n",
      "6                14       0.888            0.861\n",
      "7                16       0.888            0.861\n",
      "8                18       0.888            0.861\n",
      "9                20       0.885            0.860\n",
      "10               22       0.885            0.860\n",
      "11               24       0.883            0.863\n",
      "12               26       0.882            0.860\n",
      "13               28       0.885            0.862\n",
      "14               30       0.883            0.860\n",
      "15               32       0.883            0.860\n",
      "16               34       0.883            0.862\n",
      "17               36       0.881            0.861\n",
      "18               38       0.881            0.861\n",
      "19               40       0.883            0.865\n"
     ]
    },
    {
     "data": {
      "text/plain": [
       "<matplotlib.legend.Legend at 0x7f63a9c3c6d0>"
      ]
     },
     "execution_count": 8,
     "metadata": {},
     "output_type": "execute_result"
    },
    {
     "data": {
      "image/png": "[encoded data removed]",
      "text/plain": [
       "<Figure size 432x288 with 1 Axes>"
      ]
     },
     "metadata": {
      "needs_background": "light"
     },
     "output_type": "display_data"
    }
   ],
   "source": [
    "# train 및 test 설명력 결과 저장\n",
    "train_score = []; test_score = []\n",
    "# min_samples_leaf: 잎사귀 최소 자료 수\n",
    "para_split = [n_split * 2 for n_split in range(1,21)] #참조: para_leaf: [4,6,8,...,40]\n",
    "\n",
    "for v_min_samples_split in para_split:\n",
    "    gb = GradientBoostingRegressor(random_state = 1234, n_estimators = 40, min_samples_leaf = 9,\n",
    "                               min_samples_split = v_min_samples_split)\n",
    "    gb.fit(df_train_x, df_train_y)\n",
    "    train_score.append(gb.score(df_train_x, df_train_y))\n",
    "    test_score.append(gb.score(df_test_x, df_test_y))\n",
    "      \n",
    "# 결과 저장\n",
    "df_score_split = pd.DataFrame()\n",
    "df_score_split[\"MinSamplesSplit\"] = para_split\n",
    "df_score_split[\"TrainScore\"] = train_score\n",
    "df_score_split[\"ValidationScore\"] = test_score\n",
    "# 모델 설명력 확인\n",
    "print(df_score_split.round(3))\n",
    "\n",
    "# 모델 설명력 그래프 확인\n",
    "plt.plot(para_split, train_score, linestyle = \"-\", label = \"Train Score\")\n",
    "plt.plot(para_split, test_score, linestyle = \"--\", label = \"Validation Score\")\n",
    "plt.ylabel(\"score\"); plt.xlabel(\"min samples leaf\")\n",
    "plt.legend()"
   ]
  },
  {
   "cell_type": "raw",
   "metadata": {},
   "source": [
    "분리 노드 최소 자료 수 증가에 따라 모델의 설명력은 감소하며\n",
    "Train/test 데이터의 성능 변화를 고려하여 18 선택\n",
    "22보다 적은 영역에서는 변화가 없음"
   ]
  },
  {
   "cell_type": "markdown",
   "metadata": {},
   "source": [
    "# max_depth: 최대 깊이 변경에 따른 모델 성능"
   ]
  },
  {
   "cell_type": "code",
   "execution_count": 9,
   "metadata": {},
   "outputs": [
    {
     "name": "stdout",
     "output_type": "stream",
     "text": [
      "   Depth  TrainScore  ValidationScore\n",
      "0      1       0.651            0.651\n",
      "1      2       0.832            0.831\n",
      "2      3       0.886            0.861\n",
      "3      4       0.930            0.888\n",
      "4      5       0.952            0.894\n",
      "5      6       0.965            0.899\n",
      "6      7       0.970            0.895\n",
      "7      8       0.973            0.890\n",
      "8      9       0.975            0.894\n",
      "9     10       0.976            0.895\n"
     ]
    },
    {
     "data": {
      "text/plain": [
       "<matplotlib.legend.Legend at 0x7f63a9bbb750>"
      ]
     },
     "execution_count": 9,
     "metadata": {},
     "output_type": "execute_result"
    },
    {
     "data": {
      "image/png": "[encoded data removed]",
      "text/plain": [
       "<Figure size 432x288 with 1 Axes>"
      ]
     },
     "metadata": {
      "needs_background": "light"
     },
     "output_type": "display_data"
    }
   ],
   "source": [
    "# train 및 test 설명력 결과 저장\n",
    "train_score = []; test_score = []\n",
    "# max_depth: 최대 깊이 변경\n",
    "para_depth = [n_depth for n_depth in range(1,11)] # 참조: para+depth:[1,2,3, ...,10]\n",
    "\n",
    "for v_max_depth in para_depth:\n",
    "    gb = GradientBoostingRegressor(random_state = 1234, n_estimators = 40, \n",
    "                               min_samples_leaf = 8, min_samples_split = 18,\n",
    "                               max_depth = v_max_depth)\n",
    "    gb.fit(df_train_x, df_train_y)\n",
    "    train_score.append(gb.score(df_train_x, df_train_y))\n",
    "    test_score.append(gb.score(df_test_x, df_test_y))\n",
    "      \n",
    "# 결과 저장\n",
    "df_score_split = pd.DataFrame()\n",
    "df_score_split[\"Depth\"] = para_depth\n",
    "df_score_split[\"TrainScore\"] = train_score\n",
    "df_score_split[\"ValidationScore\"] = test_score\n",
    "\n",
    "# 모델 설명력 확인\n",
    "print(df_score_split.round(3))\n",
    "\n",
    "# 모델 설명력 그래프 확인: 4개\n",
    "plt.plot(para_depth, train_score, linestyle = \"-\", label = \"Train Score\")\n",
    "plt.plot(para_depth, test_score, linestyle = \"--\", label = \"Validation Score\")\n",
    "plt.ylabel(\"score\"); plt.xlabel(\"min samples leaf\")\n",
    "plt.legend()"
   ]
  },
  {
   "cell_type": "raw",
   "metadata": {},
   "source": [
    "최대 깊이 증가에 따라 모델의 설명력은 증가하며 test 데이터의성능 변화를 고려하여 7 선택"
   ]
  },
  {
   "cell_type": "markdown",
   "metadata": {},
   "source": [
    "# learning_rate: 학습률 변경에 따른 모델 성능"
   ]
  },
  {
   "cell_type": "code",
   "execution_count": 10,
   "metadata": {},
   "outputs": [
    {
     "name": "stdout",
     "output_type": "stream",
     "text": [
      "   LearningRate  TrainScore  ValidationScore\n",
      "0           0.1       0.970            0.895\n",
      "1           0.2       0.983            0.897\n",
      "2           0.3       0.988            0.907\n",
      "3           0.4       0.989            0.903\n",
      "4           0.5       0.991            0.908\n",
      "5           0.6       0.992            0.896\n",
      "6           0.7       0.993            0.883\n",
      "7           0.8       0.993            0.872\n",
      "8           0.9       0.993            0.855\n",
      "9           1.0       0.993            0.820\n"
     ]
    },
    {
     "data": {
      "text/plain": [
       "<matplotlib.legend.Legend at 0x7f63a9b26290>"
      ]
     },
     "execution_count": 10,
     "metadata": {},
     "output_type": "execute_result"
    },
    {
     "data": {
      "image/png": "[encoded data removed]",
      "text/plain": [
       "<Figure size 432x288 with 1 Axes>"
      ]
     },
     "metadata": {
      "needs_background": "light"
     },
     "output_type": "display_data"
    }
   ],
   "source": [
    "# train 및 test 설명력 결과 저장\n",
    "train_score = []; test_score = []\n",
    "\n",
    "# learning rate: 학습률 변경 -.1 ~0.9\n",
    "para_lr = [lr * 0.1 for lr in range(1,11)] # 참조: para+depth:[0.1,0.2,0.3, ...,0.9]\n",
    "\n",
    "\n",
    "for v_learning_rate in para_lr:\n",
    "    gb = GradientBoostingRegressor(random_state = 1234, n_estimators = 40, \n",
    "                               min_samples_leaf = 8, min_samples_split = 18,\n",
    "                               max_depth = 7, learning_rate = v_learning_rate)\n",
    "    gb.fit(df_train_x, df_train_y)\n",
    "    train_score.append(gb.score(df_train_x, df_train_y))\n",
    "    test_score.append(gb.score(df_test_x, df_test_y))\n",
    "      \n",
    "# 결과 저장\n",
    "df_score_split = pd.DataFrame()\n",
    "df_score_split[\"LearningRate\"] = para_lr\n",
    "df_score_split[\"TrainScore\"] = train_score\n",
    "df_score_split[\"ValidationScore\"] = test_score\n",
    "\n",
    "# 모델 설명력 확인\n",
    "print(df_score_split.round(3))\n",
    "\n",
    "\n",
    "# 모델 설명력 그래프 확인\n",
    "plt.plot(para_depth, train_score, linestyle = \"-\", label = \"Train Score\")\n",
    "plt.plot(para_depth, test_score, linestyle = \"--\", label = \"Validation Score\")\n",
    "plt.ylabel(\"score\"); plt.xlabel(\"min samples leaf\")\n",
    "plt.legend()\n"
   ]
  },
  {
   "cell_type": "raw",
   "metadata": {},
   "source": [
    "학습률 증가에 따라 모델의 설명력은 증가하는데\n",
    "반면 test 데이터의 성능은 급격하게 저하되어 가장 큰 값인 0.5 선택"
   ]
  },
  {
   "cell_type": "markdown",
   "metadata": {},
   "source": [
    "# 결론 도출\n",
    "- 최종 모델 생성"
   ]
  },
  {
   "cell_type": "code",
   "execution_count": 11,
   "metadata": {},
   "outputs": [
    {
     "name": "stdout",
     "output_type": "stream",
     "text": [
      "Score on training set: 0.988\n",
      "Score on Validation set: 0.901\n"
     ]
    }
   ],
   "source": [
    "gb_final = GradientBoostingRegressor(random_state = 1234, n_estimators = 40, min_samples_leaf = 8, \n",
    "                                     min_samples_split = 28, max_depth = 7, learning_rate = 0.5)\n",
    "gb_final.fit(df_train_x, df_train_y)\n",
    "\n",
    "# Train 데이터 설명력\n",
    "print(\"Score on training set: {:.3f}\".format(gb_final.score(df_train_x, df_train_y)))\n",
    "# Test 데이터 설명력\n",
    "print(\"Score on Validation set: {:.3f}\".format(gb_final.score(df_test_x, df_test_y)))  "
   ]
  },
  {
   "cell_type": "markdown",
   "metadata": {},
   "source": [
    "# feature_importances_: 설명변수 중요도"
   ]
  },
  {
   "cell_type": "code",
   "execution_count": 12,
   "metadata": {},
   "outputs": [
    {
     "name": "stdout",
     "output_type": "stream",
     "text": [
      "              Feature  Importance\n",
      "7                 AGE       0.319\n",
      "0              CEMENT       0.292\n",
      "3               WATER       0.170\n",
      "4    SUPERPLASTICIZER       0.079\n",
      "1  BLAST_FURNACE_SLAG       0.069\n",
      "6      FINE_AGGREGATE       0.045\n",
      "5    COARSE_AGGREGATE       0.015\n",
      "2             FLY_ASH       0.013\n"
     ]
    },
    {
     "data": {
      "text/plain": [
       "Text(0, 0.5, '변수')"
      ]
     },
     "execution_count": 12,
     "metadata": {},
     "output_type": "execute_result"
    },
    {
     "data": {
      "image/png": "[encoded data removed]",
      "text/plain": [
       "<Figure size 432x288 with 1 Axes>"
      ]
     },
     "metadata": {
      "needs_background": "light"
     },
     "output_type": "display_data"
    }
   ],
   "source": [
    "# 변수명 저장\n",
    "v_feature_name = df_train_x.columns\n",
    "\n",
    "# tree.feature_importances_로 설명변수 중요도 확인 및 데이블 저장\n",
    "df_importance = pd.DataFrame()\n",
    "df_importance[\"Feature\"] = v_feature_name\n",
    "df_importance[\"Importance\"] = gb_final.feature_importances_\n",
    "\n",
    "# feature_importances의 테이블을 중요도별로 정렬\n",
    "df_importance.sort_values(\"Importance\", ascending = False, inplace = True)\n",
    "print(df_importance.round(3))\n",
    "\n",
    "# 설명변수 중요도 그래프\n",
    "# 중요도가 높은 변수를 상위에 그림\n",
    "df_importance.sort_values(\"Importance\", ascending = True, inplace = True)\n",
    "coordinates = range(len(df_importance))\n",
    "plt.barh(y = coordinates, width = df_importance[\"Importance\"])\n",
    "plt.yticks(coordinates, df_importance[\"Feature\"])\n",
    "plt.xlabel(\"변수 중요도\")\n",
    "plt.ylabel(\"변수\")"
   ]
  },
  {
   "cell_type": "raw",
   "metadata": {},
   "source": [
    "중요 설명변수: Age, CEMENT, WATER\n",
    "    순으로 영향이 크다고 해석할 수 있음\n",
    "단, 계산된 변수 중요도 값이 낮거나 0이더라도 선택되는 데이터에 따라 중요도가 변경될 수 있음"
   ]
  },
  {
   "cell_type": "code",
   "execution_count": 13,
   "metadata": {},
   "outputs": [
    {
     "name": "stdout",
     "output_type": "stream",
     "text": [
      "MSE: 28.073\n",
      "MAE: 3.827\n"
     ]
    }
   ],
   "source": [
    "predict_y = gb_final.predict(df_test_x)\n",
    "\n",
    "MSE = mean_squared_error(df_test_y, predict_y)\n",
    "MAE = mean_absolute_error(df_test_y, predict_y)\n",
    "print(\"MSE: {:.3f}\".format(MSE))\n",
    "print(\"MAE: {:.3f}\".format(MAE))"
   ]
  },
  {
   "cell_type": "markdown",
   "metadata": {},
   "source": [
    "# GridSearchCV를 이용한 최적 parameter 찾기"
   ]
  },
  {
   "cell_type": "code",
   "execution_count": 31,
   "metadata": {},
   "outputs": [
    {
     "name": "stderr",
     "output_type": "stream",
     "text": [
      "/home/pirl/anaconda3/lib/python3.7/site-packages/sklearn/model_selection/_split.py:1978: FutureWarning: The default value of cv will change from 3 to 5 in version 0.22. Specify it explicitly to silence this warning.\n",
      "  warnings.warn(CV_WARNING, FutureWarning)\n"
     ]
    },
    {
     "name": "stdout",
     "output_type": "stream",
     "text": [
      "best estimator model: \n",
      "GradientBoostingRegressor(alpha=0.9, criterion='mse', init=None,\n",
      "                          learning_rate=0.2, loss='ls', max_depth=6,\n",
      "                          max_features='log2', max_leaf_nodes=None,\n",
      "                          min_impurity_decrease=0.0, min_impurity_split=None,\n",
      "                          min_samples_leaf=20, min_samples_split=2,\n",
      "                          min_weight_fraction_leaf=0.0, n_estimators=100,\n",
      "                          n_iter_no_change=None, presort='auto',\n",
      "                          random_state=1234, subsample=1.0, tol=0.0001,\n",
      "                          validation_fraction=0.1, verbose=0, warm_start=False)\n",
      "\n",
      "best parameter: \n",
      "{'criterion': 'mse', 'learning_rate': 0.2, 'max_depth': 6, 'max_features': 'log2', 'min_samples_leaf': 20}\n",
      "\n",
      "best score: \n",
      "0.855\n"
     ]
    },
    {
     "name": "stderr",
     "output_type": "stream",
     "text": [
      "/home/pirl/anaconda3/lib/python3.7/site-packages/sklearn/model_selection/_search.py:814: DeprecationWarning: The default of the `iid` parameter will change from True to False in version 0.22 and will be removed in 0.24. This will change numeric results when test-set sizes are unequal.\n",
      "  DeprecationWarning)\n"
     ]
    }
   ],
   "source": [
    "estimator = GradientBoostingRegressor(random_state = 1234)\n",
    "# 구하고자 하는 parameter와 범위\n",
    "param_grid = {\"criterion\": [\"mse\", \"friedman_mse\", \"mae\"], \"max_features\": [\"auto\", \"sqrt\", \"log2\"],\"learning_rate\": para_lr,\n",
    "                            \"max_depth\": para_depth, \"min_samples_leaf\": para_leaf}\n",
    "\n",
    "# 설명력이 높은 최적 parameter 찾기\n",
    "grid_gb = GridSearchCV(estimator, param_grid, scoring = \"r2\", n_jobs = -1)\n",
    "grid_gb.fit(df_train_x, df_train_y)\n",
    "\n",
    "print(\"best estimator model: \\n{}\".format(grid_gb.best_estimator_))\n",
    "print(\"\\nbest parameter: \\n{}\".format(grid_gb.best_params_))\n",
    "print(\"\\nbest score: \\n{}\".format(grid_gb.best_score_.round(3)))"
   ]
  },
  {
   "cell_type": "raw",
   "metadata": {},
   "source": [
    "최대 깊이(max_depth)가 10, 잎사귀의 최소 샘플 수 (min_samples_leaf)가 2일 때 min_samples_split이 4일 때 설명력이 79.2% (의사결정 나무 68.4%임을 알 수 있다.)\n",
    "\n",
    "GridSearchCV는 fit을 이용하여 data를 적합 시킬 때 train/validation 데이터로 나누어 cross-validationd을 적용하므로 앞선 결과와 다를 수 있음"
   ]
  },
  {
   "cell_type": "code",
   "execution_count": null,
   "metadata": {},
   "outputs": [],
   "source": []
  },
  {
   "cell_type": "code",
   "execution_count": null,
   "metadata": {},
   "outputs": [],
   "source": []
  },
  {
   "cell_type": "code",
   "execution_count": null,
   "metadata": {},
   "outputs": [],
   "source": []
  },
  {
   "cell_type": "code",
   "execution_count": null,
   "metadata": {},
   "outputs": [],
   "source": []
  },
  {
   "cell_type": "code",
   "execution_count": null,
   "metadata": {},
   "outputs": [],
   "source": []
  },
  {
   "cell_type": "code",
   "execution_count": null,
   "metadata": {},
   "outputs": [],
   "source": []
  }
 ],
 "metadata": {
  "kernelspec": {
   "display_name": "Python 3",
   "language": "python",
   "name": "python3"
  },
  "language_info": {
   "codemirror_mode": {
    "name": "ipython",
    "version": 3
   },
   "file_extension": ".py",
   "mimetype": "text/x-python",
   "name": "python",
   "nbconvert_exporter": "python",
   "pygments_lexer": "ipython3",
   "version": "3.7.4"
  }
 },
 "nbformat": 4,
 "nbformat_minor": 2
}
