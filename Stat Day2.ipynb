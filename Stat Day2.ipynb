{
 "cells": [
  {
   "cell_type": "raw",
   "metadata": {},
   "source": [
    "Stat Day 2 200122(수)"
   ]
  },
  {
   "cell_type": "markdown",
   "metadata": {},
   "source": [
    "# 통계 2일차"
   ]
  },
  {
   "cell_type": "markdown",
   "metadata": {},
   "source": [
    "# 이항 분포"
   ]
  },
  {
   "cell_type": "code",
   "execution_count": 3,
   "metadata": {},
   "outputs": [],
   "source": [
    "import numpy as np\n",
    "from scipy import stats\n",
    "import scipy.stats\n",
    "import pandas as pd\n",
    "import statsmodels.api as sm\n",
    "import matplotlib.pyplot as plt\n",
    "import seaborn as sns\n",
    "from statsmodels.stats.proportion import proportions_ztest"
   ]
  },
  {
   "cell_type": "code",
   "execution_count": 5,
   "metadata": {},
   "outputs": [
    {
     "name": "stdout",
     "output_type": "stream",
     "text": [
      "P(X=0) = 0.216\n",
      "P(X=1) = 0.432\n",
      "P(X=2) = 0.288\n",
      "P(X=3) = 0.064\n"
     ]
    }
   ],
   "source": [
    "# 이항 분포 연습\n",
    "# n의 수\n",
    "n = 3\n",
    "for i in range(n+1):\n",
    "    prob = stats.binom.pmf(k=i, n=n, p=0.4)\n",
    "    print(\"P(X={0}) = {1:.3f}\".format(i, prob))"
   ]
  },
  {
   "cell_type": "code",
   "execution_count": 6,
   "metadata": {},
   "outputs": [
    {
     "name": "stdout",
     "output_type": "stream",
     "text": [
      "P(X=0) = 0.064\n",
      "P(X=1) = 0.288\n",
      "P(X=2) = 0.432\n",
      "P(X=3) = 0.216\n"
     ]
    }
   ],
   "source": [
    "# n의 수\n",
    "n = 3\n",
    "for i in range(n+1):\n",
    "    prob = stats.binom.pmf(k=i, n=n, p=0.6)\n",
    "    print(\"P(X={0}) = {1:.3f}\".format(i, prob))"
   ]
  },
  {
   "cell_type": "code",
   "execution_count": 7,
   "metadata": {},
   "outputs": [
    {
     "name": "stdout",
     "output_type": "stream",
     "text": [
      "P(X=0) = 0.168\n",
      "P(X=1) = 0.360\n",
      "P(X=2) = 0.309\n",
      "P(X=3) = 0.132\n",
      "P(X=4) = 0.028\n",
      "P(X=5) = 0.002\n"
     ]
    }
   ],
   "source": [
    "# 이항 분포 실습\n",
    "# n의 수\n",
    "n = 5\n",
    "for i in range(n+1):\n",
    "    prob = stats.binom.pmf(k=i, n=n, p=0.3)\n",
    "    print(\"P(X={0}) = {1:.3f}\".format(i, prob))"
   ]
  },
  {
   "cell_type": "markdown",
   "metadata": {},
   "source": [
    "# 포아송 분포"
   ]
  },
  {
   "cell_type": "code",
   "execution_count": 27,
   "metadata": {},
   "outputs": [
    {
     "name": "stdout",
     "output_type": "stream",
     "text": [
      "1분당 3번의 전화가 걸려올 확률: 18.0%\n",
      "1분당 최대 2회 이하의 전화가 걸려올 확률: 67.7%\n",
      "1분당 최대 2회 초과의 전화가 걸려올 확률: 32.3%\n"
     ]
    }
   ],
   "source": [
    "# 평균\n",
    "mu = 2\n",
    "# 1분당 3번의 전화가 걸려올 확률\n",
    "prob = stats.poisson.pmf(3, mu)\n",
    "# 1분당 최대 2회 이하의 전화가 걸려올 확률\n",
    "cdf_prob = stats.poisson.cdf(2, mu)\n",
    "print(\"1분당 {0}번의 전화가 걸려올 확률: {1:.1f}%\".format(3, prob * 100))\n",
    "print(\"1분당 최대 {0}회 이하의 전화가 걸려올 확률: {1:.1f}%\".format(2, cdf_prob * 100))\n",
    "print(\"1분당 최대 {0}회 초과의 전화가 걸려올 확률: {1:.1f}%\".format(2, (1-cdf_prob) * 100))"
   ]
  },
  {
   "cell_type": "code",
   "execution_count": 26,
   "metadata": {},
   "outputs": [
    {
     "name": "stdout",
     "output_type": "stream",
     "text": [
      "2명의 손님이 도착 할 확률: 22.4%\n",
      "1명 이하의 손님이 도착 할 확률: 19.9%\n",
      "3명 이상의 손님이 도착 할 확률: 57.7%\n"
     ]
    }
   ],
   "source": [
    "# 평균\n",
    "mu = 3\n",
    "# 1분당 3번의 전화가 걸려올 확률\n",
    "prob = stats.poisson.pmf(2, mu)\n",
    "# 1분당 최대 2회 이하의 전화가 걸려올 확률\n",
    "cdf_prob = stats.poisson.cdf(1, mu)\n",
    "print(\"{0}명의 손님이 도착 할 확률: {1:.1f}%\".format(2, prob * 100))\n",
    "print(\"{0}명 이하의 손님이 도착 할 확률: {1:.1f}%\".format(1, cdf_prob * 100))\n",
    "cdf_prob2 = stats.poisson.cdf(2, mu)\n",
    "print(\"{0}명 이상의 손님이 도착 할 확률: {1:.1f}%\".format(3, (1-cdf_prob2) * 100))"
   ]
  },
  {
   "cell_type": "markdown",
   "metadata": {},
   "source": [
    "# 표본 분포"
   ]
  },
  {
   "cell_type": "code",
   "execution_count": null,
   "metadata": {},
   "outputs": [],
   "source": []
  },
  {
   "cell_type": "markdown",
   "metadata": {},
   "source": [
    "# 통계적 추정과 검정"
   ]
  },
  {
   "cell_type": "markdown",
   "metadata": {},
   "source": [
    "# 정규성 검정\n"
   ]
  },
  {
   "cell_type": "code",
   "execution_count": 28,
   "metadata": {},
   "outputs": [],
   "source": [
    "# 패키지 가져오기\n",
    "from scipy.stats import shapiro\n",
    "# camshaft데이터 가져오기\n",
    "ds_camshaft = pd.read_csv(\"camshaft.csv\", engine = \"python\")"
   ]
  },
  {
   "cell_type": "code",
   "execution_count": 29,
   "metadata": {},
   "outputs": [
    {
     "data": {
      "text/html": [
       "<div>\n",
       "<style scoped>\n",
       "    .dataframe tbody tr th:only-of-type {\n",
       "        vertical-align: middle;\n",
       "    }\n",
       "\n",
       "    .dataframe tbody tr th {\n",
       "        vertical-align: top;\n",
       "    }\n",
       "\n",
       "    .dataframe thead th {\n",
       "        text-align: right;\n",
       "    }\n",
       "</style>\n",
       "<table border=\"1\" class=\"dataframe\">\n",
       "  <thead>\n",
       "    <tr style=\"text-align: right;\">\n",
       "      <th></th>\n",
       "      <th>Length</th>\n",
       "      <th>Supp1</th>\n",
       "      <th>Supp2</th>\n",
       "    </tr>\n",
       "  </thead>\n",
       "  <tbody>\n",
       "    <tr>\n",
       "      <td>0</td>\n",
       "      <td>601.4</td>\n",
       "      <td>598.0</td>\n",
       "      <td>601.6</td>\n",
       "    </tr>\n",
       "    <tr>\n",
       "      <td>1</td>\n",
       "      <td>601.6</td>\n",
       "      <td>599.8</td>\n",
       "      <td>600.4</td>\n",
       "    </tr>\n",
       "    <tr>\n",
       "      <td>2</td>\n",
       "      <td>598.0</td>\n",
       "      <td>600.0</td>\n",
       "      <td>598.4</td>\n",
       "    </tr>\n",
       "    <tr>\n",
       "      <td>3</td>\n",
       "      <td>601.4</td>\n",
       "      <td>599.8</td>\n",
       "      <td>600.0</td>\n",
       "    </tr>\n",
       "    <tr>\n",
       "      <td>4</td>\n",
       "      <td>599.4</td>\n",
       "      <td>600.0</td>\n",
       "      <td>596.8</td>\n",
       "    </tr>\n",
       "  </tbody>\n",
       "</table>\n",
       "</div>"
      ],
      "text/plain": [
       "   Length  Supp1  Supp2\n",
       "0   601.4  598.0  601.6\n",
       "1   601.6  599.8  600.4\n",
       "2   598.0  600.0  598.4\n",
       "3   601.4  599.8  600.0\n",
       "4   599.4  600.0  596.8"
      ]
     },
     "execution_count": 29,
     "metadata": {},
     "output_type": "execute_result"
    }
   ],
   "source": [
    "ds_camshaft.head()"
   ]
  },
  {
   "cell_type": "code",
   "execution_count": 31,
   "metadata": {},
   "outputs": [
    {
     "data": {
      "text/plain": [
       "0     598.0\n",
       "1     599.8\n",
       "2     600.0\n",
       "3     599.8\n",
       "4     600.0\n",
       "      ...  \n",
       "95    599.6\n",
       "96    599.8\n",
       "97    599.0\n",
       "98    599.6\n",
       "99    599.4\n",
       "Name: Supp1, Length: 100, dtype: float64"
      ]
     },
     "execution_count": 31,
     "metadata": {},
     "output_type": "execute_result"
    }
   ],
   "source": [
    "data1 = ds_camshaft['Supp1']\n",
    "data1"
   ]
  },
  {
   "cell_type": "code",
   "execution_count": 32,
   "metadata": {},
   "outputs": [
    {
     "data": {
      "text/plain": [
       "(0.9788156747817993, 0.10744144767522812)"
      ]
     },
     "execution_count": 32,
     "metadata": {},
     "output_type": "execute_result"
    }
   ],
   "source": [
    "# 정규성 검정\n",
    "shapiro(data1)"
   ]
  },
  {
   "cell_type": "markdown",
   "metadata": {},
   "source": [
    "샤프로-윌크 검정(Shapiro-Wilk test):\n",
    " - Shapiro-Wilk 검정통계량: 0.979\n",
    " - p-value :0.11 (정규성 있음)\n",
    "   * 정규성 검정결과(95% 신뢰수준 사용시) p-value가 0.05보다 크면 정규, 0.05보다 작으면 비정규로 판단"
   ]
  },
  {
   "cell_type": "code",
   "execution_count": 33,
   "metadata": {},
   "outputs": [],
   "source": [
    "# 정규성 검정, 실습\n",
    "sample = pd.read_csv(\"2sample_t_test.csv\", engine = \"python\")"
   ]
  },
  {
   "cell_type": "code",
   "execution_count": 39,
   "metadata": {},
   "outputs": [
    {
     "name": "stdout",
     "output_type": "stream",
     "text": [
      "    Mat_A  Mat_B  Total  Sub\n",
      "0    73.4   68.7   73.4    1\n",
      "1    77.0   71.4   77.0    1\n",
      "2    73.7   69.8   73.7    1\n",
      "3    73.3   75.3   73.3    1\n",
      "4    73.1   71.3   73.1    1\n",
      "5    71.5   72.7   71.5    1\n",
      "6    74.5   66.9   74.5    1\n",
      "7    77.5   70.2   77.5    1\n",
      "8    76.4   74.4   76.4    1\n",
      "9    77.7   70.1   77.7    1\n",
      "10    NaN    NaN   68.7    2\n",
      "11    NaN    NaN   71.4    2\n",
      "12    NaN    NaN   69.8    2\n",
      "13    NaN    NaN   75.3    2\n",
      "14    NaN    NaN   71.3    2\n",
      "15    NaN    NaN   72.7    2\n",
      "16    NaN    NaN   66.9    2\n",
      "17    NaN    NaN   70.2    2\n",
      "18    NaN    NaN   74.4    2\n",
      "19    NaN    NaN   70.1    2\n"
     ]
    }
   ],
   "source": [
    "sample.head()\n",
    "print(sample)"
   ]
  },
  {
   "cell_type": "code",
   "execution_count": 42,
   "metadata": {},
   "outputs": [],
   "source": [
    "mat_A = sample['Mat_A'].dropna(axis=0)\n",
    "mat_B = sample['Mat_B'].dropna(axis=0)"
   ]
  },
  {
   "cell_type": "code",
   "execution_count": 46,
   "metadata": {},
   "outputs": [
    {
     "name": "stdout",
     "output_type": "stream",
     "text": [
      "0    73.4\n",
      "1    77.0\n",
      "2    73.7\n",
      "3    73.3\n",
      "4    73.1\n",
      "5    71.5\n",
      "6    74.5\n",
      "7    77.5\n",
      "8    76.4\n",
      "9    77.7\n",
      "Name: Mat_A, dtype: float64\n",
      "0    68.7\n",
      "1    71.4\n",
      "2    69.8\n",
      "3    75.3\n",
      "4    71.3\n",
      "5    72.7\n",
      "6    66.9\n",
      "7    70.2\n",
      "8    74.4\n",
      "9    70.1\n",
      "Name: Mat_B, dtype: float64\n"
     ]
    }
   ],
   "source": [
    "print(mat_A)\n",
    "print(mat_B)"
   ]
  },
  {
   "cell_type": "code",
   "execution_count": 44,
   "metadata": {},
   "outputs": [
    {
     "data": {
      "text/plain": [
       "(0.9062636494636536, 0.2562994360923767)"
      ]
     },
     "execution_count": 44,
     "metadata": {},
     "output_type": "execute_result"
    }
   ],
   "source": [
    "shapiro(mat_A)"
   ]
  },
  {
   "cell_type": "markdown",
   "metadata": {},
   "source": [
    "샤프로-윌크 검정(Shapiro-Wilk test):\n",
    " - Shapiro-Wilk 검정통계량: 0.906\n",
    " - p-value :0.26 (정규성 있음)\n",
    "   * 정규성 검정결과(95% 신뢰수준 사용시) p-value가 0.05보다 크면 정규, 0.05보다 작으면 비정규로 판단"
   ]
  },
  {
   "cell_type": "code",
   "execution_count": 45,
   "metadata": {},
   "outputs": [
    {
     "data": {
      "text/plain": [
       "(0.9729753732681274, 0.9169777035713196)"
      ]
     },
     "execution_count": 45,
     "metadata": {},
     "output_type": "execute_result"
    }
   ],
   "source": [
    "shapiro(mat_B)"
   ]
  },
  {
   "cell_type": "markdown",
   "metadata": {},
   "source": [
    "샤프로-윌크 검정(Shapiro-Wilk test):\n",
    " - Shapiro-Wilk 검정통계량: 0.973\n",
    " - p-value :0.92 (정규성 있음)\n",
    "   * 정규성 검정결과(95% 신뢰수준 사용시) p-value가 0.05보다 크면 정규, 0.05보다 작으면 비정규로 판단"
   ]
  },
  {
   "cell_type": "markdown",
   "metadata": {},
   "source": [
    "# 모평균 추정"
   ]
  },
  {
   "cell_type": "code",
   "execution_count": 52,
   "metadata": {},
   "outputs": [
    {
     "data": {
      "text/html": [
       "<div>\n",
       "<style scoped>\n",
       "    .dataframe tbody tr th:only-of-type {\n",
       "        vertical-align: middle;\n",
       "    }\n",
       "\n",
       "    .dataframe tbody tr th {\n",
       "        vertical-align: top;\n",
       "    }\n",
       "\n",
       "    .dataframe thead th {\n",
       "        text-align: right;\n",
       "    }\n",
       "</style>\n",
       "<table border=\"1\" class=\"dataframe\">\n",
       "  <thead>\n",
       "    <tr style=\"text-align: right;\">\n",
       "      <th></th>\n",
       "      <th>sample</th>\n",
       "    </tr>\n",
       "  </thead>\n",
       "  <tbody>\n",
       "    <tr>\n",
       "      <td>0</td>\n",
       "      <td>3.6</td>\n",
       "    </tr>\n",
       "    <tr>\n",
       "      <td>1</td>\n",
       "      <td>2.9</td>\n",
       "    </tr>\n",
       "    <tr>\n",
       "      <td>2</td>\n",
       "      <td>2.8</td>\n",
       "    </tr>\n",
       "    <tr>\n",
       "      <td>3</td>\n",
       "      <td>2.6</td>\n",
       "    </tr>\n",
       "    <tr>\n",
       "      <td>4</td>\n",
       "      <td>3.4</td>\n",
       "    </tr>\n",
       "  </tbody>\n",
       "</table>\n",
       "</div>"
      ],
      "text/plain": [
       "   sample\n",
       "0     3.6\n",
       "1     2.9\n",
       "2     2.8\n",
       "3     2.6\n",
       "4     3.4"
      ]
     },
     "execution_count": 52,
     "metadata": {},
     "output_type": "execute_result"
    }
   ],
   "source": [
    "# 연습 모평균 추정\n",
    "\n",
    "# df를 직접 입력\n",
    "df = pd.DataFrame({\"sample\" : [3.6, 2.9, 2.8, 2.6, 3.4, 3.2, 2.2, 2.6, 2.6, 2.4,\n",
    "                               2.4, 2.6, 3.4, 2.4, 2.1, 2.6, 3.0, 2.4, 2.7, 2.4,\n",
    "                               2.6, 2.9, 2.9, 2.0, 2.7, 2.2, 2.8, 2.7, 1.8, 2.5,\n",
    "                               3.0, 3.2, 2.8, 2.6, 3.2, 3.1, 2.9, 2.7, 2.7, 2.2]})\n",
    "\n",
    "df.head()"
   ]
  },
  {
   "cell_type": "code",
   "execution_count": 63,
   "metadata": {},
   "outputs": [
    {
     "name": "stdout",
     "output_type": "stream",
     "text": [
      "sample    2.695\n",
      "dtype: float64\n",
      "sample    0.388555\n",
      "dtype: float64\n"
     ]
    }
   ],
   "source": [
    "# df.variance()\n",
    "a =np.mean(df) # 평균\n",
    "b =np.std(df) # 분산\n",
    "print(a)\n",
    "print(b)"
   ]
  },
  {
   "cell_type": "code",
   "execution_count": 60,
   "metadata": {},
   "outputs": [
    {
     "name": "stdout",
     "output_type": "stream",
     "text": [
      "sample    0.378841\n",
      "dtype: float64\n"
     ]
    }
   ],
   "source": [
    "print(a * 39/40)"
   ]
  },
  {
   "cell_type": "code",
   "execution_count": 54,
   "metadata": {},
   "outputs": [
    {
     "name": "stdout",
     "output_type": "stream",
     "text": [
      "신뢰구간: [2.57],[2.82]\n"
     ]
    }
   ],
   "source": [
    "# 정규분포 구간 추정 함수 실행\n",
    "lower, upper = stats.norm.interval(0.95, loc = np.mean(df), scale = 0.397/np.sqrt(40))\n",
    "print(\"신뢰구간: {0},{1}\".format(lower.round(2), upper.round(2)))"
   ]
  },
  {
   "cell_type": "code",
   "execution_count": 68,
   "metadata": {},
   "outputs": [
    {
     "name": "stdout",
     "output_type": "stream",
     "text": [
      "신뢰구간: [17.83],[21.17]\n"
     ]
    }
   ],
   "source": [
    "# 숙제 / 코딩 + 숙제\n",
    "# 실습 모평균 구간 추정\n",
    "\n",
    "df_prac = pd.DataFrame({\"sample_prac\": [18, 18, 20, 21, 20, 23, 19, 18, 17, 21,\n",
    "                                         22, 20, 20, 21, 20, 19, 19, 18, 17, 19]})\n",
    "\n",
    "lower_prac, upper_prac = stats.norm.interval(0.95, loc = np.mean(df_prac), scale = 3.8/np.sqrt(20))\n",
    "print(\"신뢰구간: {0},{1}\".format(lower_prac.round(2), upper_prac.round(2)))"
   ]
  },
  {
   "cell_type": "markdown",
   "metadata": {},
   "source": [
    "$$x = {x bar -b \\pm \\sqrt{b^2-4ac} \\over 2a}$$"
   ]
  },
  {
   "cell_type": "markdown",
   "metadata": {},
   "source": [
    "$ \\bar{X} \\pm $  $ \\sigma\\over\\sqrt{n} $"
   ]
  },
  {
   "cell_type": "code",
   "execution_count": 118,
   "metadata": {},
   "outputs": [
    {
     "name": "stdout",
     "output_type": "stream",
     "text": [
      "신뢰구간: [54.39],[55.33]\n"
     ]
    }
   ],
   "source": [
    "# 연습 모평균 추정 (모표준편차 모르는 경우)\n",
    "# df 를 직접 입력\n",
    "df = pd.DataFrame({\"sample\": [54.1, 53.3, 56.1, 55.7, 54.0, 54.1, 54.5, 57.1, 55.2, 53.8,\n",
    "                              54.1, 54.1, 56.1, 55.0, 55.9, 56.0, 54.9, 54.3, 53.9, 55.0]})\n",
    "\n",
    "# 정규분포 구간 추정 함수 실행\n",
    "lower, upper = stats.t.interval(0.95, len(df)-1, loc = np.mean(df), scale = scipy.stats.sem(df))\n",
    "print(\"신뢰구간: {0},{1}\".format(lower.round(2), upper.round(2)))"
   ]
  },
  {
   "cell_type": "code",
   "execution_count": 111,
   "metadata": {},
   "outputs": [
    {
     "name": "stdout",
     "output_type": "stream",
     "text": [
      "신뢰구간: [70.6],[72.4]\n"
     ]
    }
   ],
   "source": [
    "# 연습 모평균 추정 (모표준편차 모르는 경우)\n",
    "# df 를 직접 입력\n",
    "df_pr = pd.DataFrame({\"sample\": [73, 71, 74, 69, 70, 73, 70, 68, 75, 72, \n",
    "                                 70, 72, 73, 70, 70, 72, 71, 70, 75, 72]})\n",
    "\n",
    "# 정규분포 구간 추정 함수 실행\n",
    "lower_pr, upper_pr = stats.t.interval(0.95, len(df_pr)-1, loc = np.mean(df_pr), scale = scipy.stats.sem(df_pr))\n",
    "## scale = scipy.stats.sem(df_pr)은 s/sqrt(n)을 뜻함 \n",
    "# the standard error of the mean \n",
    "print(\"신뢰구간: {0},{1}\".format(lower_pr.round(2), upper_pr.round(2)))"
   ]
  },
  {
   "cell_type": "code",
   "execution_count": 112,
   "metadata": {},
   "outputs": [
    {
     "data": {
      "text/plain": [
       "sample    71.5\n",
       "dtype: float64"
      ]
     },
     "execution_count": 112,
     "metadata": {},
     "output_type": "execute_result"
    }
   ],
   "source": [
    "np.mean(df_pr)"
   ]
  },
  {
   "cell_type": "code",
   "execution_count": 116,
   "metadata": {},
   "outputs": [
    {
     "data": {
      "text/plain": [
       "array([0.43225236])"
      ]
     },
     "execution_count": 116,
     "metadata": {},
     "output_type": "execute_result"
    }
   ],
   "source": [
    "scipy.stats.sem(df_pr)"
   ]
  },
  {
   "cell_type": "code",
   "execution_count": 115,
   "metadata": {},
   "outputs": [
    {
     "data": {
      "text/plain": [
       "array([0.43225236])"
      ]
     },
     "execution_count": 115,
     "metadata": {},
     "output_type": "execute_result"
    }
   ],
   "source": [
    "scipy.stats.sem(df_pr, ddof = 1)"
   ]
  },
  {
   "cell_type": "code",
   "execution_count": null,
   "metadata": {},
   "outputs": [],
   "source": []
  },
  {
   "cell_type": "code",
   "execution_count": null,
   "metadata": {},
   "outputs": [],
   "source": []
  },
  {
   "cell_type": "code",
   "execution_count": 75,
   "metadata": {},
   "outputs": [
    {
     "data": {
      "text/plain": [
       "sample    71.5\n",
       "dtype: float64"
      ]
     },
     "execution_count": 75,
     "metadata": {},
     "output_type": "execute_result"
    }
   ],
   "source": [
    "np.mean(df_pr)"
   ]
  },
  {
   "cell_type": "code",
   "execution_count": 77,
   "metadata": {},
   "outputs": [
    {
     "data": {
      "text/plain": [
       "array([0.18684211])"
      ]
     },
     "execution_count": 77,
     "metadata": {},
     "output_type": "execute_result"
    }
   ],
   "source": [
    "scipy.stats.sem(df_pr)**2"
   ]
  },
  {
   "cell_type": "code",
   "execution_count": 80,
   "metadata": {},
   "outputs": [
    {
     "data": {
      "text/plain": [
       "1.3903237033151667"
      ]
     },
     "execution_count": 80,
     "metadata": {},
     "output_type": "execute_result"
    }
   ],
   "source": [
    "np.sqrt(1.933)"
   ]
  },
  {
   "cell_type": "code",
   "execution_count": 83,
   "metadata": {},
   "outputs": [
    {
     "data": {
      "text/plain": [
       "3.325112843066815"
      ]
     },
     "execution_count": 83,
     "metadata": {},
     "output_type": "execute_result"
    }
   ],
   "source": [
    "prop = stats.chi2.ppf(0.05, 9)\n",
    "prop"
   ]
  },
  {
   "cell_type": "code",
   "execution_count": 84,
   "metadata": {},
   "outputs": [
    {
     "data": {
      "text/plain": [
       "31.554916462667126"
      ]
     },
     "execution_count": 84,
     "metadata": {},
     "output_type": "execute_result"
    }
   ],
   "source": [
    "prop = stats.chi2.ppf(0.025, 49)\n",
    "prop"
   ]
  },
  {
   "cell_type": "code",
   "execution_count": 85,
   "metadata": {},
   "outputs": [
    {
     "data": {
      "text/plain": [
       "70.22241356643451"
      ]
     },
     "execution_count": 85,
     "metadata": {},
     "output_type": "execute_result"
    }
   ],
   "source": [
    "prop = stats.chi2.ppf(0.975, 49)\n",
    "prop"
   ]
  },
  {
   "cell_type": "code",
   "execution_count": 89,
   "metadata": {},
   "outputs": [],
   "source": [
    "df_call = pd.DataFrame({\"sample\": [12, 9, 10, 5, 16, \n",
    "                                 13, 5, 9, 8, 13, \n",
    "                                 16, 12, 12, 4, 14,\n",
    "                                 9, 11, 14, 9, 17,\n",
    "                                 5, 8, 9, 6, 11, \n",
    "                                 19, 6, 6, 8, 9,\n",
    "                                 13, 10, 8, 13, 19,\n",
    "                                 8, 12, 14, 16, 16,\n",
    "                                 11, 17, 5, 9, 12,\n",
    "                                 17, 11, 8, 5, 8]})\n"
   ]
  },
  {
   "cell_type": "code",
   "execution_count": 87,
   "metadata": {},
   "outputs": [
    {
     "data": {
      "text/plain": [
       "sample    3.943653\n",
       "dtype: float64"
      ]
     },
     "execution_count": 87,
     "metadata": {},
     "output_type": "execute_result"
    }
   ],
   "source": [
    "np.std(df_call)"
   ]
  },
  {
   "cell_type": "code",
   "execution_count": 94,
   "metadata": {},
   "outputs": [
    {
     "name": "stdout",
     "output_type": "stream",
     "text": [
      "신뢰구간: 11.07, 24.64\n"
     ]
    }
   ],
   "source": [
    "alpha = 0.05\n",
    "n = len(df_call)\n",
    "s = np.var(df_call['sample'], ddof = 1)\n",
    "df = n -1\n",
    "\n",
    "upper = (n-1) * s / stats.chi2.ppf(alpha/2, df)\n",
    "lower = (n-1) * s / stats.chi2.ppf(1 - alpha/2, df)\n",
    "print(\"신뢰구간: {0}, {1}\".format(lower.round(2), upper.round(2)))"
   ]
  },
  {
   "cell_type": "code",
   "execution_count": 96,
   "metadata": {},
   "outputs": [
    {
     "data": {
      "text/plain": [
       "-1.6448536269514729"
      ]
     },
     "execution_count": 96,
     "metadata": {},
     "output_type": "execute_result"
    }
   ],
   "source": [
    "# 연습 모비율 신뢰구간 추정\n",
    "pro = stats.norm.ppf(0.05, 0, 1)\n",
    "pro"
   ]
  },
  {
   "cell_type": "code",
   "execution_count": 104,
   "metadata": {},
   "outputs": [
    {
     "name": "stdout",
     "output_type": "stream",
     "text": [
      "0.06 1600 -1.6448536269514729\n"
     ]
    }
   ],
   "source": [
    "p = 96 /1600\n",
    "n = 1600\n",
    "z = stats.norm.ppf(0.95, 0, 1)\n",
    "print(p, n, pro)"
   ]
  },
  {
   "cell_type": "code",
   "execution_count": 106,
   "metadata": {},
   "outputs": [],
   "source": [
    "lower = p - z * np.sqrt(p*(1-p)/n)\n",
    "upper = p + z * np.sqrt(p*(1-p)/n)"
   ]
  },
  {
   "cell_type": "code",
   "execution_count": 109,
   "metadata": {},
   "outputs": [
    {
     "name": "stdout",
     "output_type": "stream",
     "text": [
      "신뢰구간: (0.05, 0.07)\n"
     ]
    }
   ],
   "source": [
    "print(\"신뢰구간: ({0}, {1})\".format(lower.round(3), upper.round(3)))"
   ]
  },
  {
   "cell_type": "code",
   "execution_count": 110,
   "metadata": {},
   "outputs": [
    {
     "name": "stdout",
     "output_type": "stream",
     "text": [
      "0.050234222675236584\n"
     ]
    }
   ],
   "source": [
    "print(lower)"
   ]
  },
  {
   "cell_type": "code",
   "execution_count": 125,
   "metadata": {},
   "outputs": [
    {
     "name": "stdout",
     "output_type": "stream",
     "text": [
      "0.18 50 -1.6448536269514729\n",
      "신뢰구간: (0.074, 0.286)\n"
     ]
    }
   ],
   "source": [
    "# 실습 모비율 신뢰구간 추정\n",
    "p = 9 /50\n",
    "n = 50\n",
    "z = stats.norm.ppf(0.975, 0, 1)\n",
    "print(p, n, pro)\n",
    "\n",
    "lower = p - z * np.sqrt(p*(1-p)/n)\n",
    "upper = p + z * np.sqrt(p*(1-p)/n)\n",
    "print(\"신뢰구간: ({0}, {1})\".format(lower.round(3), upper.round(3)))"
   ]
  },
  {
   "cell_type": "code",
   "execution_count": 128,
   "metadata": {},
   "outputs": [
    {
     "data": {
      "text/plain": [
       "-2.262157162740992"
      ]
     },
     "execution_count": 128,
     "metadata": {},
     "output_type": "execute_result"
    }
   ],
   "source": [
    "pro = stats.t.ppf(0.025, 9)\n",
    "pro"
   ]
  },
  {
   "cell_type": "code",
   "execution_count": 138,
   "metadata": {},
   "outputs": [
    {
     "name": "stdout",
     "output_type": "stream",
     "text": [
      "(0.5709007978439331, 2.493129431968555e-05)\n"
     ]
    }
   ],
   "source": [
    "# 연습 평균 검정(모집단 표준편차를 모르는 경우)\n",
    "\n",
    "# df를 직접 입력\n",
    "df = pd.DataFrame({'sample': [74.5, 81.2, 73.8, 28.0, 76.3, 75.7, 80.2, 72.6, 77.9, 82.8]})\n",
    "\n",
    "# 정규성 검정\n",
    "shapiro(df)\n",
    "print(shapiro(df))"
   ]
  },
  {
   "cell_type": "code",
   "execution_count": 132,
   "metadata": {},
   "outputs": [
    {
     "name": "stdout",
     "output_type": "stream",
     "text": [
      "Ttest_1sampResult(statistic=array([-0.87410318]), pvalue=array([0.4047826]))\n"
     ]
    }
   ],
   "source": [
    "# 1-Sample t-test\n",
    "t_result = stats.ttest_1samp(df, 76.7)\n",
    "print(t_result)"
   ]
  },
  {
   "cell_type": "code",
   "execution_count": 136,
   "metadata": {},
   "outputs": [
    {
     "name": "stdout",
     "output_type": "stream",
     "text": [
      "[-0.874] [0.405]\n"
     ]
    }
   ],
   "source": [
    "# 1-Sample t-test의 t값 p값 저장\n",
    "t, p = t_result.statistic.round(3), t_result.pvalue.round(3)\n",
    "print(t, p)"
   ]
  },
  {
   "cell_type": "code",
   "execution_count": 137,
   "metadata": {},
   "outputs": [
    {
     "name": "stdout",
     "output_type": "stream",
     "text": [
      "1-Sample t-test\n",
      "t 통계량 : [-0.874]\n",
      "p-value : [0.405]\n"
     ]
    }
   ],
   "source": [
    "# 1-Sample t-test의 t값 p값 출력\n",
    "print(\"1-Sample t-test\")\n",
    "print(\"t 통계량 : {}\".format(t))\n",
    "print(\"p-value : {}\".format(p))"
   ]
  },
  {
   "cell_type": "raw",
   "metadata": {},
   "source": [
    "결론: 유의수준 5%에서 검정 결과 P값이 0.41이므로 개선활동이 고객만족도 변화를 시켰다고 할 수 없다."
   ]
  },
  {
   "cell_type": "code",
   "execution_count": 139,
   "metadata": {},
   "outputs": [
    {
     "name": "stdout",
     "output_type": "stream",
     "text": [
      "(0.4223213195800781, 4.5214676447358215e-07)\n"
     ]
    }
   ],
   "source": [
    "# 평균 검정(모집단 표준편차를 모르는 경우)\n",
    "\n",
    "# df를 직접 입력\n",
    "df_call = pd.DataFrame({'call': [85.0, 79.0, 79.1, 79.9, 21.6, 78.6, 85.4, 834, 78.1, 79.2]})\n",
    "\n",
    "# 정규성 검정\n",
    "shapiro(df_call)\n",
    "print(shapiro(df_call))"
   ]
  },
  {
   "cell_type": "code",
   "execution_count": 140,
   "metadata": {},
   "outputs": [
    {
     "name": "stdout",
     "output_type": "stream",
     "text": [
      "Ttest_1sampResult(statistic=array([0.94436839]), pvalue=array([0.36964162]))\n"
     ]
    }
   ],
   "source": [
    "# 1-Sample t-test\n",
    "t_result = stats.ttest_1samp(df_call, 78.0)\n",
    "print(t_result)"
   ]
  },
  {
   "cell_type": "code",
   "execution_count": 141,
   "metadata": {},
   "outputs": [
    {
     "name": "stdout",
     "output_type": "stream",
     "text": [
      "[0.944] [0.37]\n"
     ]
    }
   ],
   "source": [
    "# 1-Sample t-test의 t값 p값 저장\n",
    "t, p = t_result.statistic.round(3), t_result.pvalue.round(3)\n",
    "print(t, p)"
   ]
  },
  {
   "cell_type": "code",
   "execution_count": 142,
   "metadata": {},
   "outputs": [
    {
     "name": "stdout",
     "output_type": "stream",
     "text": [
      "1-Sample t-test\n",
      "t 통계량 : [0.944]\n",
      "p-value : [0.37]\n"
     ]
    }
   ],
   "source": [
    "# 1-Sample t-test의 t값 p값 출력\n",
    "print(\"1-Sample t-test\")\n",
    "print(\"t 통계량 : {}\".format(t))\n",
    "print(\"p-value : {}\".format(p))"
   ]
  },
  {
   "cell_type": "code",
   "execution_count": null,
   "metadata": {},
   "outputs": [],
   "source": []
  },
  {
   "cell_type": "code",
   "execution_count": null,
   "metadata": {},
   "outputs": [],
   "source": []
  }
 ],
 "metadata": {
  "kernelspec": {
   "display_name": "Python 3",
   "language": "python",
   "name": "python3"
  },
  "language_info": {
   "codemirror_mode": {
    "name": "ipython",
    "version": 3
   },
   "file_extension": ".py",
   "mimetype": "text/x-python",
   "name": "python",
   "nbconvert_exporter": "python",
   "pygments_lexer": "ipython3",
   "version": "3.7.4"
  }
 },
 "nbformat": 4,
 "nbformat_minor": 2
}
