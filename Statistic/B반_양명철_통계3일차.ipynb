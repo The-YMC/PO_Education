{
 "cells": [
  {
   "cell_type": "raw",
   "metadata": {},
   "source": [
    "2020년 1월 23일 (목)  이름: (    양 명 철     )    이메일: (   jk00085@naver.com      )"
   ]
  },
  {
   "cell_type": "code",
   "execution_count": 1,
   "metadata": {},
   "outputs": [],
   "source": [
    "import numpy as np\n",
    "from scipy import stats\n",
    "import scipy.stats\n",
    "import pandas as pd\n",
    "import statsmodels.api as sm\n",
    "import matplotlib.pyplot as plt\n",
    "import seaborn as sns\n",
    "from statsmodels.stats.proportion import proportions_ztest\n",
    "from scipy.stats import shapiro"
   ]
  },
  {
   "cell_type": "markdown",
   "metadata": {},
   "source": [
    "# 과제1"
   ]
  },
  {
   "cell_type": "raw",
   "metadata": {},
   "source": [
    "철강의 청정도를 높이기 위해 제강공정에서 2차 정련을 실시하는데,\n",
    "강종별 2차정련 시간에 차이가 있는지 검정하세요 (유의수준 0.05)\n",
    "(data set: ANOVA.csv)"
   ]
  },
  {
   "cell_type": "code",
   "execution_count": 2,
   "metadata": {},
   "outputs": [],
   "source": [
    "# 실습\n",
    "df_ano = pd.read_csv(\"ANOVA.csv\", engine = \"python\")"
   ]
  },
  {
   "cell_type": "code",
   "execution_count": 3,
   "metadata": {},
   "outputs": [
    {
     "data": {
      "text/html": [
       "<div>\n",
       "<style scoped>\n",
       "    .dataframe tbody tr th:only-of-type {\n",
       "        vertical-align: middle;\n",
       "    }\n",
       "\n",
       "    .dataframe tbody tr th {\n",
       "        vertical-align: top;\n",
       "    }\n",
       "\n",
       "    .dataframe thead th {\n",
       "        text-align: right;\n",
       "    }\n",
       "</style>\n",
       "<table border=\"1\" class=\"dataframe\">\n",
       "  <thead>\n",
       "    <tr style=\"text-align: right;\">\n",
       "      <th></th>\n",
       "      <th>time</th>\n",
       "      <th>charge</th>\n",
       "      <th>gangjong</th>\n",
       "      <th>type</th>\n",
       "    </tr>\n",
       "  </thead>\n",
       "  <tbody>\n",
       "    <tr>\n",
       "      <td>0</td>\n",
       "      <td>32.2</td>\n",
       "      <td>A</td>\n",
       "      <td>a</td>\n",
       "      <td>a</td>\n",
       "    </tr>\n",
       "    <tr>\n",
       "      <td>1</td>\n",
       "      <td>30.4</td>\n",
       "      <td>B</td>\n",
       "      <td>a</td>\n",
       "      <td>a</td>\n",
       "    </tr>\n",
       "    <tr>\n",
       "      <td>2</td>\n",
       "      <td>33.6</td>\n",
       "      <td>C</td>\n",
       "      <td>a</td>\n",
       "      <td>a</td>\n",
       "    </tr>\n",
       "    <tr>\n",
       "      <td>3</td>\n",
       "      <td>36.4</td>\n",
       "      <td>D</td>\n",
       "      <td>a</td>\n",
       "      <td>a</td>\n",
       "    </tr>\n",
       "    <tr>\n",
       "      <td>4</td>\n",
       "      <td>33.9</td>\n",
       "      <td>E</td>\n",
       "      <td>a</td>\n",
       "      <td>a</td>\n",
       "    </tr>\n",
       "  </tbody>\n",
       "</table>\n",
       "</div>"
      ],
      "text/plain": [
       "   time charge gangjong type\n",
       "0  32.2      A        a    a\n",
       "1  30.4      B        a    a\n",
       "2  33.6      C        a    a\n",
       "3  36.4      D        a    a\n",
       "4  33.9      E        a    a"
      ]
     },
     "execution_count": 3,
     "metadata": {},
     "output_type": "execute_result"
    }
   ],
   "source": [
    "df_ano.head()"
   ]
  },
  {
   "cell_type": "code",
   "execution_count": 4,
   "metadata": {},
   "outputs": [],
   "source": [
    "df_time = df_ano[['gangjong', 'time']]"
   ]
  },
  {
   "cell_type": "code",
   "execution_count": 5,
   "metadata": {},
   "outputs": [],
   "source": [
    "df_a = df_time[df_time['gangjong'] == 'a']['time']\n",
    "df_b = df_time[df_time['gangjong'] == 'b']['time']\n",
    "df_c = df_time[df_time['gangjong'] == 'c']['time']\n",
    "df_d = df_time[df_time['gangjong'] == 'd']['time']"
   ]
  },
  {
   "cell_type": "code",
   "execution_count": 6,
   "metadata": {},
   "outputs": [
    {
     "name": "stdout",
     "output_type": "stream",
     "text": [
      "One-way \n",
      " F 통계량: 4.172\n",
      " p-value: 0.019\n"
     ]
    }
   ],
   "source": [
    "# ANOVA 실행\n",
    "f_result = stats.f_oneway(df_a, df_b, df_c, df_d)\n",
    "\n",
    "# ANOVA의 F값 p값 저장\n",
    "f, p = f_result.statistic.round(3), f_result.pvalue.round(3)\n",
    "\n",
    "# ANOVA의 f값 p값 출력\n",
    "print(\"One-way \")\n",
    "print(\" F 통계량: {}\".format(f))\n",
    "print(\" p-value: {}\".format(p))"
   ]
  },
  {
   "cell_type": "raw",
   "metadata": {},
   "source": [
    "# ANVOA 검정\n",
    "1. 가설 수립\n",
    "귀무가설: 강종별 2차정련 시간에 차이가 없다.\n",
    "대립가설: 강종별 2차정련 시간에 차이가 있다.\n",
    "\n",
    "2. 유의수준: 알파 = 0.05\n",
    "3. F 검정통계량 = 4.172\n",
    "\n",
    "4. p-value가 0.019이므로, 유의 수준 0.05보다 작다.\n",
    "유의수준 5%에서 귀무가설 기각을 할 수 있다.\n",
    "즉, 종별 2차정련 시간에 차이가 없다고 할 수 없다"
   ]
  },
  {
   "cell_type": "markdown",
   "metadata": {},
   "source": [
    "# 과제 2"
   ]
  },
  {
   "cell_type": "raw",
   "metadata": {},
   "source": [
    "초코칩의 강도와 재료 반죽온도간에 관계를 분석하기 위한 상관분석을 하세요."
   ]
  },
  {
   "cell_type": "code",
   "execution_count": 7,
   "metadata": {},
   "outputs": [
    {
     "name": "stdout",
     "output_type": "stream",
     "text": [
      "Correlation Analysis \n",
      " corr: -0.723\n",
      " p-value: 0.000\n"
     ]
    }
   ],
   "source": [
    "# 실습 상관분석\n",
    "# df 생성\n",
    "df = pd.DataFrame({'Strength': [37.6, 38.6, 37.2, 36.4, 38.6, 39, 37.2, 36.1, 35.9, 37.1, 36.9, 37.5, 36.3, 38.1, 39, 36.9, 36.8, 37.6, 33, 33.5], \n",
    "                   'Temperature': [14, 15, 14, 16, 17, 14, 17, 16, 15, 16, 14 ,16, 18, 13, 15, 17, 14, 16, 20, 21]})\n",
    "\n",
    "# Correlation Analysis 실행\n",
    "corr, pval = stats.pearsonr(df['Strength'], df['Temperature'])\n",
    "\n",
    "# Correlation, p-value 결과 출력\n",
    "print(\"Correlation Analysis \")\n",
    "print(' corr: {0:0.3f}'.format(corr))\n",
    "print(' p-value: {0:0.3f}'.format(pval))"
   ]
  },
  {
   "cell_type": "raw",
   "metadata": {},
   "source": [
    "# Correlation Analysis 검정\n",
    "1. 가설 수립\n",
    "귀무가설: 초코칩의 강도와 재료 반죽온도간의 상관 관계는 0이다. (상관 관계가 없다.)\n",
    "대립가설: 초코칩의 강도와 재료 반죽온도간의 상관 관계는 0이 아니다. (상관 관계가 있다.)\n",
    "\n",
    "2. 유의수준: 알파 = 0.05\n",
    "3. 상관 계수 (corr) = -0.723\n",
    "\n",
    "4. p-value가 0.000이므로, 유의 수준 0.05보다 작다.\n",
    "유의수준 5%에서 귀무가설 기각을 할 수 있다.\n",
    "즉, 초코칩의 강도와 재료 반죽온도간의 상관 관계는 0이 아니다. (상관 관계가 있다.)\n",
    "상관 계수는 -0.723으로 음의 상관 관계가 있다."
   ]
  },
  {
   "cell_type": "markdown",
   "metadata": {},
   "source": [
    "# 과제3"
   ]
  },
  {
   "cell_type": "code",
   "execution_count": 8,
   "metadata": {},
   "outputs": [
    {
     "name": "stdout",
     "output_type": "stream",
     "text": [
      "                            OLS Regression Results                            \n",
      "==============================================================================\n",
      "Dep. Variable:                      y   R-squared:                       0.646\n",
      "Model:                            OLS   Adj. R-squared:                  0.627\n",
      "Method:                 Least Squares   F-statistic:                     32.90\n",
      "Date:                Tue, 28 Jan 2020   Prob (F-statistic):           1.95e-05\n",
      "Time:                        09:30:44   Log-Likelihood:                 46.530\n",
      "No. Observations:                  20   AIC:                            -89.06\n",
      "Df Residuals:                      18   BIC:                            -87.07\n",
      "Df Model:                           1                                         \n",
      "Covariance Type:            nonrobust                                         \n",
      "==============================================================================\n",
      "                 coef    std err          t      P>|t|      [0.025      0.975]\n",
      "------------------------------------------------------------------------------\n",
      "const          0.0023      0.135      0.017      0.987      -0.281       0.286\n",
      "x1             0.0209      0.004      5.736      0.000       0.013       0.029\n",
      "==============================================================================\n",
      "Omnibus:                        2.651   Durbin-Watson:                   1.128\n",
      "Prob(Omnibus):                  0.266   Jarque-Bera (JB):                1.168\n",
      "Skew:                           0.047   Prob(JB):                        0.558\n",
      "Kurtosis:                       1.820   Cond. No.                         898.\n",
      "==============================================================================\n",
      "\n",
      "Warnings:\n",
      "[1] Standard Errors assume that the covariance matrix of the errors is correctly specified.\n"
     ]
    }
   ],
   "source": [
    "# 실습 단순선형회귀\n",
    "# 데이터 선언\n",
    "Strength = [37.6, 38.6, 37.2, 36.4, 38.6, 39, 37.2, 36.1, 35.9, 37.1, 36.9, 37.5, 36.3, 38.1, 39, 36.9, 36.8, 37.6, 33, 33.5]\n",
    "Baking_time = [0.798922, 0.84902, 0.816163, 0.758266, 0.815894, 0.807477, 0.809068, 0.7664, 0.742243, 0.751118, 0.740629, 0.751495, 0.738863, 0.827428, 0.818172, 0.740939, 0.757128, 0.804695, 0.695121, 0.735377]\n",
    "\n",
    "# Simple Linear Regression 실행\n",
    "Strength= sm.add_constant(Strength)\n",
    "model = sm.OLS(Baking_time,Strength)\n",
    "result = model.fit()\n",
    "\n",
    "# Simple Linear Regresion 결과 출력\n",
    "print(result.summary())"
   ]
  },
  {
   "cell_type": "raw",
   "metadata": {},
   "source": [
    "# 단순선형회귀\n",
    "1. 가설 수립\n",
    "귀무가설: 회귀 모형이 유의하지 않다. (모든 회귀 계수가 0이다.)\n",
    "대립가설: 회귀 모형이 유의하다. (적어도 하나의 회귀 계수는 0이 아니다.)\n",
    "\n",
    "2. 유의수준: 알파 = 0.05\n",
    "3.  F 검정통계량 = 32.90\n",
    "\n",
    "4. p-value가 1.95e-05이므로, 유의 수준 0.05보다 작다.\n",
    "유의수준 5%에서 귀무가설 기각을 할 수 있다."
   ]
  },
  {
   "cell_type": "raw",
   "metadata": {},
   "source": [
    "결론: 회귀식은 Baking_time = 0.0023 + 0.0209 * Strength, 설명력은 R-sq = 64.6% 이다"
   ]
  },
  {
   "cell_type": "code",
   "execution_count": 9,
   "metadata": {},
   "outputs": [
    {
     "data": {
      "text/plain": [
       "(0.9451944828033447, 0.29996079206466675)"
      ]
     },
     "execution_count": 9,
     "metadata": {},
     "output_type": "execute_result"
    },
    {
     "data": {
      "image/png": "[encoded data removed]",
      "text/plain": [
       "<Figure size 432x288 with 1 Axes>"
      ]
     },
     "metadata": {
      "needs_background": "light"
     },
     "output_type": "display_data"
    }
   ],
   "source": [
    "# 정규성 검정\n",
    "plt.hist(result.resid)\n",
    "shapiro(result.resid)"
   ]
  },
  {
   "cell_type": "raw",
   "metadata": {},
   "source": [
    "# 정규성 검정\n",
    "[histogram]\n",
    "그래프 모양을 보니 정규성을 따르지 않는 것같다.\n",
    "엄밀한 분석을 위해 shapiro 검정을 해본다.\n",
    "\n",
    "[shapiro 검정 결과]\n",
    "1. 가설 수립\n",
    "귀무가설: 정규성이 있다.\n",
    "대립가설: 정규성이 없다.\n",
    "\n",
    "2. 유의수준: 알파 = 0.05\n",
    "3. 검정통계량은 0.9451944828033447\n",
    "\n",
    "4. p-value가 0.29996079206466675이므로, 유의 수준 0.05보다 적다.\n",
    "유의수준 5%에서 귀무가설 기각을 할 수 있다.\n",
    "즉, 정규성이 있다고 할 수 없다. (정규성이 없다.)"
   ]
  },
  {
   "cell_type": "code",
   "execution_count": 10,
   "metadata": {},
   "outputs": [
    {
     "data": {
      "text/plain": [
       "<matplotlib.lines.Line2D at 0x7f7b7136a690>"
      ]
     },
     "execution_count": 10,
     "metadata": {},
     "output_type": "execute_result"
    },
    {
     "data": {
      "image/png": "[encoded data removed]",
      "text/plain": [
       "<Figure size 432x288 with 1 Axes>"
      ]
     },
     "metadata": {
      "needs_background": "light"
     },
     "output_type": "display_data"
    }
   ],
   "source": [
    "# 등분산성 검정\n",
    "plt.scatter(result.fittedvalues, result.resid)\n",
    "plt.xlabel(\"fitted value\")\n",
    "plt.ylabel(\"residual\")\n",
    "plt.axhline(y=0, linestyle = \"--\")"
   ]
  },
  {
   "cell_type": "raw",
   "metadata": {},
   "source": [
    "# 등분산성 검정\n",
    "\n",
    "\"--(점선)\"을 기준으로 볼 때 오른쪽 위 아래에 점들이 몰려 있다.\n",
    "시각적으로 등분산성이 만족한다고 하기 어렵다."
   ]
  },
  {
   "cell_type": "code",
   "execution_count": 11,
   "metadata": {},
   "outputs": [
    {
     "data": {
      "text/plain": [
       "<matplotlib.lines.Line2D at 0x7f7b7122a650>"
      ]
     },
     "execution_count": 11,
     "metadata": {},
     "output_type": "execute_result"
    },
    {
     "data": {
      "image/png": "[encoded data removed]",
      "text/plain": [
       "<Figure size 432x288 with 1 Axes>"
      ]
     },
     "metadata": {
      "needs_background": "light"
     },
     "output_type": "display_data"
    }
   ],
   "source": [
    "# 독립성 검정\n",
    "plt.scatter(range(0,20), result.resid, marker = \"o\")\n",
    "plt.xlabel(\"Data\")\n",
    "plt.ylabel(\"residual\")\n",
    "plt.axhline(y=0, linestyle = \"-\")\n",
    "plt.axhline(y=3*np.std(result.resid), linestyle = \"--\")\n",
    "plt.axhline(y=-3*np.std(result.resid), linestyle = \"--\")"
   ]
  },
  {
   "cell_type": "code",
   "execution_count": 12,
   "metadata": {},
   "outputs": [
    {
     "data": {
      "text/plain": [
       "1.1281763812390122"
      ]
     },
     "execution_count": 12,
     "metadata": {},
     "output_type": "execute_result"
    }
   ],
   "source": [
    "# 더빈왓슨 통계량\n",
    "from statsmodels.stats.stattools import durbin_watson\n",
    "durbin_watson(result.resid)"
   ]
  },
  {
   "cell_type": "raw",
   "metadata": {},
   "source": [
    "# 독립성 검정\n",
    "[scatter plot 분석]\n",
    "scatter plot을 통해 데이터의 분포를 살펴본다.\n",
    "데이터의 분포가 w의 분포를 띄어서 완전한 독립이라고 볼 수는 없다.\n",
    "엄밀한 분석을 위해 shapiro 검정을 해본다.\n",
    "\n",
    "[Durbin-Watson 검정]\n",
    "Durbin-Watson이 4에 가까우면 음의 자기 상관을 가지고\n",
    "Durbin-Watson이 2에 가까우면 자기 상관이 없다.\n",
    "Durbin-Watson이 0에 가까우면 양의 자기 상관을 가진다.\n",
    "Durbin-Watson 통계량은 1.128이다.\n",
    "즉, 약한 양의 상관 관계를 가진다."
   ]
  }
 ],
 "metadata": {
  "kernelspec": {
   "display_name": "Python 3",
   "language": "python",
   "name": "python3"
  },
  "language_info": {
   "codemirror_mode": {
    "name": "ipython",
    "version": 3
   },
   "file_extension": ".py",
   "mimetype": "text/x-python",
   "name": "python",
   "nbconvert_exporter": "python",
   "pygments_lexer": "ipython3",
   "version": "3.7.4"
  }
 },
 "nbformat": 4,
 "nbformat_minor": 2
}
